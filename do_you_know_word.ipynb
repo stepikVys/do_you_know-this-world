{
  "metadata": {
    "kernelspec": {
      "language": "python",
      "display_name": "Python 3",
      "name": "python3"
    },
    "language_info": {
      "name": "python",
      "version": "3.10.14",
      "mimetype": "text/x-python",
      "codemirror_mode": {
        "name": "ipython",
        "version": 3
      },
      "pygments_lexer": "ipython3",
      "nbconvert_exporter": "python",
      "file_extension": ".py"
    },
    "kaggle": {
      "accelerator": "gpu",
      "dataSources": [
        {
          "sourceId": 84323,
          "databundleVersionId": 9509061,
          "sourceType": "competition"
        },
        {
          "sourceId": 9332045,
          "sourceType": "datasetVersion",
          "datasetId": 5654421
        }
      ],
      "dockerImageVersionId": 30762,
      "isInternetEnabled": true,
      "language": "python",
      "sourceType": "notebook",
      "isGpuEnabled": true
    },
    "colab": {
      "provenance": []
    }
  },
  "nbformat_minor": 0,
  "nbformat": 4,
  "cells": [
    {
      "cell_type": "code",
      "source": [
        "from tqdm import tqdm\n",
        "import pandas as pd\n",
        "tqdm.pandas()\n",
        "import numpy as np"
      ],
      "metadata": {
        "execution": {
          "iopub.status.busy": "2024-09-12T06:56:14.898277Z",
          "iopub.execute_input": "2024-09-12T06:56:14.898699Z",
          "iopub.status.idle": "2024-09-12T06:56:15.378635Z",
          "shell.execute_reply.started": "2024-09-12T06:56:14.898657Z",
          "shell.execute_reply": "2024-09-12T06:56:15.377643Z"
        },
        "trusted": true,
        "id": "p2CX9M8p0472"
      },
      "execution_count": null,
      "outputs": []
    },
    {
      "cell_type": "code",
      "source": [
        "df_tests = pd.read_csv('/kaggle/input/do-i-know-this-word/clean_tests.csv')\n",
        "df_words = pd.read_csv('/kaggle/input/do-i-know-this-word/clean_words.csv')\n",
        "df_words_test = pd.read_csv('/kaggle/input/do-i-know-this-word/clean_words_test.csv')\n",
        "subm = pd.read_csv('/kaggle/input/do-i-know-this-word/sample_submission.csv')"
      ],
      "metadata": {
        "execution": {
          "iopub.status.busy": "2024-09-12T06:56:15.380319Z",
          "iopub.execute_input": "2024-09-12T06:56:15.380909Z",
          "iopub.status.idle": "2024-09-12T06:56:27.563669Z",
          "shell.execute_reply.started": "2024-09-12T06:56:15.380862Z",
          "shell.execute_reply": "2024-09-12T06:56:27.562659Z"
        },
        "trusted": true,
        "id": "dHlWqy7t0474"
      },
      "execution_count": null,
      "outputs": []
    },
    {
      "cell_type": "code",
      "source": [
        "df_tests"
      ],
      "metadata": {
        "execution": {
          "iopub.status.busy": "2024-09-12T06:56:27.565396Z",
          "iopub.execute_input": "2024-09-12T06:56:27.565734Z",
          "iopub.status.idle": "2024-09-12T06:56:27.602362Z",
          "shell.execute_reply.started": "2024-09-12T06:56:27.565684Z",
          "shell.execute_reply": "2024-09-12T06:56:27.601541Z"
        },
        "trusted": true,
        "id": "LgoQHwKi0475",
        "outputId": "b481ad22-d2e8-45ed-e473-8a154c0e2f6b"
      },
      "execution_count": null,
      "outputs": [
        {
          "execution_count": 3,
          "output_type": "execute_result",
          "data": {
            "text/plain": "       test_id  version  corpus_version       status  \\\n0          102        1               1    completed   \n1          104        1               1    completed   \n2          105        1               1    completed   \n3          107        1               1    completed   \n4          108        1               1    completed   \n...        ...      ...             ...          ...   \n83937   104177        2               1  in-progress   \n83938   104178        2               1  in-progress   \n83939   104180        2               1  in-progress   \n83940   104181        2               1  in-progress   \n83941   104182        2               1  in-progress   \n\n                       created_datetime                completed_datetime  \\\n0      2024-05-04 13:09:17.970000+00:00  2024-05-04 13:11:18.649000+00:00   \n1      2024-05-04 13:52:21.486000+00:00  2024-05-04 13:57:41.596000+00:00   \n2      2024-05-04 13:56:19.104000+00:00  2024-05-04 13:59:23.769000+00:00   \n3      2024-05-04 14:04:25.142000+00:00  2024-05-04 14:06:32.829000+00:00   \n4      2024-05-04 14:16:18.688000+00:00  2024-05-04 14:25:05.560000+00:00   \n...                                 ...                               ...   \n83937  2024-08-23 12:35:03.740000+00:00                               NaN   \n83938  2024-08-23 12:35:49.699000+00:00                               NaN   \n83939  2024-08-23 12:36:41.991000+00:00                               NaN   \n83940  2024-08-23 12:38:10.388000+00:00                               NaN   \n83941  2024-08-23 12:39:02.875000+00:00                               NaN   \n\n       test_year  test_month  test_day  test_hour country native_lang  \\\n0           2024           5         4         13      ER          xx   \n1           2024           5         4         13      EG          ar   \n2           2024           5         4         13      IN          te   \n3           2024           5         4         14      PK          ur   \n4           2024           5         4         14      AF          fa   \n...          ...         ...       ...        ...     ...         ...   \n83937       2024           8        23         12     NaN         NaN   \n83938       2024           8        23         12     NaN         NaN   \n83939       2024           8        23         12     NaN         NaN   \n83940       2024           8        23         12     NaN         NaN   \n83941       2024           8        23         12     NaN         NaN   \n\n       year_of_birth         education occupation  fake_checked_percentage  \n0             2004.0       high_school  education                 0.000000  \n1             2004.0               NaN        NaN                 0.000000  \n2             2009.0               NaN        NaN                 0.000000  \n3             2005.0    college_degree  education                 0.200000  \n4             1990.0  bachelors_degree   business                 0.066667  \n...              ...               ...        ...                      ...  \n83937            NaN               NaN        NaN                 0.000000  \n83938            NaN               NaN        NaN                 0.000000  \n83939            NaN               NaN        NaN                 0.235294  \n83940            NaN               NaN        NaN                 0.000000  \n83941            NaN               NaN        NaN                 0.250000  \n\n[83942 rows x 16 columns]",
            "text/html": "<div>\n<style scoped>\n    .dataframe tbody tr th:only-of-type {\n        vertical-align: middle;\n    }\n\n    .dataframe tbody tr th {\n        vertical-align: top;\n    }\n\n    .dataframe thead th {\n        text-align: right;\n    }\n</style>\n<table border=\"1\" class=\"dataframe\">\n  <thead>\n    <tr style=\"text-align: right;\">\n      <th></th>\n      <th>test_id</th>\n      <th>version</th>\n      <th>corpus_version</th>\n      <th>status</th>\n      <th>created_datetime</th>\n      <th>completed_datetime</th>\n      <th>test_year</th>\n      <th>test_month</th>\n      <th>test_day</th>\n      <th>test_hour</th>\n      <th>country</th>\n      <th>native_lang</th>\n      <th>year_of_birth</th>\n      <th>education</th>\n      <th>occupation</th>\n      <th>fake_checked_percentage</th>\n    </tr>\n  </thead>\n  <tbody>\n    <tr>\n      <th>0</th>\n      <td>102</td>\n      <td>1</td>\n      <td>1</td>\n      <td>completed</td>\n      <td>2024-05-04 13:09:17.970000+00:00</td>\n      <td>2024-05-04 13:11:18.649000+00:00</td>\n      <td>2024</td>\n      <td>5</td>\n      <td>4</td>\n      <td>13</td>\n      <td>ER</td>\n      <td>xx</td>\n      <td>2004.0</td>\n      <td>high_school</td>\n      <td>education</td>\n      <td>0.000000</td>\n    </tr>\n    <tr>\n      <th>1</th>\n      <td>104</td>\n      <td>1</td>\n      <td>1</td>\n      <td>completed</td>\n      <td>2024-05-04 13:52:21.486000+00:00</td>\n      <td>2024-05-04 13:57:41.596000+00:00</td>\n      <td>2024</td>\n      <td>5</td>\n      <td>4</td>\n      <td>13</td>\n      <td>EG</td>\n      <td>ar</td>\n      <td>2004.0</td>\n      <td>NaN</td>\n      <td>NaN</td>\n      <td>0.000000</td>\n    </tr>\n    <tr>\n      <th>2</th>\n      <td>105</td>\n      <td>1</td>\n      <td>1</td>\n      <td>completed</td>\n      <td>2024-05-04 13:56:19.104000+00:00</td>\n      <td>2024-05-04 13:59:23.769000+00:00</td>\n      <td>2024</td>\n      <td>5</td>\n      <td>4</td>\n      <td>13</td>\n      <td>IN</td>\n      <td>te</td>\n      <td>2009.0</td>\n      <td>NaN</td>\n      <td>NaN</td>\n      <td>0.000000</td>\n    </tr>\n    <tr>\n      <th>3</th>\n      <td>107</td>\n      <td>1</td>\n      <td>1</td>\n      <td>completed</td>\n      <td>2024-05-04 14:04:25.142000+00:00</td>\n      <td>2024-05-04 14:06:32.829000+00:00</td>\n      <td>2024</td>\n      <td>5</td>\n      <td>4</td>\n      <td>14</td>\n      <td>PK</td>\n      <td>ur</td>\n      <td>2005.0</td>\n      <td>college_degree</td>\n      <td>education</td>\n      <td>0.200000</td>\n    </tr>\n    <tr>\n      <th>4</th>\n      <td>108</td>\n      <td>1</td>\n      <td>1</td>\n      <td>completed</td>\n      <td>2024-05-04 14:16:18.688000+00:00</td>\n      <td>2024-05-04 14:25:05.560000+00:00</td>\n      <td>2024</td>\n      <td>5</td>\n      <td>4</td>\n      <td>14</td>\n      <td>AF</td>\n      <td>fa</td>\n      <td>1990.0</td>\n      <td>bachelors_degree</td>\n      <td>business</td>\n      <td>0.066667</td>\n    </tr>\n    <tr>\n      <th>...</th>\n      <td>...</td>\n      <td>...</td>\n      <td>...</td>\n      <td>...</td>\n      <td>...</td>\n      <td>...</td>\n      <td>...</td>\n      <td>...</td>\n      <td>...</td>\n      <td>...</td>\n      <td>...</td>\n      <td>...</td>\n      <td>...</td>\n      <td>...</td>\n      <td>...</td>\n      <td>...</td>\n    </tr>\n    <tr>\n      <th>83937</th>\n      <td>104177</td>\n      <td>2</td>\n      <td>1</td>\n      <td>in-progress</td>\n      <td>2024-08-23 12:35:03.740000+00:00</td>\n      <td>NaN</td>\n      <td>2024</td>\n      <td>8</td>\n      <td>23</td>\n      <td>12</td>\n      <td>NaN</td>\n      <td>NaN</td>\n      <td>NaN</td>\n      <td>NaN</td>\n      <td>NaN</td>\n      <td>0.000000</td>\n    </tr>\n    <tr>\n      <th>83938</th>\n      <td>104178</td>\n      <td>2</td>\n      <td>1</td>\n      <td>in-progress</td>\n      <td>2024-08-23 12:35:49.699000+00:00</td>\n      <td>NaN</td>\n      <td>2024</td>\n      <td>8</td>\n      <td>23</td>\n      <td>12</td>\n      <td>NaN</td>\n      <td>NaN</td>\n      <td>NaN</td>\n      <td>NaN</td>\n      <td>NaN</td>\n      <td>0.000000</td>\n    </tr>\n    <tr>\n      <th>83939</th>\n      <td>104180</td>\n      <td>2</td>\n      <td>1</td>\n      <td>in-progress</td>\n      <td>2024-08-23 12:36:41.991000+00:00</td>\n      <td>NaN</td>\n      <td>2024</td>\n      <td>8</td>\n      <td>23</td>\n      <td>12</td>\n      <td>NaN</td>\n      <td>NaN</td>\n      <td>NaN</td>\n      <td>NaN</td>\n      <td>NaN</td>\n      <td>0.235294</td>\n    </tr>\n    <tr>\n      <th>83940</th>\n      <td>104181</td>\n      <td>2</td>\n      <td>1</td>\n      <td>in-progress</td>\n      <td>2024-08-23 12:38:10.388000+00:00</td>\n      <td>NaN</td>\n      <td>2024</td>\n      <td>8</td>\n      <td>23</td>\n      <td>12</td>\n      <td>NaN</td>\n      <td>NaN</td>\n      <td>NaN</td>\n      <td>NaN</td>\n      <td>NaN</td>\n      <td>0.000000</td>\n    </tr>\n    <tr>\n      <th>83941</th>\n      <td>104182</td>\n      <td>2</td>\n      <td>1</td>\n      <td>in-progress</td>\n      <td>2024-08-23 12:39:02.875000+00:00</td>\n      <td>NaN</td>\n      <td>2024</td>\n      <td>8</td>\n      <td>23</td>\n      <td>12</td>\n      <td>NaN</td>\n      <td>NaN</td>\n      <td>NaN</td>\n      <td>NaN</td>\n      <td>NaN</td>\n      <td>0.250000</td>\n    </tr>\n  </tbody>\n</table>\n<p>83942 rows × 16 columns</p>\n</div>"
          },
          "metadata": {}
        }
      ]
    },
    {
      "cell_type": "code",
      "source": [
        "X_train = df_words.merge(df_tests, on=\"test_id\")\n",
        "X_test = df_words_test.merge(df_tests, on=\"test_id\")"
      ],
      "metadata": {
        "execution": {
          "iopub.status.busy": "2024-09-12T06:56:27.603617Z",
          "iopub.execute_input": "2024-09-12T06:56:27.604064Z",
          "iopub.status.idle": "2024-09-12T06:56:31.694134Z",
          "shell.execute_reply.started": "2024-09-12T06:56:27.604025Z",
          "shell.execute_reply": "2024-09-12T06:56:31.693145Z"
        },
        "trusted": true,
        "id": "k15g9pEq0476"
      },
      "execution_count": null,
      "outputs": []
    },
    {
      "cell_type": "code",
      "source": [
        "X_train['checked_per'] = X_train.groupby('test_id')[\"checked\"].transform(\"mean\")\n",
        "X_test['checked_per'] = X_train.groupby('test_id')[\"checked\"].transform(\"mean\")"
      ],
      "metadata": {
        "execution": {
          "iopub.status.busy": "2024-09-12T06:56:31.696344Z",
          "iopub.execute_input": "2024-09-12T06:56:31.696657Z",
          "iopub.status.idle": "2024-09-12T06:56:32.599696Z",
          "shell.execute_reply.started": "2024-09-12T06:56:31.696622Z",
          "shell.execute_reply": "2024-09-12T06:56:32.598664Z"
        },
        "trusted": true,
        "id": "6oC0bUMM0476"
      },
      "execution_count": null,
      "outputs": []
    },
    {
      "cell_type": "code",
      "source": [
        "X_train"
      ],
      "metadata": {
        "execution": {
          "iopub.status.busy": "2024-09-12T06:56:32.601156Z",
          "iopub.execute_input": "2024-09-12T06:56:32.601905Z",
          "iopub.status.idle": "2024-09-12T06:56:39.142632Z",
          "shell.execute_reply.started": "2024-09-12T06:56:32.601865Z",
          "shell.execute_reply": "2024-09-12T06:56:39.141676Z"
        },
        "trusted": true,
        "id": "QU_y2kO00476",
        "outputId": "dda183ec-3549-41c4-fd14-c3c2ce9b651c"
      },
      "execution_count": null,
      "outputs": [
        {
          "execution_count": 6,
          "output_type": "execute_result",
          "data": {
            "text/plain": "         testword_id  test_id            word  word_order  fake  \\\n0                  0    23240         crustal        69.0     0   \n1                  1    25923        prideful        55.0     0   \n2                  2    22812        boneless        53.0     0   \n3                  3    66063    reorganizing        92.0     0   \n4                  4    63600           salsa        33.0     0   \n...              ...      ...             ...         ...   ...   \n8667029      8855888    89690         auditor        17.0     0   \n8667030      8855890    59975        opposing        32.0     0   \n8667031      8855891    23881        lawgiver       132.0     0   \n8667032      8855892    14768          stayed        51.0     0   \n8667033      8855893    97856  insufficiently        58.0     0   \n\n         decision_time  checked  version  corpus_version       status  ...  \\\n0                1.036        0        2               1    completed  ...   \n1                3.141        0        2               1  in-progress  ...   \n2                1.536        1        2               1  in-progress  ...   \n3                3.292        1        2               1    completed  ...   \n4                1.675        1        2               1  in-progress  ...   \n...                ...      ...      ...             ...          ...  ...   \n8667029          1.501        1        2               1  in-progress  ...   \n8667030          4.025        0        2               1  in-progress  ...   \n8667031          1.188        1        2               1    completed  ...   \n8667032          0.915        1        2               1    completed  ...   \n8667033          1.208        1        2               1    completed  ...   \n\n        test_month test_day  test_hour  country  native_lang  year_of_birth  \\\n0                6       17          8       IT           it         2008.0   \n1                6       19          9      NaN          NaN            NaN   \n2                6       16         20      NaN          NaN            NaN   \n3                7       25          1       PK           ur         1988.0   \n4                7       22         19      NaN          NaN            NaN   \n...            ...      ...        ...      ...          ...            ...   \n8667029          8       13          8      NaN          NaN            NaN   \n8667030          7       19         11      NaN          NaN            NaN   \n8667031          6       17         17       IN           ml         2005.0   \n8667032          6        9         17       IN           ml         1991.0   \n8667033          8       18         20       PK           ur         2003.0   \n\n                education occupation  fake_checked_percentage checked_per  \n0             high_school      other                 0.041667    0.523810  \n1                     NaN        NaN                 0.041667    0.563492  \n2                     NaN        NaN                 0.208333    0.436508  \n3          college_degree        NaN                 0.208333    0.587302  \n4                     NaN        NaN                 0.000000    0.690476  \n...                   ...        ...                      ...         ...  \n8667029               NaN        NaN                 0.041667    0.674603  \n8667030               NaN        NaN                 0.125000    0.595238  \n8667031       high_school      other                 0.208333    0.587302  \n8667032  bachelors_degree      other                 0.000000    0.420635  \n8667033       high_school      other                 0.000000    0.341270  \n\n[8667034 rows x 23 columns]",
            "text/html": "<div>\n<style scoped>\n    .dataframe tbody tr th:only-of-type {\n        vertical-align: middle;\n    }\n\n    .dataframe tbody tr th {\n        vertical-align: top;\n    }\n\n    .dataframe thead th {\n        text-align: right;\n    }\n</style>\n<table border=\"1\" class=\"dataframe\">\n  <thead>\n    <tr style=\"text-align: right;\">\n      <th></th>\n      <th>testword_id</th>\n      <th>test_id</th>\n      <th>word</th>\n      <th>word_order</th>\n      <th>fake</th>\n      <th>decision_time</th>\n      <th>checked</th>\n      <th>version</th>\n      <th>corpus_version</th>\n      <th>status</th>\n      <th>...</th>\n      <th>test_month</th>\n      <th>test_day</th>\n      <th>test_hour</th>\n      <th>country</th>\n      <th>native_lang</th>\n      <th>year_of_birth</th>\n      <th>education</th>\n      <th>occupation</th>\n      <th>fake_checked_percentage</th>\n      <th>checked_per</th>\n    </tr>\n  </thead>\n  <tbody>\n    <tr>\n      <th>0</th>\n      <td>0</td>\n      <td>23240</td>\n      <td>crustal</td>\n      <td>69.0</td>\n      <td>0</td>\n      <td>1.036</td>\n      <td>0</td>\n      <td>2</td>\n      <td>1</td>\n      <td>completed</td>\n      <td>...</td>\n      <td>6</td>\n      <td>17</td>\n      <td>8</td>\n      <td>IT</td>\n      <td>it</td>\n      <td>2008.0</td>\n      <td>high_school</td>\n      <td>other</td>\n      <td>0.041667</td>\n      <td>0.523810</td>\n    </tr>\n    <tr>\n      <th>1</th>\n      <td>1</td>\n      <td>25923</td>\n      <td>prideful</td>\n      <td>55.0</td>\n      <td>0</td>\n      <td>3.141</td>\n      <td>0</td>\n      <td>2</td>\n      <td>1</td>\n      <td>in-progress</td>\n      <td>...</td>\n      <td>6</td>\n      <td>19</td>\n      <td>9</td>\n      <td>NaN</td>\n      <td>NaN</td>\n      <td>NaN</td>\n      <td>NaN</td>\n      <td>NaN</td>\n      <td>0.041667</td>\n      <td>0.563492</td>\n    </tr>\n    <tr>\n      <th>2</th>\n      <td>2</td>\n      <td>22812</td>\n      <td>boneless</td>\n      <td>53.0</td>\n      <td>0</td>\n      <td>1.536</td>\n      <td>1</td>\n      <td>2</td>\n      <td>1</td>\n      <td>in-progress</td>\n      <td>...</td>\n      <td>6</td>\n      <td>16</td>\n      <td>20</td>\n      <td>NaN</td>\n      <td>NaN</td>\n      <td>NaN</td>\n      <td>NaN</td>\n      <td>NaN</td>\n      <td>0.208333</td>\n      <td>0.436508</td>\n    </tr>\n    <tr>\n      <th>3</th>\n      <td>3</td>\n      <td>66063</td>\n      <td>reorganizing</td>\n      <td>92.0</td>\n      <td>0</td>\n      <td>3.292</td>\n      <td>1</td>\n      <td>2</td>\n      <td>1</td>\n      <td>completed</td>\n      <td>...</td>\n      <td>7</td>\n      <td>25</td>\n      <td>1</td>\n      <td>PK</td>\n      <td>ur</td>\n      <td>1988.0</td>\n      <td>college_degree</td>\n      <td>NaN</td>\n      <td>0.208333</td>\n      <td>0.587302</td>\n    </tr>\n    <tr>\n      <th>4</th>\n      <td>4</td>\n      <td>63600</td>\n      <td>salsa</td>\n      <td>33.0</td>\n      <td>0</td>\n      <td>1.675</td>\n      <td>1</td>\n      <td>2</td>\n      <td>1</td>\n      <td>in-progress</td>\n      <td>...</td>\n      <td>7</td>\n      <td>22</td>\n      <td>19</td>\n      <td>NaN</td>\n      <td>NaN</td>\n      <td>NaN</td>\n      <td>NaN</td>\n      <td>NaN</td>\n      <td>0.000000</td>\n      <td>0.690476</td>\n    </tr>\n    <tr>\n      <th>...</th>\n      <td>...</td>\n      <td>...</td>\n      <td>...</td>\n      <td>...</td>\n      <td>...</td>\n      <td>...</td>\n      <td>...</td>\n      <td>...</td>\n      <td>...</td>\n      <td>...</td>\n      <td>...</td>\n      <td>...</td>\n      <td>...</td>\n      <td>...</td>\n      <td>...</td>\n      <td>...</td>\n      <td>...</td>\n      <td>...</td>\n      <td>...</td>\n      <td>...</td>\n      <td>...</td>\n    </tr>\n    <tr>\n      <th>8667029</th>\n      <td>8855888</td>\n      <td>89690</td>\n      <td>auditor</td>\n      <td>17.0</td>\n      <td>0</td>\n      <td>1.501</td>\n      <td>1</td>\n      <td>2</td>\n      <td>1</td>\n      <td>in-progress</td>\n      <td>...</td>\n      <td>8</td>\n      <td>13</td>\n      <td>8</td>\n      <td>NaN</td>\n      <td>NaN</td>\n      <td>NaN</td>\n      <td>NaN</td>\n      <td>NaN</td>\n      <td>0.041667</td>\n      <td>0.674603</td>\n    </tr>\n    <tr>\n      <th>8667030</th>\n      <td>8855890</td>\n      <td>59975</td>\n      <td>opposing</td>\n      <td>32.0</td>\n      <td>0</td>\n      <td>4.025</td>\n      <td>0</td>\n      <td>2</td>\n      <td>1</td>\n      <td>in-progress</td>\n      <td>...</td>\n      <td>7</td>\n      <td>19</td>\n      <td>11</td>\n      <td>NaN</td>\n      <td>NaN</td>\n      <td>NaN</td>\n      <td>NaN</td>\n      <td>NaN</td>\n      <td>0.125000</td>\n      <td>0.595238</td>\n    </tr>\n    <tr>\n      <th>8667031</th>\n      <td>8855891</td>\n      <td>23881</td>\n      <td>lawgiver</td>\n      <td>132.0</td>\n      <td>0</td>\n      <td>1.188</td>\n      <td>1</td>\n      <td>2</td>\n      <td>1</td>\n      <td>completed</td>\n      <td>...</td>\n      <td>6</td>\n      <td>17</td>\n      <td>17</td>\n      <td>IN</td>\n      <td>ml</td>\n      <td>2005.0</td>\n      <td>high_school</td>\n      <td>other</td>\n      <td>0.208333</td>\n      <td>0.587302</td>\n    </tr>\n    <tr>\n      <th>8667032</th>\n      <td>8855892</td>\n      <td>14768</td>\n      <td>stayed</td>\n      <td>51.0</td>\n      <td>0</td>\n      <td>0.915</td>\n      <td>1</td>\n      <td>2</td>\n      <td>1</td>\n      <td>completed</td>\n      <td>...</td>\n      <td>6</td>\n      <td>9</td>\n      <td>17</td>\n      <td>IN</td>\n      <td>ml</td>\n      <td>1991.0</td>\n      <td>bachelors_degree</td>\n      <td>other</td>\n      <td>0.000000</td>\n      <td>0.420635</td>\n    </tr>\n    <tr>\n      <th>8667033</th>\n      <td>8855893</td>\n      <td>97856</td>\n      <td>insufficiently</td>\n      <td>58.0</td>\n      <td>0</td>\n      <td>1.208</td>\n      <td>1</td>\n      <td>2</td>\n      <td>1</td>\n      <td>completed</td>\n      <td>...</td>\n      <td>8</td>\n      <td>18</td>\n      <td>20</td>\n      <td>PK</td>\n      <td>ur</td>\n      <td>2003.0</td>\n      <td>high_school</td>\n      <td>other</td>\n      <td>0.000000</td>\n      <td>0.341270</td>\n    </tr>\n  </tbody>\n</table>\n<p>8667034 rows × 23 columns</p>\n</div>"
          },
          "metadata": {}
        }
      ]
    },
    {
      "cell_type": "code",
      "source": [
        "X_train['age'] = X_train['test_year'] - X_train['year_of_birth']\n",
        "X_train['created_datetime'], X_train['completed_datetime'] = pd.to_datetime(X_train['created_datetime'], errors='coerce'), pd.to_datetime(X_train['completed_datetime'], errors='coerce')\n",
        "X_train['runtime'] = X_train['completed_datetime'] - X_train['created_datetime']\n",
        "\n",
        "X_test['age'] = X_test['test_year'] - X_test['year_of_birth']\n",
        "X_test['created_datetime'], X_test['completed_datetime'] = pd.to_datetime(X_test['created_datetime'], errors='coerce'), pd.to_datetime(X_test['completed_datetime'], errors='coerce')\n",
        "X_test['runtime'] = X_test['completed_datetime'] - X_test['created_datetime']"
      ],
      "metadata": {
        "execution": {
          "iopub.status.busy": "2024-09-12T06:56:39.143885Z",
          "iopub.execute_input": "2024-09-12T06:56:39.144340Z",
          "iopub.status.idle": "2024-09-12T06:56:56.359044Z",
          "shell.execute_reply.started": "2024-09-12T06:56:39.144294Z",
          "shell.execute_reply": "2024-09-12T06:56:56.358265Z"
        },
        "trusted": true,
        "id": "EUdXFDtL0477"
      },
      "execution_count": null,
      "outputs": []
    },
    {
      "cell_type": "code",
      "source": [
        "# from sklearn.preprocessing import OneHotEncoder\n",
        "# encoder = OneHotEncoder(sparse_output=False)\n",
        "\n",
        "# X_train['version'] = X_train['version'].astype('object')\n",
        "# categorical_columns = X_train[['status', 'version']].select_dtypes(include=['object']).columns.tolist()\n",
        "\n",
        "# one_hot_encoded_train = encoder.fit_transform(X_train[categorical_columns])\n",
        "# one_hot_df_train = pd.DataFrame(one_hot_encoded_train, columns=encoder.get_feature_names_out(categorical_columns))\n",
        "# X_train = pd.concat([X_train, one_hot_df_train], axis=1)\n",
        "\n",
        "\n",
        "# X_test['version'] = X_test['version'].astype('object')\n",
        "# categorical_columns = X_test[['status', 'version']].select_dtypes(include=['object']).columns.tolist()\n",
        "\n",
        "# one_hot_encoded_test = encoder.fit_transform(X_test[categorical_columns])\n",
        "# one_hot_df_test = pd.DataFrame(one_hot_encoded_test, columns=encoder.get_feature_names_out(categorical_columns))\n",
        "# X_test = pd.concat([X_test, one_hot_df_test], axis=1)\n",
        "\n",
        "\n",
        "# X_test = X_test.drop(['version'], axis=1)\n",
        "# X_train = X_train.drop(['version'], axis=1)\n",
        "# drop status??"
      ],
      "metadata": {
        "execution": {
          "iopub.status.busy": "2024-09-12T06:56:56.360152Z",
          "iopub.execute_input": "2024-09-12T06:56:56.360481Z",
          "iopub.status.idle": "2024-09-12T06:56:56.365153Z",
          "shell.execute_reply.started": "2024-09-12T06:56:56.360448Z",
          "shell.execute_reply": "2024-09-12T06:56:56.364222Z"
        },
        "trusted": true,
        "id": "38XHjHc60477"
      },
      "execution_count": null,
      "outputs": []
    },
    {
      "cell_type": "code",
      "source": [
        "# X_test = X_test.drop(['created_datetime', 'completed_datetime', 'year_of_birth', 'test_year', 'test_month', 'test_day', 'fake', 'corpus_version', 'status', 'version', 'status_completed'], axis=1)\n",
        "# X_train = X_train.drop(['created_datetime', 'completed_datetime', 'year_of_birth', 'test_year', 'test_day', 'test_month', 'word_order', 'decision_time', 'fake', 'corpus_version', 'status', 'version', 'status_completed', 'status_in-progress'], axis=1)\n",
        "\n",
        "X_test = X_test.drop(['created_datetime', 'completed_datetime', 'fake', 'corpus_version'], axis=1)\n",
        "X_train = X_train.drop(['created_datetime', 'completed_datetime', 'word_order', 'decision_time', 'fake', 'corpus_version'], axis=1)"
      ],
      "metadata": {
        "execution": {
          "iopub.status.busy": "2024-09-12T06:56:56.366477Z",
          "iopub.execute_input": "2024-09-12T06:56:56.366759Z",
          "iopub.status.idle": "2024-09-12T06:56:57.355557Z",
          "shell.execute_reply.started": "2024-09-12T06:56:56.366728Z",
          "shell.execute_reply": "2024-09-12T06:56:57.354743Z"
        },
        "trusted": true,
        "id": "0QD6tMPb0477"
      },
      "execution_count": null,
      "outputs": []
    },
    {
      "cell_type": "code",
      "source": [
        "X_train['native_lang_new'] = X_train['native_lang'].apply((lambda x: 1 if x=='en' else 0))\n",
        "X_test['native_lang_new'] = X_test['native_lang'].apply((lambda x: 1 if x=='en' else 0))\n",
        "X_train['country_new'] = X_train['country'].apply((lambda x: 1 if x in ['NZ', 'GB', 'US', 'AU, IN'] else 0))\n",
        "X_test['country_new'] = X_test['country'].apply((lambda x: 1 if x in ['NZ', 'GB', 'US', 'AU', 'IN'] else 0))"
      ],
      "metadata": {
        "execution": {
          "iopub.status.busy": "2024-09-12T06:56:57.357004Z",
          "iopub.execute_input": "2024-09-12T06:56:57.357319Z",
          "iopub.status.idle": "2024-09-12T06:57:09.985492Z",
          "shell.execute_reply.started": "2024-09-12T06:56:57.357285Z",
          "shell.execute_reply": "2024-09-12T06:57:09.984649Z"
        },
        "trusted": true,
        "id": "hmR5o9vd0478"
      },
      "execution_count": null,
      "outputs": []
    },
    {
      "cell_type": "code",
      "source": [
        "import random\n",
        "X_train['native_lang'] = X_train['native_lang'].apply((lambda x: random.choice(['ar', 'en', 'hi', 'es']) if pd.isna(x) else x))\n",
        "X_test['native_lang'] = X_test['native_lang'].apply((lambda x: random.choice(['ar', 'en', 'hi', 'es']) if pd.isna(x) else x))\n",
        "\n",
        "X_train['country'] = X_train['country'].apply((lambda x: random.choice(['IN', 'EG', 'PK', 'PH', 'IT']) if pd.isna(x) else x))\n",
        "X_test['country'] = X_test['country'].apply((lambda x: random.choice(['IN', 'EG', 'PK', 'PH', 'IT']) if pd.isna(x) else x))"
      ],
      "metadata": {
        "execution": {
          "iopub.status.busy": "2024-09-12T06:57:09.988544Z",
          "iopub.execute_input": "2024-09-12T06:57:09.988877Z",
          "iopub.status.idle": "2024-09-12T06:57:31.148099Z",
          "shell.execute_reply.started": "2024-09-12T06:57:09.988843Z",
          "shell.execute_reply": "2024-09-12T06:57:31.147132Z"
        },
        "trusted": true,
        "id": "kZlnSa9-0478"
      },
      "execution_count": null,
      "outputs": []
    },
    {
      "cell_type": "code",
      "source": [
        "year_of_birth_mode = X_train['year_of_birth'].mode()\n",
        "X_train['year_of_birth'] = X_train['year_of_birth'].fillna(float(year_of_birth_mode.iloc[0]))\n",
        "X_test['year_of_birth'] = X_test['year_of_birth'].fillna(float(year_of_birth_mode.iloc[0]))"
      ],
      "metadata": {
        "execution": {
          "iopub.status.busy": "2024-09-12T06:57:31.149119Z",
          "iopub.execute_input": "2024-09-12T06:57:31.149394Z",
          "iopub.status.idle": "2024-09-12T06:57:31.353300Z",
          "shell.execute_reply.started": "2024-09-12T06:57:31.149363Z",
          "shell.execute_reply": "2024-09-12T06:57:31.352262Z"
        },
        "trusted": true,
        "id": "b232VZPJ0478"
      },
      "execution_count": null,
      "outputs": []
    },
    {
      "cell_type": "code",
      "source": [
        "from sklearn.preprocessing import OrdinalEncoder\n",
        "\n",
        "X_train['education'] = X_train['education'].fillna('other')\n",
        "education = ['none', 'primary_school', 'other', 'high_school', 'college_degree', 'bachelors_degree', 'masters_degree', 'doctorate_degree', 'postgraduate_studies']\n",
        "encoder = OrdinalEncoder(categories = [education])\n",
        "X_train['education_new'] = encoder.fit_transform(X_train[['education']])\n",
        "\n",
        "X_test['education'] = X_test['education'].fillna('other')\n",
        "education = ['none', 'primary_school', 'other', 'high_school', 'college_degree', 'bachelors_degree', 'masters_degree', 'doctorate_degree', 'postgraduate_studies']\n",
        "encoder = OrdinalEncoder(categories = [education])\n",
        "X_test['education_new'] = encoder.fit_transform(X_test[['education']])"
      ],
      "metadata": {
        "execution": {
          "iopub.status.busy": "2024-09-12T06:57:31.354560Z",
          "iopub.execute_input": "2024-09-12T06:57:31.354858Z",
          "iopub.status.idle": "2024-09-12T06:57:35.765747Z",
          "shell.execute_reply.started": "2024-09-12T06:57:31.354825Z",
          "shell.execute_reply": "2024-09-12T06:57:35.764662Z"
        },
        "trusted": true,
        "id": "jFGmtfJD0478"
      },
      "execution_count": null,
      "outputs": []
    },
    {
      "cell_type": "code",
      "source": [
        "X_train['occupation'] = X_train['occupation'].fillna('other')\n",
        "occupation = ['constructions', 'transportation', 'food', 'production', 'admin', 'sales','other', 'healthcare', 'business', 'technology', 'education']\n",
        "encoder = OrdinalEncoder(categories = [occupation])\n",
        "X_train['occupation_new'] = encoder.fit_transform(X_train[['occupation']])\n",
        "\n",
        "X_test['occupation'] = X_test['occupation'].fillna('other')\n",
        "occupation = ['constructions', 'transportation', 'food', 'production', 'admin', 'sales','other', 'healthcare', 'business', 'technology', 'education']\n",
        "encoder = OrdinalEncoder(categories = [occupation])\n",
        "X_test['occupation_new'] = encoder.fit_transform(X_test[['occupation']])"
      ],
      "metadata": {
        "execution": {
          "iopub.status.busy": "2024-09-12T06:57:35.767008Z",
          "iopub.execute_input": "2024-09-12T06:57:35.767550Z",
          "iopub.status.idle": "2024-09-12T06:57:39.693735Z",
          "shell.execute_reply.started": "2024-09-12T06:57:35.767514Z",
          "shell.execute_reply": "2024-09-12T06:57:39.692754Z"
        },
        "trusted": true,
        "id": "Fmb-kICf0479"
      },
      "execution_count": null,
      "outputs": []
    },
    {
      "cell_type": "code",
      "source": [
        "age_mode = X_train['age'].mode()\n",
        "X_train['age'] = X_train['age'].fillna(float(age_mode.iloc[0]))\n",
        "X_test['age'] = X_test['age'].fillna(float(age_mode.iloc[0]))"
      ],
      "metadata": {
        "execution": {
          "iopub.status.busy": "2024-09-12T06:57:39.696005Z",
          "iopub.execute_input": "2024-09-12T06:57:39.696901Z",
          "iopub.status.idle": "2024-09-12T06:57:39.881483Z",
          "shell.execute_reply.started": "2024-09-12T06:57:39.696854Z",
          "shell.execute_reply": "2024-09-12T06:57:39.880548Z"
        },
        "trusted": true,
        "id": "BDPQJ9yx0479"
      },
      "execution_count": null,
      "outputs": []
    },
    {
      "cell_type": "code",
      "source": [
        "X_train['runtime'] = X_train['runtime'].apply((lambda x: x.total_seconds())).astype(float)\n",
        "X_test['runtime'] = X_test['runtime'].apply((lambda x: x.total_seconds())).astype(float)\n",
        "runtime_mode = X_train['runtime'].mode()"
      ],
      "metadata": {
        "execution": {
          "iopub.status.busy": "2024-09-12T06:57:39.882656Z",
          "iopub.execute_input": "2024-09-12T06:57:39.882974Z",
          "iopub.status.idle": "2024-09-12T06:58:02.701191Z",
          "shell.execute_reply.started": "2024-09-12T06:57:39.882941Z",
          "shell.execute_reply": "2024-09-12T06:58:02.700266Z"
        },
        "trusted": true,
        "id": "scEzePI00479"
      },
      "execution_count": null,
      "outputs": []
    },
    {
      "cell_type": "code",
      "source": [
        "runtime_mode = X_train['runtime'].mode().iloc[0]\n",
        "X_train['runtime'] = X_train['runtime'].fillna(runtime_mode)\n",
        "X_test['runtime'] = X_test['runtime'].fillna(runtime_mode)"
      ],
      "metadata": {
        "execution": {
          "iopub.status.busy": "2024-09-12T06:58:02.702348Z",
          "iopub.execute_input": "2024-09-12T06:58:02.702654Z",
          "iopub.status.idle": "2024-09-12T06:58:03.182284Z",
          "shell.execute_reply.started": "2024-09-12T06:58:02.702621Z",
          "shell.execute_reply": "2024-09-12T06:58:03.181180Z"
        },
        "trusted": true,
        "id": "mqX92LNB0479"
      },
      "execution_count": null,
      "outputs": []
    },
    {
      "cell_type": "code",
      "source": [
        "X_train['len'] = X_train['word'].apply((lambda x: (len(x))))\n",
        "X_test['len'] = X_test['word'].apply((lambda x: (len(x))))"
      ],
      "metadata": {
        "execution": {
          "iopub.status.busy": "2024-09-12T06:58:03.183868Z",
          "iopub.execute_input": "2024-09-12T06:58:03.184230Z",
          "iopub.status.idle": "2024-09-12T06:58:09.200853Z",
          "shell.execute_reply.started": "2024-09-12T06:58:03.184183Z",
          "shell.execute_reply": "2024-09-12T06:58:09.199854Z"
        },
        "trusted": true,
        "id": "-1s91QXM047-"
      },
      "execution_count": null,
      "outputs": []
    },
    {
      "cell_type": "code",
      "source": [
        "X_train['version'] = X_train['version'].astype('object')\n",
        "X_test['version'] = X_test['version'].astype('object')"
      ],
      "metadata": {
        "execution": {
          "iopub.status.busy": "2024-09-12T06:58:09.202137Z",
          "iopub.execute_input": "2024-09-12T06:58:09.202459Z",
          "iopub.status.idle": "2024-09-12T06:58:09.537251Z",
          "shell.execute_reply.started": "2024-09-12T06:58:09.202418Z",
          "shell.execute_reply": "2024-09-12T06:58:09.536153Z"
        },
        "trusted": true,
        "id": "-4dnHCr1047-"
      },
      "execution_count": null,
      "outputs": []
    },
    {
      "cell_type": "code",
      "source": [
        "X_train"
      ],
      "metadata": {
        "execution": {
          "iopub.status.busy": "2024-09-12T06:58:09.538517Z",
          "iopub.execute_input": "2024-09-12T06:58:09.538940Z",
          "iopub.status.idle": "2024-09-12T06:58:17.040483Z",
          "shell.execute_reply.started": "2024-09-12T06:58:09.538888Z",
          "shell.execute_reply": "2024-09-12T06:58:17.039527Z"
        },
        "trusted": true,
        "id": "m-5hh-Ok047-",
        "outputId": "8f28178e-ad36-4593-cf23-8b47263d4ff9"
      },
      "execution_count": null,
      "outputs": [
        {
          "execution_count": 20,
          "output_type": "execute_result",
          "data": {
            "text/plain": "         testword_id  test_id            word  checked version       status  \\\n0                  0    23240         crustal        0       2    completed   \n1                  1    25923        prideful        0       2  in-progress   \n2                  2    22812        boneless        1       2  in-progress   \n3                  3    66063    reorganizing        1       2    completed   \n4                  4    63600           salsa        1       2  in-progress   \n...              ...      ...             ...      ...     ...          ...   \n8667029      8855888    89690         auditor        1       2  in-progress   \n8667030      8855890    59975        opposing        0       2  in-progress   \n8667031      8855891    23881        lawgiver        1       2    completed   \n8667032      8855892    14768          stayed        1       2    completed   \n8667033      8855893    97856  insufficiently        1       2    completed   \n\n         test_year  test_month  test_day  test_hour  ... occupation  \\\n0             2024           6        17          8  ...      other   \n1             2024           6        19          9  ...      other   \n2             2024           6        16         20  ...      other   \n3             2024           7        25          1  ...      other   \n4             2024           7        22         19  ...      other   \n...            ...         ...       ...        ...  ...        ...   \n8667029       2024           8        13          8  ...      other   \n8667030       2024           7        19         11  ...      other   \n8667031       2024           6        17         17  ...      other   \n8667032       2024           6         9         17  ...      other   \n8667033       2024           8        18         20  ...      other   \n\n        fake_checked_percentage  checked_per   age  runtime  native_lang_new  \\\n0                      0.041667     0.523810  16.0  250.060                0   \n1                      0.041667     0.563492  19.0  313.956                0   \n2                      0.208333     0.436508  19.0  313.956                0   \n3                      0.208333     0.587302  36.0  695.638                0   \n4                      0.000000     0.690476  19.0  313.956                0   \n...                         ...          ...   ...      ...              ...   \n8667029                0.041667     0.674603  19.0  313.956                0   \n8667030                0.125000     0.595238  19.0  313.956                0   \n8667031                0.208333     0.587302  19.0  247.629                0   \n8667032                0.000000     0.420635  33.0  340.801                0   \n8667033                0.000000     0.341270  21.0  244.537                0   \n\n         country_new  education_new  occupation_new  len  \n0                  0            3.0             6.0    7  \n1                  0            2.0             6.0    8  \n2                  0            2.0             6.0    8  \n3                  0            4.0             6.0   12  \n4                  0            2.0             6.0    5  \n...              ...            ...             ...  ...  \n8667029            0            2.0             6.0    7  \n8667030            0            2.0             6.0    8  \n8667031            0            3.0             6.0    8  \n8667032            0            5.0             6.0    6  \n8667033            0            3.0             6.0   14  \n\n[8667034 rows x 24 columns]",
            "text/html": "<div>\n<style scoped>\n    .dataframe tbody tr th:only-of-type {\n        vertical-align: middle;\n    }\n\n    .dataframe tbody tr th {\n        vertical-align: top;\n    }\n\n    .dataframe thead th {\n        text-align: right;\n    }\n</style>\n<table border=\"1\" class=\"dataframe\">\n  <thead>\n    <tr style=\"text-align: right;\">\n      <th></th>\n      <th>testword_id</th>\n      <th>test_id</th>\n      <th>word</th>\n      <th>checked</th>\n      <th>version</th>\n      <th>status</th>\n      <th>test_year</th>\n      <th>test_month</th>\n      <th>test_day</th>\n      <th>test_hour</th>\n      <th>...</th>\n      <th>occupation</th>\n      <th>fake_checked_percentage</th>\n      <th>checked_per</th>\n      <th>age</th>\n      <th>runtime</th>\n      <th>native_lang_new</th>\n      <th>country_new</th>\n      <th>education_new</th>\n      <th>occupation_new</th>\n      <th>len</th>\n    </tr>\n  </thead>\n  <tbody>\n    <tr>\n      <th>0</th>\n      <td>0</td>\n      <td>23240</td>\n      <td>crustal</td>\n      <td>0</td>\n      <td>2</td>\n      <td>completed</td>\n      <td>2024</td>\n      <td>6</td>\n      <td>17</td>\n      <td>8</td>\n      <td>...</td>\n      <td>other</td>\n      <td>0.041667</td>\n      <td>0.523810</td>\n      <td>16.0</td>\n      <td>250.060</td>\n      <td>0</td>\n      <td>0</td>\n      <td>3.0</td>\n      <td>6.0</td>\n      <td>7</td>\n    </tr>\n    <tr>\n      <th>1</th>\n      <td>1</td>\n      <td>25923</td>\n      <td>prideful</td>\n      <td>0</td>\n      <td>2</td>\n      <td>in-progress</td>\n      <td>2024</td>\n      <td>6</td>\n      <td>19</td>\n      <td>9</td>\n      <td>...</td>\n      <td>other</td>\n      <td>0.041667</td>\n      <td>0.563492</td>\n      <td>19.0</td>\n      <td>313.956</td>\n      <td>0</td>\n      <td>0</td>\n      <td>2.0</td>\n      <td>6.0</td>\n      <td>8</td>\n    </tr>\n    <tr>\n      <th>2</th>\n      <td>2</td>\n      <td>22812</td>\n      <td>boneless</td>\n      <td>1</td>\n      <td>2</td>\n      <td>in-progress</td>\n      <td>2024</td>\n      <td>6</td>\n      <td>16</td>\n      <td>20</td>\n      <td>...</td>\n      <td>other</td>\n      <td>0.208333</td>\n      <td>0.436508</td>\n      <td>19.0</td>\n      <td>313.956</td>\n      <td>0</td>\n      <td>0</td>\n      <td>2.0</td>\n      <td>6.0</td>\n      <td>8</td>\n    </tr>\n    <tr>\n      <th>3</th>\n      <td>3</td>\n      <td>66063</td>\n      <td>reorganizing</td>\n      <td>1</td>\n      <td>2</td>\n      <td>completed</td>\n      <td>2024</td>\n      <td>7</td>\n      <td>25</td>\n      <td>1</td>\n      <td>...</td>\n      <td>other</td>\n      <td>0.208333</td>\n      <td>0.587302</td>\n      <td>36.0</td>\n      <td>695.638</td>\n      <td>0</td>\n      <td>0</td>\n      <td>4.0</td>\n      <td>6.0</td>\n      <td>12</td>\n    </tr>\n    <tr>\n      <th>4</th>\n      <td>4</td>\n      <td>63600</td>\n      <td>salsa</td>\n      <td>1</td>\n      <td>2</td>\n      <td>in-progress</td>\n      <td>2024</td>\n      <td>7</td>\n      <td>22</td>\n      <td>19</td>\n      <td>...</td>\n      <td>other</td>\n      <td>0.000000</td>\n      <td>0.690476</td>\n      <td>19.0</td>\n      <td>313.956</td>\n      <td>0</td>\n      <td>0</td>\n      <td>2.0</td>\n      <td>6.0</td>\n      <td>5</td>\n    </tr>\n    <tr>\n      <th>...</th>\n      <td>...</td>\n      <td>...</td>\n      <td>...</td>\n      <td>...</td>\n      <td>...</td>\n      <td>...</td>\n      <td>...</td>\n      <td>...</td>\n      <td>...</td>\n      <td>...</td>\n      <td>...</td>\n      <td>...</td>\n      <td>...</td>\n      <td>...</td>\n      <td>...</td>\n      <td>...</td>\n      <td>...</td>\n      <td>...</td>\n      <td>...</td>\n      <td>...</td>\n      <td>...</td>\n    </tr>\n    <tr>\n      <th>8667029</th>\n      <td>8855888</td>\n      <td>89690</td>\n      <td>auditor</td>\n      <td>1</td>\n      <td>2</td>\n      <td>in-progress</td>\n      <td>2024</td>\n      <td>8</td>\n      <td>13</td>\n      <td>8</td>\n      <td>...</td>\n      <td>other</td>\n      <td>0.041667</td>\n      <td>0.674603</td>\n      <td>19.0</td>\n      <td>313.956</td>\n      <td>0</td>\n      <td>0</td>\n      <td>2.0</td>\n      <td>6.0</td>\n      <td>7</td>\n    </tr>\n    <tr>\n      <th>8667030</th>\n      <td>8855890</td>\n      <td>59975</td>\n      <td>opposing</td>\n      <td>0</td>\n      <td>2</td>\n      <td>in-progress</td>\n      <td>2024</td>\n      <td>7</td>\n      <td>19</td>\n      <td>11</td>\n      <td>...</td>\n      <td>other</td>\n      <td>0.125000</td>\n      <td>0.595238</td>\n      <td>19.0</td>\n      <td>313.956</td>\n      <td>0</td>\n      <td>0</td>\n      <td>2.0</td>\n      <td>6.0</td>\n      <td>8</td>\n    </tr>\n    <tr>\n      <th>8667031</th>\n      <td>8855891</td>\n      <td>23881</td>\n      <td>lawgiver</td>\n      <td>1</td>\n      <td>2</td>\n      <td>completed</td>\n      <td>2024</td>\n      <td>6</td>\n      <td>17</td>\n      <td>17</td>\n      <td>...</td>\n      <td>other</td>\n      <td>0.208333</td>\n      <td>0.587302</td>\n      <td>19.0</td>\n      <td>247.629</td>\n      <td>0</td>\n      <td>0</td>\n      <td>3.0</td>\n      <td>6.0</td>\n      <td>8</td>\n    </tr>\n    <tr>\n      <th>8667032</th>\n      <td>8855892</td>\n      <td>14768</td>\n      <td>stayed</td>\n      <td>1</td>\n      <td>2</td>\n      <td>completed</td>\n      <td>2024</td>\n      <td>6</td>\n      <td>9</td>\n      <td>17</td>\n      <td>...</td>\n      <td>other</td>\n      <td>0.000000</td>\n      <td>0.420635</td>\n      <td>33.0</td>\n      <td>340.801</td>\n      <td>0</td>\n      <td>0</td>\n      <td>5.0</td>\n      <td>6.0</td>\n      <td>6</td>\n    </tr>\n    <tr>\n      <th>8667033</th>\n      <td>8855893</td>\n      <td>97856</td>\n      <td>insufficiently</td>\n      <td>1</td>\n      <td>2</td>\n      <td>completed</td>\n      <td>2024</td>\n      <td>8</td>\n      <td>18</td>\n      <td>20</td>\n      <td>...</td>\n      <td>other</td>\n      <td>0.000000</td>\n      <td>0.341270</td>\n      <td>21.0</td>\n      <td>244.537</td>\n      <td>0</td>\n      <td>0</td>\n      <td>3.0</td>\n      <td>6.0</td>\n      <td>14</td>\n    </tr>\n  </tbody>\n</table>\n<p>8667034 rows × 24 columns</p>\n</div>"
          },
          "metadata": {}
        }
      ]
    },
    {
      "cell_type": "code",
      "source": [
        "del df_tests\n",
        "del df_words\n",
        "del df_words_test\n",
        "del subm"
      ],
      "metadata": {
        "execution": {
          "iopub.status.busy": "2024-09-11T11:58:04.928412Z",
          "iopub.status.idle": "2024-09-11T11:58:04.929182Z",
          "shell.execute_reply.started": "2024-09-11T11:58:04.928960Z",
          "shell.execute_reply": "2024-09-11T11:58:04.928988Z"
        },
        "trusted": true,
        "id": "kU6dSotN047-"
      },
      "execution_count": null,
      "outputs": []
    },
    {
      "cell_type": "code",
      "source": [
        "from gensim.models import Word2Vec\n",
        "from nltk.tokenize import WordPunctTokenizer\n",
        "tokenizer = WordPunctTokenizer()\n",
        "model = Word2Vec([tokenizer.tokenize(s) for s in (list(X_train['word']) + list(X_test['word']))],\n",
        "                 vector_size=20,\n",
        "                 min_count=2,\n",
        "                 window=1)"
      ],
      "metadata": {
        "execution": {
          "iopub.status.busy": "2024-09-11T11:58:04.931634Z",
          "iopub.status.idle": "2024-09-11T11:58:04.932050Z",
          "shell.execute_reply.started": "2024-09-11T11:58:04.931860Z",
          "shell.execute_reply": "2024-09-11T11:58:04.931883Z"
        },
        "trusted": true,
        "id": "9pXdZjaf047-"
      },
      "execution_count": null,
      "outputs": []
    },
    {
      "cell_type": "code",
      "source": [
        "X_train['embed_w2v'] = X_train['word'].apply(lambda x: model.wv.get_vector(x))"
      ],
      "metadata": {
        "execution": {
          "iopub.status.busy": "2024-09-11T11:58:04.933702Z",
          "iopub.status.idle": "2024-09-11T11:58:04.934048Z",
          "shell.execute_reply.started": "2024-09-11T11:58:04.933875Z",
          "shell.execute_reply": "2024-09-11T11:58:04.933893Z"
        },
        "trusted": true,
        "id": "9WLaRSCl047_"
      },
      "execution_count": null,
      "outputs": []
    },
    {
      "cell_type": "code",
      "source": [
        "X_test['embed_w2v'] = X_test['word'].apply(lambda x: model.wv.get_vector(x))"
      ],
      "metadata": {
        "execution": {
          "iopub.status.busy": "2024-09-11T11:58:04.935709Z",
          "iopub.status.idle": "2024-09-11T11:58:04.936087Z",
          "shell.execute_reply.started": "2024-09-11T11:58:04.935903Z",
          "shell.execute_reply": "2024-09-11T11:58:04.935922Z"
        },
        "trusted": true,
        "id": "9WyvAUdq047_"
      },
      "execution_count": null,
      "outputs": []
    },
    {
      "cell_type": "code",
      "source": [
        "X_train"
      ],
      "metadata": {
        "execution": {
          "iopub.status.busy": "2024-09-11T11:58:04.938217Z",
          "iopub.status.idle": "2024-09-11T11:58:04.938895Z",
          "shell.execute_reply.started": "2024-09-11T11:58:04.938629Z",
          "shell.execute_reply": "2024-09-11T11:58:04.938654Z"
        },
        "trusted": true,
        "id": "rWbaDiMI047_"
      },
      "execution_count": null,
      "outputs": []
    },
    {
      "cell_type": "code",
      "source": [
        "# vectors = X_train['word'].progress_apply(lambda word: model.wv.get_vector(word))"
      ],
      "metadata": {
        "execution": {
          "iopub.status.busy": "2024-09-11T11:58:04.940311Z",
          "iopub.status.idle": "2024-09-11T11:58:04.940804Z",
          "shell.execute_reply.started": "2024-09-11T11:58:04.940558Z",
          "shell.execute_reply": "2024-09-11T11:58:04.940580Z"
        },
        "trusted": true,
        "id": "UY3hQVSt047_"
      },
      "execution_count": null,
      "outputs": []
    },
    {
      "cell_type": "code",
      "source": [
        "# null_X = pd.DataFrame(np.zeros((len(X_train), 20)), columns=[f'word_vector_{i}' for i in range(20)])"
      ],
      "metadata": {
        "execution": {
          "iopub.status.busy": "2024-09-11T11:58:04.942494Z",
          "iopub.status.idle": "2024-09-11T11:58:04.942955Z",
          "shell.execute_reply.started": "2024-09-11T11:58:04.942719Z",
          "shell.execute_reply": "2024-09-11T11:58:04.942743Z"
        },
        "trusted": true,
        "id": "BDun55sm047_"
      },
      "execution_count": null,
      "outputs": []
    },
    {
      "cell_type": "code",
      "source": [
        "# X_train = pd.concat((X_train, null_X), axis=1)\n",
        "# del null_X"
      ],
      "metadata": {
        "execution": {
          "iopub.status.busy": "2024-09-11T11:58:04.946935Z",
          "iopub.status.idle": "2024-09-11T11:58:04.947408Z",
          "shell.execute_reply.started": "2024-09-11T11:58:04.947154Z",
          "shell.execute_reply": "2024-09-11T11:58:04.947178Z"
        },
        "trusted": true,
        "id": "z0y7wgIb047_"
      },
      "execution_count": null,
      "outputs": []
    },
    {
      "cell_type": "code",
      "source": [
        "tqdm.pandas()\n",
        "X_train[[f'word_vector_{i}' for i in range(20)]] = pd.DataFrame(X_train['word'].progress_apply(lambda word: model.wv.get_vector(word)).tolist(), columns=[f'word_vector_{i}' for i in range(20)])"
      ],
      "metadata": {
        "execution": {
          "iopub.status.busy": "2024-09-11T11:58:04.948830Z",
          "iopub.status.idle": "2024-09-11T11:58:04.949281Z",
          "shell.execute_reply.started": "2024-09-11T11:58:04.949046Z",
          "shell.execute_reply": "2024-09-11T11:58:04.949069Z"
        },
        "trusted": true,
        "id": "5l6Bj2x8048A"
      },
      "execution_count": null,
      "outputs": []
    },
    {
      "cell_type": "code",
      "source": [
        "X_test[[f'word_vector_{i}' for i in range(20)]] = pd.DataFrame(X_test['word'].progress_apply(lambda word: model.wv.get_vector(word)).tolist(), columns=[f'word_vector_{i}' for i in range(20)])"
      ],
      "metadata": {
        "execution": {
          "iopub.status.busy": "2024-09-11T11:58:04.950120Z",
          "iopub.status.idle": "2024-09-11T11:58:04.950534Z",
          "shell.execute_reply.started": "2024-09-11T11:58:04.950299Z",
          "shell.execute_reply": "2024-09-11T11:58:04.950321Z"
        },
        "trusted": true,
        "id": "6Q3ekW_9048A"
      },
      "execution_count": null,
      "outputs": []
    },
    {
      "cell_type": "code",
      "source": [
        "X_test"
      ],
      "metadata": {
        "execution": {
          "iopub.status.busy": "2024-09-11T11:58:04.951250Z",
          "iopub.status.idle": "2024-09-11T11:58:04.951653Z",
          "shell.execute_reply.started": "2024-09-11T11:58:04.951441Z",
          "shell.execute_reply": "2024-09-11T11:58:04.951462Z"
        },
        "trusted": true,
        "id": "0D2lCzzD048A"
      },
      "execution_count": null,
      "outputs": []
    },
    {
      "cell_type": "code",
      "source": [],
      "metadata": {
        "id": "G3cl5wyW048A"
      },
      "execution_count": null,
      "outputs": []
    },
    {
      "cell_type": "code",
      "source": [
        "# def vectors(x):\n",
        "#     vec = model.wv.get_vector(x['word'])\n",
        "#     for i in range(100):\n",
        "#         x[f'word_vector_{i}'] = vec[i]\n",
        "#     return x"
      ],
      "metadata": {
        "execution": {
          "iopub.status.busy": "2024-09-11T11:58:04.952393Z",
          "iopub.status.idle": "2024-09-11T11:58:04.952798Z",
          "shell.execute_reply.started": "2024-09-11T11:58:04.952578Z",
          "shell.execute_reply": "2024-09-11T11:58:04.952599Z"
        },
        "trusted": true,
        "id": "sQcKEibe048A"
      },
      "execution_count": null,
      "outputs": []
    },
    {
      "cell_type": "code",
      "source": [
        "# for j in tqdm(X_train.index):\n",
        "#     vec = model.wv.get_vector(X_train.at[j, 'word'])\n",
        "#     for i in range(100):\n",
        "#         X_train.at[j, f'word_vector_{i}'] =  vec[i]"
      ],
      "metadata": {
        "execution": {
          "iopub.status.busy": "2024-09-11T11:58:04.953554Z",
          "iopub.status.idle": "2024-09-11T11:58:04.953958Z",
          "shell.execute_reply.started": "2024-09-11T11:58:04.953743Z",
          "shell.execute_reply": "2024-09-11T11:58:04.953763Z"
        },
        "trusted": true,
        "id": "01MnYrXS048A"
      },
      "execution_count": null,
      "outputs": []
    },
    {
      "cell_type": "code",
      "source": [
        "import gensim.downloader as api\n",
        "import numpy as np\n",
        "import gensim"
      ],
      "metadata": {
        "execution": {
          "iopub.status.busy": "2024-09-11T11:58:04.954802Z",
          "iopub.status.idle": "2024-09-11T11:58:04.955219Z",
          "shell.execute_reply.started": "2024-09-11T11:58:04.954998Z",
          "shell.execute_reply": "2024-09-11T11:58:04.955020Z"
        },
        "trusted": true,
        "id": "RTebXJ_l048B"
      },
      "execution_count": null,
      "outputs": []
    },
    {
      "cell_type": "code",
      "source": [
        "model = api.load('glove-wiki-gigaword-300')"
      ],
      "metadata": {
        "execution": {
          "iopub.status.busy": "2024-09-11T11:58:04.956041Z",
          "iopub.status.idle": "2024-09-11T11:58:04.956496Z",
          "shell.execute_reply.started": "2024-09-11T11:58:04.956234Z",
          "shell.execute_reply": "2024-09-11T11:58:04.956257Z"
        },
        "trusted": true,
        "id": "_tcz6vCR048B"
      },
      "execution_count": null,
      "outputs": []
    },
    {
      "cell_type": "code",
      "source": [
        "word_train = list(X_train['word'])\n",
        "word_vectors_train = []\n",
        "for word in word_train:\n",
        "    try: word_vectors_train.append(model.get_vector(word))\n",
        "    except KeyError: word_vectors_train.append(np.zeros(300,))"
      ],
      "metadata": {
        "execution": {
          "iopub.status.busy": "2024-09-11T11:58:04.957280Z",
          "iopub.status.idle": "2024-09-11T11:58:04.957704Z",
          "shell.execute_reply.started": "2024-09-11T11:58:04.957483Z",
          "shell.execute_reply": "2024-09-11T11:58:04.957504Z"
        },
        "trusted": true,
        "id": "Qn6935ZC048B"
      },
      "execution_count": null,
      "outputs": []
    },
    {
      "cell_type": "code",
      "source": [
        "# Delete original DataFrame to save memory\n",
        "del df_words, df_tests, df_words_test"
      ],
      "metadata": {
        "execution": {
          "iopub.status.busy": "2024-09-11T11:58:04.958496Z",
          "iopub.status.idle": "2024-09-11T11:58:04.958918Z",
          "shell.execute_reply.started": "2024-09-11T11:58:04.958700Z",
          "shell.execute_reply": "2024-09-11T11:58:04.958722Z"
        },
        "trusted": true,
        "id": "qFrYmfJ5048B"
      },
      "execution_count": null,
      "outputs": []
    },
    {
      "cell_type": "code",
      "source": [
        "sparse_matrices = []\n",
        "chunks = (len(8667034) // 10000) + 1\n",
        "array_of_chunks = np.array_split(np.array(word_vectors_train), chunks)\n",
        "del word_vectors_train\n",
        "\n",
        "for i, df_chunk in enumerate(array_of_chunks):\n",
        "    print(\"Getting dummy data for chunk: \" + str(i))\n",
        "    sparse_matrix = csr_matrix(pd.get_dummies(array_of_chunks))\n",
        "    sparse_matrices.append(sparse_matrix)\n",
        "    concatenated_sparse_matrix = csr_matrix.hstack(sparse_matrices)"
      ],
      "metadata": {
        "execution": {
          "iopub.status.busy": "2024-09-11T11:58:04.959711Z",
          "iopub.status.idle": "2024-09-11T11:58:04.960103Z",
          "shell.execute_reply.started": "2024-09-11T11:58:04.959899Z",
          "shell.execute_reply": "2024-09-11T11:58:04.959919Z"
        },
        "trusted": true,
        "id": "fosAu0F6048B"
      },
      "execution_count": null,
      "outputs": []
    },
    {
      "cell_type": "code",
      "source": [
        "from sklearn.decomposition import TruncatedSVD\n",
        "svd = TruncatedSVD(n_components=10, algorithm='arpack')"
      ],
      "metadata": {
        "execution": {
          "iopub.status.busy": "2024-09-11T11:58:04.960859Z",
          "iopub.status.idle": "2024-09-11T11:58:04.961243Z",
          "shell.execute_reply.started": "2024-09-11T11:58:04.961037Z",
          "shell.execute_reply": "2024-09-11T11:58:04.961058Z"
        },
        "trusted": true,
        "id": "dXdgU_X6048C"
      },
      "execution_count": null,
      "outputs": []
    },
    {
      "cell_type": "code",
      "source": [
        "word_vectors_train = svd.fit(word_vectors_train)\n",
        "# word_vectors_train = (word_vectors_pca - word_vectors_pca.mean(axis=0)) / word_vectors_pca.std(axis=0)"
      ],
      "metadata": {
        "execution": {
          "iopub.status.busy": "2024-09-11T11:58:04.964197Z",
          "iopub.status.idle": "2024-09-11T11:58:04.964632Z",
          "shell.execute_reply.started": "2024-09-11T11:58:04.964411Z",
          "shell.execute_reply": "2024-09-11T11:58:04.964433Z"
        },
        "trusted": true,
        "id": "2Dl0co-j048D"
      },
      "execution_count": null,
      "outputs": []
    },
    {
      "cell_type": "code",
      "source": [
        "word_test = list(X_test['word'])\n",
        "word_vectors_test = []\n",
        "for word in word_test:\n",
        "    try: word_vectors_test.append(model.get_vector(word))\n",
        "    except KeyError: word_vectors_test.append(np.zeros(300,))"
      ],
      "metadata": {
        "execution": {
          "iopub.status.busy": "2024-09-11T11:58:04.965435Z",
          "iopub.status.idle": "2024-09-11T11:58:04.965880Z",
          "shell.execute_reply.started": "2024-09-11T11:58:04.965638Z",
          "shell.execute_reply": "2024-09-11T11:58:04.965660Z"
        },
        "trusted": true,
        "id": "xafWy12o048D"
      },
      "execution_count": null,
      "outputs": []
    },
    {
      "cell_type": "code",
      "source": [
        "word_vectors_pca_train = pca.fit_transform(word_vectors_train)\n",
        "word_vectors_pca_train = (word_vectors_pca - word_vectors_pca.mean(axis=0)) / word_vectors_pca.std(axis=0)"
      ],
      "metadata": {
        "execution": {
          "iopub.status.busy": "2024-09-11T11:58:04.966661Z",
          "iopub.status.idle": "2024-09-11T11:58:04.967061Z",
          "shell.execute_reply.started": "2024-09-11T11:58:04.966850Z",
          "shell.execute_reply": "2024-09-11T11:58:04.966871Z"
        },
        "trusted": true,
        "id": "Ghb_DpsZ048D"
      },
      "execution_count": null,
      "outputs": []
    },
    {
      "cell_type": "code",
      "source": [
        "def func(x):\n",
        "    try: return model.get_vector(x)\n",
        "    except KeyError:\n",
        "        return np.zeros((1,300))"
      ],
      "metadata": {
        "execution": {
          "iopub.status.busy": "2024-09-11T11:58:04.967841Z",
          "iopub.status.idle": "2024-09-11T11:58:04.968378Z",
          "shell.execute_reply.started": "2024-09-11T11:58:04.968180Z",
          "shell.execute_reply": "2024-09-11T11:58:04.968200Z"
        },
        "trusted": true,
        "id": "C1661yMA048D"
      },
      "execution_count": null,
      "outputs": []
    },
    {
      "cell_type": "code",
      "source": [
        "gerge"
      ],
      "metadata": {
        "execution": {
          "iopub.status.busy": "2024-09-11T11:58:04.969744Z",
          "iopub.status.idle": "2024-09-11T11:58:04.970189Z",
          "shell.execute_reply.started": "2024-09-11T11:58:04.969954Z",
          "shell.execute_reply": "2024-09-11T11:58:04.969978Z"
        },
        "trusted": true,
        "id": "T3zsAxJb048E"
      },
      "execution_count": null,
      "outputs": []
    },
    {
      "cell_type": "code",
      "source": [
        "arr_of_null = np.zeros((8667034, 300),)"
      ],
      "metadata": {
        "execution": {
          "iopub.status.busy": "2024-09-11T11:58:04.972755Z",
          "iopub.status.idle": "2024-09-11T11:58:04.973200Z",
          "shell.execute_reply.started": "2024-09-11T11:58:04.972962Z",
          "shell.execute_reply": "2024-09-11T11:58:04.972986Z"
        },
        "trusted": true,
        "id": "JqQKNtUW048E"
      },
      "execution_count": null,
      "outputs": []
    },
    {
      "cell_type": "code",
      "source": [
        "arr_of_null"
      ],
      "metadata": {
        "execution": {
          "iopub.status.busy": "2024-09-11T11:58:04.974119Z",
          "iopub.status.idle": "2024-09-11T11:58:04.974588Z",
          "shell.execute_reply.started": "2024-09-11T11:58:04.974318Z",
          "shell.execute_reply": "2024-09-11T11:58:04.974341Z"
        },
        "trusted": true,
        "id": "SbQ96QnK048E"
      },
      "execution_count": null,
      "outputs": []
    },
    {
      "cell_type": "code",
      "source": [
        "np.array(X_train)"
      ],
      "metadata": {
        "execution": {
          "iopub.status.busy": "2024-09-11T11:58:04.975531Z",
          "iopub.status.idle": "2024-09-11T11:58:04.975995Z",
          "shell.execute_reply.started": "2024-09-11T11:58:04.975749Z",
          "shell.execute_reply": "2024-09-11T11:58:04.975774Z"
        },
        "trusted": true,
        "id": "H4yHjCsp048E"
      },
      "execution_count": null,
      "outputs": []
    },
    {
      "cell_type": "code",
      "source": [
        "X_train['word'] = X_train['word'].apply(lambda x: func(x))"
      ],
      "metadata": {
        "execution": {
          "iopub.status.busy": "2024-09-11T11:58:04.978047Z",
          "iopub.status.idle": "2024-09-11T11:58:04.978528Z",
          "shell.execute_reply.started": "2024-09-11T11:58:04.978260Z",
          "shell.execute_reply": "2024-09-11T11:58:04.978283Z"
        },
        "trusted": true,
        "id": "ak9Zr0Uq048E"
      },
      "execution_count": null,
      "outputs": []
    },
    {
      "cell_type": "code",
      "source": [
        "X_test['word'] = X_test['word'].apply(lambda x: func(x))"
      ],
      "metadata": {
        "execution": {
          "iopub.status.busy": "2024-09-11T11:58:04.979759Z",
          "iopub.status.idle": "2024-09-11T11:58:04.980211Z",
          "shell.execute_reply.started": "2024-09-11T11:58:04.979970Z",
          "shell.execute_reply": "2024-09-11T11:58:04.979995Z"
        },
        "trusted": true,
        "id": "6jzEz-Ok048F"
      },
      "execution_count": null,
      "outputs": []
    },
    {
      "cell_type": "code",
      "source": [
        "X_train = np.concatenate((np.array(X_train), arr_of_null), axis=1)"
      ],
      "metadata": {
        "execution": {
          "iopub.status.busy": "2024-09-11T11:58:04.983748Z",
          "iopub.status.idle": "2024-09-11T11:58:04.984199Z",
          "shell.execute_reply.started": "2024-09-11T11:58:04.983961Z",
          "shell.execute_reply": "2024-09-11T11:58:04.983985Z"
        },
        "trusted": true,
        "id": "1vMN_h-S048F"
      },
      "execution_count": null,
      "outputs": []
    },
    {
      "cell_type": "code",
      "source": [
        "y_train = X_train['checked']\n",
        "y_id_test = X_test['testword_id']\n",
        "X_train = X_train.drop(['checked'], axis=1)"
      ],
      "metadata": {
        "execution": {
          "iopub.status.busy": "2024-09-11T11:58:04.985343Z",
          "iopub.status.idle": "2024-09-11T11:58:04.985841Z",
          "shell.execute_reply.started": "2024-09-11T11:58:04.985589Z",
          "shell.execute_reply": "2024-09-11T11:58:04.985613Z"
        },
        "trusted": true,
        "id": "FkVNIIx3048F"
      },
      "execution_count": null,
      "outputs": []
    },
    {
      "cell_type": "code",
      "source": [
        "X_train.info()"
      ],
      "metadata": {
        "execution": {
          "iopub.status.busy": "2024-09-11T11:58:04.987007Z",
          "iopub.status.idle": "2024-09-11T11:58:04.987511Z",
          "shell.execute_reply.started": "2024-09-11T11:58:04.987245Z",
          "shell.execute_reply": "2024-09-11T11:58:04.987269Z"
        },
        "trusted": true,
        "id": "YqIQ-h7K048F"
      },
      "execution_count": null,
      "outputs": []
    },
    {
      "cell_type": "code",
      "source": [
        "X_train[list(map(str, [i for i in range(300)]))] = X_train['word'].tolist()"
      ],
      "metadata": {
        "execution": {
          "iopub.status.busy": "2024-09-11T11:58:04.989124Z",
          "iopub.status.idle": "2024-09-11T11:58:04.989624Z",
          "shell.execute_reply.started": "2024-09-11T11:58:04.989335Z",
          "shell.execute_reply": "2024-09-11T11:58:04.989374Z"
        },
        "trusted": true,
        "id": "eiQThSsP048F"
      },
      "execution_count": null,
      "outputs": []
    },
    {
      "cell_type": "code",
      "source": [
        "X_train"
      ],
      "metadata": {
        "execution": {
          "iopub.status.busy": "2024-09-11T11:58:04.991462Z",
          "iopub.status.idle": "2024-09-11T11:58:04.991910Z",
          "shell.execute_reply.started": "2024-09-11T11:58:04.991672Z",
          "shell.execute_reply": "2024-09-11T11:58:04.991696Z"
        },
        "trusted": true,
        "id": "bCPK6T2D048G"
      },
      "execution_count": null,
      "outputs": []
    },
    {
      "cell_type": "code",
      "source": [
        "list(map(str, [i for i in range(300)]))"
      ],
      "metadata": {
        "execution": {
          "iopub.status.busy": "2024-09-11T11:58:04.992991Z",
          "iopub.status.idle": "2024-09-11T11:58:04.993482Z",
          "shell.execute_reply.started": "2024-09-11T11:58:04.993208Z",
          "shell.execute_reply": "2024-09-11T11:58:04.993233Z"
        },
        "trusted": true,
        "id": "Eryzdl4E048G"
      },
      "execution_count": null,
      "outputs": []
    },
    {
      "cell_type": "code",
      "source": [
        "!pip install -U sentence-transformers"
      ],
      "metadata": {
        "execution": {
          "iopub.status.busy": "2024-09-11T11:58:04.995219Z",
          "iopub.status.idle": "2024-09-11T11:58:04.995713Z",
          "shell.execute_reply.started": "2024-09-11T11:58:04.995463Z",
          "shell.execute_reply": "2024-09-11T11:58:04.995488Z"
        },
        "trusted": true,
        "id": "LM5Bte5S048G"
      },
      "execution_count": null,
      "outputs": []
    },
    {
      "cell_type": "code",
      "source": [
        "from sentence_transformers import SentenceTransformer as SBERT"
      ],
      "metadata": {
        "execution": {
          "iopub.status.busy": "2024-09-11T11:58:04.997252Z",
          "iopub.status.idle": "2024-09-11T11:58:04.997729Z",
          "shell.execute_reply.started": "2024-09-11T11:58:04.997488Z",
          "shell.execute_reply": "2024-09-11T11:58:04.997512Z"
        },
        "trusted": true,
        "id": "cjBPDQEG048G"
      },
      "execution_count": null,
      "outputs": []
    },
    {
      "cell_type": "code",
      "source": [
        "from tqdm.autonotebook import tqdm, trange"
      ],
      "metadata": {
        "execution": {
          "iopub.status.busy": "2024-09-11T11:58:04.999683Z",
          "iopub.status.idle": "2024-09-11T11:58:05.000141Z",
          "shell.execute_reply.started": "2024-09-11T11:58:04.999898Z",
          "shell.execute_reply": "2024-09-11T11:58:04.999922Z"
        },
        "trusted": true,
        "id": "LVfVak5w048G"
      },
      "execution_count": null,
      "outputs": []
    },
    {
      "cell_type": "code",
      "source": [
        "model = SBERT('paraphrase-albert-small-v2').to('cuda:0')"
      ],
      "metadata": {
        "execution": {
          "iopub.status.busy": "2024-09-11T11:58:05.001616Z",
          "iopub.status.idle": "2024-09-11T11:58:05.002076Z",
          "shell.execute_reply.started": "2024-09-11T11:58:05.001832Z",
          "shell.execute_reply": "2024-09-11T11:58:05.001855Z"
        },
        "trusted": true,
        "id": "SRlSl25_048H"
      },
      "execution_count": null,
      "outputs": []
    },
    {
      "cell_type": "code",
      "source": [
        "X_train['words'][0]"
      ],
      "metadata": {
        "execution": {
          "iopub.status.busy": "2024-09-11T11:58:05.004313Z",
          "iopub.status.idle": "2024-09-11T11:58:05.004801Z",
          "shell.execute_reply.started": "2024-09-11T11:58:05.004551Z",
          "shell.execute_reply": "2024-09-11T11:58:05.004577Z"
        },
        "trusted": true,
        "id": "ee4D2F1M048H"
      },
      "execution_count": null,
      "outputs": []
    },
    {
      "cell_type": "code",
      "source": [
        "# model = SBERT(\"all-mpnet-base-v2\")\n",
        "embeddings = model.encode(X_train['word'][0])"
      ],
      "metadata": {
        "execution": {
          "iopub.status.busy": "2024-09-11T11:58:05.006418Z",
          "iopub.status.idle": "2024-09-11T11:58:05.006872Z",
          "shell.execute_reply.started": "2024-09-11T11:58:05.006633Z",
          "shell.execute_reply": "2024-09-11T11:58:05.006657Z"
        },
        "trusted": true,
        "id": "h-JaUAp8048H"
      },
      "execution_count": null,
      "outputs": []
    },
    {
      "cell_type": "code",
      "source": [
        "embeddings.shape"
      ],
      "metadata": {
        "execution": {
          "iopub.status.busy": "2024-09-11T11:58:05.008628Z",
          "iopub.status.idle": "2024-09-11T11:58:05.009083Z",
          "shell.execute_reply.started": "2024-09-11T11:58:05.008840Z",
          "shell.execute_reply": "2024-09-11T11:58:05.008865Z"
        },
        "trusted": true,
        "id": "2K7H1R_5048H"
      },
      "execution_count": null,
      "outputs": []
    },
    {
      "cell_type": "code",
      "source": [
        "!pip install word2veckeras"
      ],
      "metadata": {
        "execution": {
          "iopub.status.busy": "2024-09-11T11:58:05.010336Z",
          "iopub.status.idle": "2024-09-11T11:58:05.010819Z",
          "shell.execute_reply.started": "2024-09-11T11:58:05.010583Z",
          "shell.execute_reply": "2024-09-11T11:58:05.010607Z"
        },
        "trusted": true,
        "id": "x5PUyu_I048H"
      },
      "execution_count": null,
      "outputs": []
    },
    {
      "cell_type": "code",
      "source": [
        "from gensim.models import Word2Vec\n",
        "from nltk.tokenize import WordPunctTokenizer\n",
        "tokenizer = WordPunctTokenizer()\n",
        "model = Word2Vec([tokenizer.tokenize(s) for s in (list(X_train['word']) + list(X_test['word']))],\n",
        "                 vector_size=100,\n",
        "                 min_count=2,\n",
        "                 window=1)"
      ],
      "metadata": {
        "execution": {
          "iopub.status.busy": "2024-09-11T11:58:05.011907Z",
          "iopub.status.idle": "2024-09-11T11:58:05.012395Z",
          "shell.execute_reply.started": "2024-09-11T11:58:05.012126Z",
          "shell.execute_reply": "2024-09-11T11:58:05.012151Z"
        },
        "trusted": true,
        "id": "6TJyMK9Z048I"
      },
      "execution_count": null,
      "outputs": []
    },
    {
      "cell_type": "code",
      "source": [
        "model = model.wv"
      ],
      "metadata": {
        "execution": {
          "iopub.status.busy": "2024-09-11T11:58:05.014095Z",
          "iopub.status.idle": "2024-09-11T11:58:05.014581Z",
          "shell.execute_reply.started": "2024-09-11T11:58:05.014307Z",
          "shell.execute_reply": "2024-09-11T11:58:05.014331Z"
        },
        "trusted": true,
        "id": "RaNDei9s048I"
      },
      "execution_count": null,
      "outputs": []
    },
    {
      "cell_type": "code",
      "source": [
        "model"
      ],
      "metadata": {
        "execution": {
          "iopub.status.busy": "2024-09-11T11:58:05.015603Z",
          "iopub.status.idle": "2024-09-11T11:58:05.016055Z",
          "shell.execute_reply.started": "2024-09-11T11:58:05.015813Z",
          "shell.execute_reply": "2024-09-11T11:58:05.015836Z"
        },
        "trusted": true,
        "id": "daG1iT0u048I"
      },
      "execution_count": null,
      "outputs": []
    },
    {
      "cell_type": "code",
      "source": [
        "model.get_vector('salsa')"
      ],
      "metadata": {
        "execution": {
          "iopub.status.busy": "2024-09-11T11:58:05.017643Z",
          "iopub.status.idle": "2024-09-11T11:58:05.018099Z",
          "shell.execute_reply.started": "2024-09-11T11:58:05.017854Z",
          "shell.execute_reply": "2024-09-11T11:58:05.017878Z"
        },
        "trusted": true,
        "id": "uQjuBT9W048I"
      },
      "execution_count": null,
      "outputs": []
    },
    {
      "cell_type": "code",
      "source": [
        "model = SentenceTransformer(\"all-mpnet-base-v2\")\n",
        "embeddings = model.encode([\n",
        "    \"The weather is lovely today.\",\n",
        "    \"It's so sunny outside!\",\n",
        "    \"He drove to the stadium.\",\n",
        "])"
      ],
      "metadata": {
        "execution": {
          "iopub.status.busy": "2024-09-11T11:58:05.019324Z",
          "iopub.status.idle": "2024-09-11T11:58:05.019813Z",
          "shell.execute_reply.started": "2024-09-11T11:58:05.019564Z",
          "shell.execute_reply": "2024-09-11T11:58:05.019590Z"
        },
        "trusted": true,
        "id": "YSKm4S-U048I"
      },
      "execution_count": null,
      "outputs": []
    },
    {
      "cell_type": "code",
      "source": [
        "!pip install catboost\n",
        "!pip install optuna"
      ],
      "metadata": {
        "execution": {
          "iopub.status.busy": "2024-09-11T20:05:19.668191Z",
          "iopub.execute_input": "2024-09-11T20:05:19.668862Z",
          "iopub.status.idle": "2024-09-11T20:05:46.829880Z",
          "shell.execute_reply.started": "2024-09-11T20:05:19.668819Z",
          "shell.execute_reply": "2024-09-11T20:05:46.828889Z"
        },
        "trusted": true,
        "id": "H0Pd0g72048I",
        "outputId": "a6caf68e-6ca6-486c-905a-250d9cf159d4"
      },
      "execution_count": null,
      "outputs": [
        {
          "name": "stdout",
          "text": "Requirement already satisfied: catboost in /opt/conda/lib/python3.10/site-packages (1.2.5)\nRequirement already satisfied: graphviz in /opt/conda/lib/python3.10/site-packages (from catboost) (0.20.3)\nRequirement already satisfied: matplotlib in /opt/conda/lib/python3.10/site-packages (from catboost) (3.7.5)\nRequirement already satisfied: numpy>=1.16.0 in /opt/conda/lib/python3.10/site-packages (from catboost) (1.26.4)\nRequirement already satisfied: pandas>=0.24 in /opt/conda/lib/python3.10/site-packages (from catboost) (2.2.2)\nRequirement already satisfied: scipy in /opt/conda/lib/python3.10/site-packages (from catboost) (1.14.0)\nRequirement already satisfied: plotly in /opt/conda/lib/python3.10/site-packages (from catboost) (5.22.0)\nRequirement already satisfied: six in /opt/conda/lib/python3.10/site-packages (from catboost) (1.16.0)\nRequirement already satisfied: python-dateutil>=2.8.2 in /opt/conda/lib/python3.10/site-packages (from pandas>=0.24->catboost) (2.9.0.post0)\nRequirement already satisfied: pytz>=2020.1 in /opt/conda/lib/python3.10/site-packages (from pandas>=0.24->catboost) (2024.1)\nRequirement already satisfied: tzdata>=2022.7 in /opt/conda/lib/python3.10/site-packages (from pandas>=0.24->catboost) (2024.1)\nRequirement already satisfied: contourpy>=1.0.1 in /opt/conda/lib/python3.10/site-packages (from matplotlib->catboost) (1.2.1)\nRequirement already satisfied: cycler>=0.10 in /opt/conda/lib/python3.10/site-packages (from matplotlib->catboost) (0.12.1)\nRequirement already satisfied: fonttools>=4.22.0 in /opt/conda/lib/python3.10/site-packages (from matplotlib->catboost) (4.53.0)\nRequirement already satisfied: kiwisolver>=1.0.1 in /opt/conda/lib/python3.10/site-packages (from matplotlib->catboost) (1.4.5)\nRequirement already satisfied: packaging>=20.0 in /opt/conda/lib/python3.10/site-packages (from matplotlib->catboost) (21.3)\nRequirement already satisfied: pillow>=6.2.0 in /opt/conda/lib/python3.10/site-packages (from matplotlib->catboost) (9.5.0)\nRequirement already satisfied: pyparsing>=2.3.1 in /opt/conda/lib/python3.10/site-packages (from matplotlib->catboost) (3.1.2)\nRequirement already satisfied: tenacity>=6.2.0 in /opt/conda/lib/python3.10/site-packages (from plotly->catboost) (8.3.0)\nRequirement already satisfied: optuna in /opt/conda/lib/python3.10/site-packages (3.6.1)\nRequirement already satisfied: alembic>=1.5.0 in /opt/conda/lib/python3.10/site-packages (from optuna) (1.13.2)\nRequirement already satisfied: colorlog in /opt/conda/lib/python3.10/site-packages (from optuna) (6.8.2)\nRequirement already satisfied: numpy in /opt/conda/lib/python3.10/site-packages (from optuna) (1.26.4)\nRequirement already satisfied: packaging>=20.0 in /opt/conda/lib/python3.10/site-packages (from optuna) (21.3)\nRequirement already satisfied: sqlalchemy>=1.3.0 in /opt/conda/lib/python3.10/site-packages (from optuna) (2.0.30)\nRequirement already satisfied: tqdm in /opt/conda/lib/python3.10/site-packages (from optuna) (4.66.4)\nRequirement already satisfied: PyYAML in /opt/conda/lib/python3.10/site-packages (from optuna) (6.0.2)\nRequirement already satisfied: Mako in /opt/conda/lib/python3.10/site-packages (from alembic>=1.5.0->optuna) (1.3.5)\nRequirement already satisfied: typing-extensions>=4 in /opt/conda/lib/python3.10/site-packages (from alembic>=1.5.0->optuna) (4.12.2)\nRequirement already satisfied: pyparsing!=3.0.5,>=2.0.2 in /opt/conda/lib/python3.10/site-packages (from packaging>=20.0->optuna) (3.1.2)\nRequirement already satisfied: greenlet!=0.4.17 in /opt/conda/lib/python3.10/site-packages (from sqlalchemy>=1.3.0->optuna) (3.0.3)\nRequirement already satisfied: MarkupSafe>=0.9.2 in /opt/conda/lib/python3.10/site-packages (from Mako->alembic>=1.5.0->optuna) (2.1.5)\n",
          "output_type": "stream"
        }
      ]
    },
    {
      "cell_type": "code",
      "source": [
        "import catboost"
      ],
      "metadata": {
        "execution": {
          "iopub.status.busy": "2024-09-12T06:58:17.042060Z",
          "iopub.execute_input": "2024-09-12T06:58:17.042427Z",
          "iopub.status.idle": "2024-09-12T06:58:17.516107Z",
          "shell.execute_reply.started": "2024-09-12T06:58:17.042391Z",
          "shell.execute_reply": "2024-09-12T06:58:17.515143Z"
        },
        "trusted": true,
        "id": "rprjv5RI048J"
      },
      "execution_count": null,
      "outputs": []
    },
    {
      "cell_type": "code",
      "source": [
        "X_train.info()"
      ],
      "metadata": {
        "execution": {
          "iopub.status.busy": "2024-09-12T06:58:17.517222Z",
          "iopub.execute_input": "2024-09-12T06:58:17.517501Z",
          "iopub.status.idle": "2024-09-12T06:58:17.532698Z",
          "shell.execute_reply.started": "2024-09-12T06:58:17.517470Z",
          "shell.execute_reply": "2024-09-12T06:58:17.531737Z"
        },
        "trusted": true,
        "id": "19_hwn1Y048J",
        "outputId": "968f7002-1fc8-49ac-9156-5f1bc5d1955f"
      },
      "execution_count": null,
      "outputs": [
        {
          "name": "stdout",
          "text": "<class 'pandas.core.frame.DataFrame'>\nRangeIndex: 8667034 entries, 0 to 8667033\nData columns (total 24 columns):\n #   Column                   Dtype  \n---  ------                   -----  \n 0   testword_id              int64  \n 1   test_id                  int64  \n 2   word                     object \n 3   checked                  int64  \n 4   version                  object \n 5   status                   object \n 6   test_year                int64  \n 7   test_month               int64  \n 8   test_day                 int64  \n 9   test_hour                int64  \n 10  country                  object \n 11  native_lang              object \n 12  year_of_birth            float64\n 13  education                object \n 14  occupation               object \n 15  fake_checked_percentage  float64\n 16  checked_per              float64\n 17  age                      float64\n 18  runtime                  float64\n 19  native_lang_new          int64  \n 20  country_new              int64  \n 21  education_new            float64\n 22  occupation_new           float64\n 23  len                      int64  \ndtypes: float64(7), int64(10), object(7)\nmemory usage: 1.5+ GB\n",
          "output_type": "stream"
        }
      ]
    },
    {
      "cell_type": "code",
      "source": [
        "X_train.isna().sum()"
      ],
      "metadata": {
        "execution": {
          "iopub.status.busy": "2024-09-12T06:58:17.533985Z",
          "iopub.execute_input": "2024-09-12T06:58:17.534325Z",
          "iopub.status.idle": "2024-09-12T06:58:23.136860Z",
          "shell.execute_reply.started": "2024-09-12T06:58:17.534291Z",
          "shell.execute_reply": "2024-09-12T06:58:23.135960Z"
        },
        "trusted": true,
        "id": "0uT78_8z048J",
        "outputId": "0c532cb2-fd41-4afb-d7a2-a19977755970"
      },
      "execution_count": null,
      "outputs": [
        {
          "execution_count": 23,
          "output_type": "execute_result",
          "data": {
            "text/plain": "testword_id                0\ntest_id                    0\nword                       0\nchecked                    0\nversion                    0\nstatus                     0\ntest_year                  0\ntest_month                 0\ntest_day                   0\ntest_hour                  0\ncountry                    0\nnative_lang                0\nyear_of_birth              0\neducation                  0\noccupation                 0\nfake_checked_percentage    0\nchecked_per                0\nage                        0\nruntime                    0\nnative_lang_new            0\ncountry_new                0\neducation_new              0\noccupation_new             0\nlen                        0\ndtype: int64"
          },
          "metadata": {}
        }
      ]
    },
    {
      "cell_type": "code",
      "source": [
        "X_test"
      ],
      "metadata": {
        "execution": {
          "iopub.status.busy": "2024-09-11T20:06:35.021569Z",
          "iopub.execute_input": "2024-09-11T20:06:35.022385Z",
          "iopub.status.idle": "2024-09-11T20:06:35.226174Z",
          "shell.execute_reply.started": "2024-09-11T20:06:35.022346Z",
          "shell.execute_reply": "2024-09-11T20:06:35.225110Z"
        },
        "trusted": true,
        "id": "5V6KhAll048K",
        "outputId": "82a8867c-3362-4fe7-b0c1-26f34aff60a0"
      },
      "execution_count": null,
      "outputs": [
        {
          "execution_count": 31,
          "output_type": "execute_result",
          "data": {
            "text/plain": "        testword_id  test_id              word version     status  test_year  \\\n0                24    60064  uncompromisingly       2  completed       2024   \n1                54    86393         fomenting       2  completed       2024   \n2               150    50050           pietism       2  completed       2024   \n3               159     1982         sheepskin       1  completed       2024   \n4               271    61644             coope       2  completed       2024   \n...             ...      ...               ...     ...        ...        ...   \n188855      8855688     2658           aborted       1  completed       2024   \n188856      8855755    56150     interbreeding       2  completed       2024   \n188857      8855782    27132     complutensian       2  completed       2024   \n188858      8855869    39878              cave       2  completed       2024   \n188859      8855889    96626    anticapitalist       2  completed       2024   \n\n        test_month  test_day  test_hour country  ...  occupation  \\\n0                7        19         12      GB  ...       other   \n1                8        10         20      DE  ...       other   \n2                7         9         19      CL  ...       other   \n3                5        22         11      IT  ...       other   \n4                7        20         23      FR  ...       other   \n...            ...       ...        ...     ...  ...         ...   \n188855           5        25          3      US  ...    business   \n188856           7        15         16      TH  ...       other   \n188857           6        20          8      US  ...   education   \n188858           6        30         20      US  ...       other   \n188859           8        18          3      IN  ...  healthcare   \n\n        fake_checked_percentage checked_per   age  runtime  native_lang_new  \\\n0                      0.000000    0.523810  61.0  360.881                0   \n1                      0.000000    0.563492  18.0  299.286                0   \n2                      0.291667    0.436508  14.0  392.806                0   \n3                      0.000000    0.587302  51.0  235.594                0   \n4                      0.083333    0.690476  40.0  336.465                0   \n...                         ...         ...   ...      ...              ...   \n188855                 0.041667    0.634921  86.0  358.637                1   \n188856                 0.291667    0.537736  18.0  452.931                0   \n188857                 0.041667    0.595238  16.0  353.357                0   \n188858                 0.250000    0.177419  32.0  519.781                0   \n188859                 0.208333    0.902439  25.0  365.824                0   \n\n        country_new  education_new  occupation_new  len  \n0                 1            3.0             6.0   16  \n1                 0            3.0             6.0    9  \n2                 0            3.0             6.0    7  \n3                 0            7.0             6.0    9  \n4                 0            2.0             6.0    5  \n...             ...            ...             ...  ...  \n188855            1            7.0             8.0    7  \n188856            0            3.0             6.0   13  \n188857            1            3.0            10.0   13  \n188858            1            4.0             6.0    4  \n188859            1            4.0             7.0   14  \n\n[188860 rows x 23 columns]",
            "text/html": "<div>\n<style scoped>\n    .dataframe tbody tr th:only-of-type {\n        vertical-align: middle;\n    }\n\n    .dataframe tbody tr th {\n        vertical-align: top;\n    }\n\n    .dataframe thead th {\n        text-align: right;\n    }\n</style>\n<table border=\"1\" class=\"dataframe\">\n  <thead>\n    <tr style=\"text-align: right;\">\n      <th></th>\n      <th>testword_id</th>\n      <th>test_id</th>\n      <th>word</th>\n      <th>version</th>\n      <th>status</th>\n      <th>test_year</th>\n      <th>test_month</th>\n      <th>test_day</th>\n      <th>test_hour</th>\n      <th>country</th>\n      <th>...</th>\n      <th>occupation</th>\n      <th>fake_checked_percentage</th>\n      <th>checked_per</th>\n      <th>age</th>\n      <th>runtime</th>\n      <th>native_lang_new</th>\n      <th>country_new</th>\n      <th>education_new</th>\n      <th>occupation_new</th>\n      <th>len</th>\n    </tr>\n  </thead>\n  <tbody>\n    <tr>\n      <th>0</th>\n      <td>24</td>\n      <td>60064</td>\n      <td>uncompromisingly</td>\n      <td>2</td>\n      <td>completed</td>\n      <td>2024</td>\n      <td>7</td>\n      <td>19</td>\n      <td>12</td>\n      <td>GB</td>\n      <td>...</td>\n      <td>other</td>\n      <td>0.000000</td>\n      <td>0.523810</td>\n      <td>61.0</td>\n      <td>360.881</td>\n      <td>0</td>\n      <td>1</td>\n      <td>3.0</td>\n      <td>6.0</td>\n      <td>16</td>\n    </tr>\n    <tr>\n      <th>1</th>\n      <td>54</td>\n      <td>86393</td>\n      <td>fomenting</td>\n      <td>2</td>\n      <td>completed</td>\n      <td>2024</td>\n      <td>8</td>\n      <td>10</td>\n      <td>20</td>\n      <td>DE</td>\n      <td>...</td>\n      <td>other</td>\n      <td>0.000000</td>\n      <td>0.563492</td>\n      <td>18.0</td>\n      <td>299.286</td>\n      <td>0</td>\n      <td>0</td>\n      <td>3.0</td>\n      <td>6.0</td>\n      <td>9</td>\n    </tr>\n    <tr>\n      <th>2</th>\n      <td>150</td>\n      <td>50050</td>\n      <td>pietism</td>\n      <td>2</td>\n      <td>completed</td>\n      <td>2024</td>\n      <td>7</td>\n      <td>9</td>\n      <td>19</td>\n      <td>CL</td>\n      <td>...</td>\n      <td>other</td>\n      <td>0.291667</td>\n      <td>0.436508</td>\n      <td>14.0</td>\n      <td>392.806</td>\n      <td>0</td>\n      <td>0</td>\n      <td>3.0</td>\n      <td>6.0</td>\n      <td>7</td>\n    </tr>\n    <tr>\n      <th>3</th>\n      <td>159</td>\n      <td>1982</td>\n      <td>sheepskin</td>\n      <td>1</td>\n      <td>completed</td>\n      <td>2024</td>\n      <td>5</td>\n      <td>22</td>\n      <td>11</td>\n      <td>IT</td>\n      <td>...</td>\n      <td>other</td>\n      <td>0.000000</td>\n      <td>0.587302</td>\n      <td>51.0</td>\n      <td>235.594</td>\n      <td>0</td>\n      <td>0</td>\n      <td>7.0</td>\n      <td>6.0</td>\n      <td>9</td>\n    </tr>\n    <tr>\n      <th>4</th>\n      <td>271</td>\n      <td>61644</td>\n      <td>coope</td>\n      <td>2</td>\n      <td>completed</td>\n      <td>2024</td>\n      <td>7</td>\n      <td>20</td>\n      <td>23</td>\n      <td>FR</td>\n      <td>...</td>\n      <td>other</td>\n      <td>0.083333</td>\n      <td>0.690476</td>\n      <td>40.0</td>\n      <td>336.465</td>\n      <td>0</td>\n      <td>0</td>\n      <td>2.0</td>\n      <td>6.0</td>\n      <td>5</td>\n    </tr>\n    <tr>\n      <th>...</th>\n      <td>...</td>\n      <td>...</td>\n      <td>...</td>\n      <td>...</td>\n      <td>...</td>\n      <td>...</td>\n      <td>...</td>\n      <td>...</td>\n      <td>...</td>\n      <td>...</td>\n      <td>...</td>\n      <td>...</td>\n      <td>...</td>\n      <td>...</td>\n      <td>...</td>\n      <td>...</td>\n      <td>...</td>\n      <td>...</td>\n      <td>...</td>\n      <td>...</td>\n      <td>...</td>\n    </tr>\n    <tr>\n      <th>188855</th>\n      <td>8855688</td>\n      <td>2658</td>\n      <td>aborted</td>\n      <td>1</td>\n      <td>completed</td>\n      <td>2024</td>\n      <td>5</td>\n      <td>25</td>\n      <td>3</td>\n      <td>US</td>\n      <td>...</td>\n      <td>business</td>\n      <td>0.041667</td>\n      <td>0.634921</td>\n      <td>86.0</td>\n      <td>358.637</td>\n      <td>1</td>\n      <td>1</td>\n      <td>7.0</td>\n      <td>8.0</td>\n      <td>7</td>\n    </tr>\n    <tr>\n      <th>188856</th>\n      <td>8855755</td>\n      <td>56150</td>\n      <td>interbreeding</td>\n      <td>2</td>\n      <td>completed</td>\n      <td>2024</td>\n      <td>7</td>\n      <td>15</td>\n      <td>16</td>\n      <td>TH</td>\n      <td>...</td>\n      <td>other</td>\n      <td>0.291667</td>\n      <td>0.537736</td>\n      <td>18.0</td>\n      <td>452.931</td>\n      <td>0</td>\n      <td>0</td>\n      <td>3.0</td>\n      <td>6.0</td>\n      <td>13</td>\n    </tr>\n    <tr>\n      <th>188857</th>\n      <td>8855782</td>\n      <td>27132</td>\n      <td>complutensian</td>\n      <td>2</td>\n      <td>completed</td>\n      <td>2024</td>\n      <td>6</td>\n      <td>20</td>\n      <td>8</td>\n      <td>US</td>\n      <td>...</td>\n      <td>education</td>\n      <td>0.041667</td>\n      <td>0.595238</td>\n      <td>16.0</td>\n      <td>353.357</td>\n      <td>0</td>\n      <td>1</td>\n      <td>3.0</td>\n      <td>10.0</td>\n      <td>13</td>\n    </tr>\n    <tr>\n      <th>188858</th>\n      <td>8855869</td>\n      <td>39878</td>\n      <td>cave</td>\n      <td>2</td>\n      <td>completed</td>\n      <td>2024</td>\n      <td>6</td>\n      <td>30</td>\n      <td>20</td>\n      <td>US</td>\n      <td>...</td>\n      <td>other</td>\n      <td>0.250000</td>\n      <td>0.177419</td>\n      <td>32.0</td>\n      <td>519.781</td>\n      <td>0</td>\n      <td>1</td>\n      <td>4.0</td>\n      <td>6.0</td>\n      <td>4</td>\n    </tr>\n    <tr>\n      <th>188859</th>\n      <td>8855889</td>\n      <td>96626</td>\n      <td>anticapitalist</td>\n      <td>2</td>\n      <td>completed</td>\n      <td>2024</td>\n      <td>8</td>\n      <td>18</td>\n      <td>3</td>\n      <td>IN</td>\n      <td>...</td>\n      <td>healthcare</td>\n      <td>0.208333</td>\n      <td>0.902439</td>\n      <td>25.0</td>\n      <td>365.824</td>\n      <td>0</td>\n      <td>1</td>\n      <td>4.0</td>\n      <td>7.0</td>\n      <td>14</td>\n    </tr>\n  </tbody>\n</table>\n<p>188860 rows × 23 columns</p>\n</div>"
          },
          "metadata": {}
        }
      ]
    },
    {
      "cell_type": "code",
      "source": [
        "y_train = X_train['checked']\n",
        "y_id_test = X_test['testword_id']\n",
        "X_train = X_train.drop(['checked'], axis=1)"
      ],
      "metadata": {
        "execution": {
          "iopub.status.busy": "2024-09-11T20:07:27.717509Z",
          "iopub.execute_input": "2024-09-11T20:07:27.718403Z",
          "iopub.status.idle": "2024-09-11T20:07:29.132927Z",
          "shell.execute_reply.started": "2024-09-11T20:07:27.718360Z",
          "shell.execute_reply": "2024-09-11T20:07:29.131888Z"
        },
        "trusted": true,
        "id": "xAdiWvn0048K"
      },
      "execution_count": null,
      "outputs": []
    },
    {
      "cell_type": "code",
      "source": [
        "# X_train = X_train.drop(['embed_w2v'])\n",
        "# X_test = X_test.drop(['embed_w2v'])"
      ],
      "metadata": {
        "execution": {
          "iopub.status.busy": "2024-09-11T11:58:05.030993Z",
          "iopub.status.idle": "2024-09-11T11:58:05.031475Z",
          "shell.execute_reply.started": "2024-09-11T11:58:05.031200Z",
          "shell.execute_reply": "2024-09-11T11:58:05.031223Z"
        },
        "trusted": true,
        "id": "pp3XriAB048K"
      },
      "execution_count": null,
      "outputs": []
    },
    {
      "cell_type": "code",
      "source": [
        "# , embedding_features=['embed_w2v']"
      ],
      "metadata": {
        "execution": {
          "iopub.status.busy": "2024-09-11T11:58:05.033770Z",
          "iopub.status.idle": "2024-09-11T11:58:05.034223Z",
          "shell.execute_reply.started": "2024-09-11T11:58:05.033982Z",
          "shell.execute_reply": "2024-09-11T11:58:05.034007Z"
        },
        "trusted": true,
        "id": "AYF-fcRJ048K"
      },
      "execution_count": null,
      "outputs": []
    },
    {
      "cell_type": "code",
      "source": [
        "X_train"
      ],
      "metadata": {
        "execution": {
          "iopub.status.busy": "2024-09-11T20:09:02.951825Z",
          "iopub.execute_input": "2024-09-11T20:09:02.952598Z",
          "iopub.status.idle": "2024-09-11T20:09:11.398582Z",
          "shell.execute_reply.started": "2024-09-11T20:09:02.952552Z",
          "shell.execute_reply": "2024-09-11T20:09:11.397651Z"
        },
        "trusted": true,
        "id": "ITf6Hzc-048L",
        "outputId": "46de9fd4-d6f7-4634-c33b-7a5eb818c248"
      },
      "execution_count": null,
      "outputs": [
        {
          "execution_count": 33,
          "output_type": "execute_result",
          "data": {
            "text/plain": "         testword_id  test_id            word version       status  test_year  \\\n0                  0    23240         crustal       2    completed       2024   \n1                  1    25923        prideful       2  in-progress       2024   \n2                  2    22812        boneless       2  in-progress       2024   \n3                  3    66063    reorganizing       2    completed       2024   \n4                  4    63600           salsa       2  in-progress       2024   \n...              ...      ...             ...     ...          ...        ...   \n8667029      8855888    89690         auditor       2  in-progress       2024   \n8667030      8855890    59975        opposing       2  in-progress       2024   \n8667031      8855891    23881        lawgiver       2    completed       2024   \n8667032      8855892    14768          stayed       2    completed       2024   \n8667033      8855893    97856  insufficiently       2    completed       2024   \n\n         test_month  test_day  test_hour country  ... occupation  \\\n0                 6        17          8      IT  ...      other   \n1                 6        19          9      IN  ...      other   \n2                 6        16         20      PK  ...      other   \n3                 7        25          1      PK  ...      other   \n4                 7        22         19      PK  ...      other   \n...             ...       ...        ...     ...  ...        ...   \n8667029           8        13          8      PH  ...      other   \n8667030           7        19         11      IT  ...      other   \n8667031           6        17         17      IN  ...      other   \n8667032           6         9         17      IN  ...      other   \n8667033           8        18         20      PK  ...      other   \n\n         fake_checked_percentage checked_per   age  runtime  native_lang_new  \\\n0                       0.041667    0.523810  16.0  250.060                0   \n1                       0.041667    0.563492  19.0  313.956                0   \n2                       0.208333    0.436508  19.0  313.956                0   \n3                       0.208333    0.587302  36.0  695.638                0   \n4                       0.000000    0.690476  19.0  313.956                0   \n...                          ...         ...   ...      ...              ...   \n8667029                 0.041667    0.674603  19.0  313.956                0   \n8667030                 0.125000    0.595238  19.0  313.956                0   \n8667031                 0.208333    0.587302  19.0  247.629                0   \n8667032                 0.000000    0.420635  33.0  340.801                0   \n8667033                 0.000000    0.341270  21.0  244.537                0   \n\n         country_new  education_new  occupation_new  len  \n0                  0            3.0             6.0    7  \n1                  0            2.0             6.0    8  \n2                  0            2.0             6.0    8  \n3                  0            4.0             6.0   12  \n4                  0            2.0             6.0    5  \n...              ...            ...             ...  ...  \n8667029            0            2.0             6.0    7  \n8667030            0            2.0             6.0    8  \n8667031            0            3.0             6.0    8  \n8667032            0            5.0             6.0    6  \n8667033            0            3.0             6.0   14  \n\n[8667034 rows x 23 columns]",
            "text/html": "<div>\n<style scoped>\n    .dataframe tbody tr th:only-of-type {\n        vertical-align: middle;\n    }\n\n    .dataframe tbody tr th {\n        vertical-align: top;\n    }\n\n    .dataframe thead th {\n        text-align: right;\n    }\n</style>\n<table border=\"1\" class=\"dataframe\">\n  <thead>\n    <tr style=\"text-align: right;\">\n      <th></th>\n      <th>testword_id</th>\n      <th>test_id</th>\n      <th>word</th>\n      <th>version</th>\n      <th>status</th>\n      <th>test_year</th>\n      <th>test_month</th>\n      <th>test_day</th>\n      <th>test_hour</th>\n      <th>country</th>\n      <th>...</th>\n      <th>occupation</th>\n      <th>fake_checked_percentage</th>\n      <th>checked_per</th>\n      <th>age</th>\n      <th>runtime</th>\n      <th>native_lang_new</th>\n      <th>country_new</th>\n      <th>education_new</th>\n      <th>occupation_new</th>\n      <th>len</th>\n    </tr>\n  </thead>\n  <tbody>\n    <tr>\n      <th>0</th>\n      <td>0</td>\n      <td>23240</td>\n      <td>crustal</td>\n      <td>2</td>\n      <td>completed</td>\n      <td>2024</td>\n      <td>6</td>\n      <td>17</td>\n      <td>8</td>\n      <td>IT</td>\n      <td>...</td>\n      <td>other</td>\n      <td>0.041667</td>\n      <td>0.523810</td>\n      <td>16.0</td>\n      <td>250.060</td>\n      <td>0</td>\n      <td>0</td>\n      <td>3.0</td>\n      <td>6.0</td>\n      <td>7</td>\n    </tr>\n    <tr>\n      <th>1</th>\n      <td>1</td>\n      <td>25923</td>\n      <td>prideful</td>\n      <td>2</td>\n      <td>in-progress</td>\n      <td>2024</td>\n      <td>6</td>\n      <td>19</td>\n      <td>9</td>\n      <td>IN</td>\n      <td>...</td>\n      <td>other</td>\n      <td>0.041667</td>\n      <td>0.563492</td>\n      <td>19.0</td>\n      <td>313.956</td>\n      <td>0</td>\n      <td>0</td>\n      <td>2.0</td>\n      <td>6.0</td>\n      <td>8</td>\n    </tr>\n    <tr>\n      <th>2</th>\n      <td>2</td>\n      <td>22812</td>\n      <td>boneless</td>\n      <td>2</td>\n      <td>in-progress</td>\n      <td>2024</td>\n      <td>6</td>\n      <td>16</td>\n      <td>20</td>\n      <td>PK</td>\n      <td>...</td>\n      <td>other</td>\n      <td>0.208333</td>\n      <td>0.436508</td>\n      <td>19.0</td>\n      <td>313.956</td>\n      <td>0</td>\n      <td>0</td>\n      <td>2.0</td>\n      <td>6.0</td>\n      <td>8</td>\n    </tr>\n    <tr>\n      <th>3</th>\n      <td>3</td>\n      <td>66063</td>\n      <td>reorganizing</td>\n      <td>2</td>\n      <td>completed</td>\n      <td>2024</td>\n      <td>7</td>\n      <td>25</td>\n      <td>1</td>\n      <td>PK</td>\n      <td>...</td>\n      <td>other</td>\n      <td>0.208333</td>\n      <td>0.587302</td>\n      <td>36.0</td>\n      <td>695.638</td>\n      <td>0</td>\n      <td>0</td>\n      <td>4.0</td>\n      <td>6.0</td>\n      <td>12</td>\n    </tr>\n    <tr>\n      <th>4</th>\n      <td>4</td>\n      <td>63600</td>\n      <td>salsa</td>\n      <td>2</td>\n      <td>in-progress</td>\n      <td>2024</td>\n      <td>7</td>\n      <td>22</td>\n      <td>19</td>\n      <td>PK</td>\n      <td>...</td>\n      <td>other</td>\n      <td>0.000000</td>\n      <td>0.690476</td>\n      <td>19.0</td>\n      <td>313.956</td>\n      <td>0</td>\n      <td>0</td>\n      <td>2.0</td>\n      <td>6.0</td>\n      <td>5</td>\n    </tr>\n    <tr>\n      <th>...</th>\n      <td>...</td>\n      <td>...</td>\n      <td>...</td>\n      <td>...</td>\n      <td>...</td>\n      <td>...</td>\n      <td>...</td>\n      <td>...</td>\n      <td>...</td>\n      <td>...</td>\n      <td>...</td>\n      <td>...</td>\n      <td>...</td>\n      <td>...</td>\n      <td>...</td>\n      <td>...</td>\n      <td>...</td>\n      <td>...</td>\n      <td>...</td>\n      <td>...</td>\n      <td>...</td>\n    </tr>\n    <tr>\n      <th>8667029</th>\n      <td>8855888</td>\n      <td>89690</td>\n      <td>auditor</td>\n      <td>2</td>\n      <td>in-progress</td>\n      <td>2024</td>\n      <td>8</td>\n      <td>13</td>\n      <td>8</td>\n      <td>PH</td>\n      <td>...</td>\n      <td>other</td>\n      <td>0.041667</td>\n      <td>0.674603</td>\n      <td>19.0</td>\n      <td>313.956</td>\n      <td>0</td>\n      <td>0</td>\n      <td>2.0</td>\n      <td>6.0</td>\n      <td>7</td>\n    </tr>\n    <tr>\n      <th>8667030</th>\n      <td>8855890</td>\n      <td>59975</td>\n      <td>opposing</td>\n      <td>2</td>\n      <td>in-progress</td>\n      <td>2024</td>\n      <td>7</td>\n      <td>19</td>\n      <td>11</td>\n      <td>IT</td>\n      <td>...</td>\n      <td>other</td>\n      <td>0.125000</td>\n      <td>0.595238</td>\n      <td>19.0</td>\n      <td>313.956</td>\n      <td>0</td>\n      <td>0</td>\n      <td>2.0</td>\n      <td>6.0</td>\n      <td>8</td>\n    </tr>\n    <tr>\n      <th>8667031</th>\n      <td>8855891</td>\n      <td>23881</td>\n      <td>lawgiver</td>\n      <td>2</td>\n      <td>completed</td>\n      <td>2024</td>\n      <td>6</td>\n      <td>17</td>\n      <td>17</td>\n      <td>IN</td>\n      <td>...</td>\n      <td>other</td>\n      <td>0.208333</td>\n      <td>0.587302</td>\n      <td>19.0</td>\n      <td>247.629</td>\n      <td>0</td>\n      <td>0</td>\n      <td>3.0</td>\n      <td>6.0</td>\n      <td>8</td>\n    </tr>\n    <tr>\n      <th>8667032</th>\n      <td>8855892</td>\n      <td>14768</td>\n      <td>stayed</td>\n      <td>2</td>\n      <td>completed</td>\n      <td>2024</td>\n      <td>6</td>\n      <td>9</td>\n      <td>17</td>\n      <td>IN</td>\n      <td>...</td>\n      <td>other</td>\n      <td>0.000000</td>\n      <td>0.420635</td>\n      <td>33.0</td>\n      <td>340.801</td>\n      <td>0</td>\n      <td>0</td>\n      <td>5.0</td>\n      <td>6.0</td>\n      <td>6</td>\n    </tr>\n    <tr>\n      <th>8667033</th>\n      <td>8855893</td>\n      <td>97856</td>\n      <td>insufficiently</td>\n      <td>2</td>\n      <td>completed</td>\n      <td>2024</td>\n      <td>8</td>\n      <td>18</td>\n      <td>20</td>\n      <td>PK</td>\n      <td>...</td>\n      <td>other</td>\n      <td>0.000000</td>\n      <td>0.341270</td>\n      <td>21.0</td>\n      <td>244.537</td>\n      <td>0</td>\n      <td>0</td>\n      <td>3.0</td>\n      <td>6.0</td>\n      <td>14</td>\n    </tr>\n  </tbody>\n</table>\n<p>8667034 rows × 23 columns</p>\n</div>"
          },
          "metadata": {}
        }
      ]
    },
    {
      "cell_type": "code",
      "source": [
        "model = catboost.CatBoostClassifier(cat_features=['word', 'status', 'education', 'occupation', 'country', 'native_lang', 'version'], task_type=\"GPU\")\n",
        "model.fit(X_train, y_train)"
      ],
      "metadata": {
        "execution": {
          "iopub.status.busy": "2024-09-11T20:09:33.574218Z",
          "iopub.execute_input": "2024-09-11T20:09:33.575038Z",
          "iopub.status.idle": "2024-09-11T20:20:21.192109Z",
          "shell.execute_reply.started": "2024-09-11T20:09:33.574996Z",
          "shell.execute_reply": "2024-09-11T20:20:21.190949Z"
        },
        "trusted": true,
        "id": "F7zR-7F6048L",
        "outputId": "73daadc1-ff70-4eb3-9bdb-02f6c3838d9b"
      },
      "execution_count": null,
      "outputs": [
        {
          "name": "stdout",
          "text": "Learning rate set to 0.020473\n0:\tlearn: 0.6809884\ttotal: 7.85s\tremaining: 2h 10m 46s\n1:\tlearn: 0.6693510\ttotal: 8.43s\tremaining: 1h 10m 6s\n2:\tlearn: 0.6582107\ttotal: 9.02s\tremaining: 49m 56s\n3:\tlearn: 0.6479886\ttotal: 9.59s\tremaining: 39m 48s\n4:\tlearn: 0.6380466\ttotal: 10.2s\tremaining: 33m 42s\n5:\tlearn: 0.6288295\ttotal: 10.8s\tremaining: 29m 41s\n6:\tlearn: 0.6197767\ttotal: 11.3s\tremaining: 26m 36s\n7:\tlearn: 0.6111556\ttotal: 11.8s\tremaining: 24m 26s\n8:\tlearn: 0.6029333\ttotal: 12.4s\tremaining: 22m 45s\n9:\tlearn: 0.5948856\ttotal: 12.7s\tremaining: 21m 1s\n10:\tlearn: 0.5875621\ttotal: 13.2s\tremaining: 19m 51s\n11:\tlearn: 0.5806683\ttotal: 13.8s\tremaining: 18m 52s\n12:\tlearn: 0.5739713\ttotal: 14.3s\tremaining: 18m 2s\n13:\tlearn: 0.5676543\ttotal: 14.8s\tremaining: 17m 19s\n14:\tlearn: 0.5615334\ttotal: 15.3s\tremaining: 16m 42s\n15:\tlearn: 0.5558272\ttotal: 15.8s\tremaining: 16m 10s\n16:\tlearn: 0.5505145\ttotal: 16.4s\tremaining: 15m 49s\n17:\tlearn: 0.5450466\ttotal: 16.9s\tremaining: 15m 24s\n18:\tlearn: 0.5401545\ttotal: 17.5s\tremaining: 15m 2s\n19:\tlearn: 0.5354092\ttotal: 18s\tremaining: 14m 41s\n20:\tlearn: 0.5306934\ttotal: 18.5s\tremaining: 14m 22s\n21:\tlearn: 0.5263240\ttotal: 19s\tremaining: 14m 6s\n22:\tlearn: 0.5218834\ttotal: 19.5s\tremaining: 13m 50s\n23:\tlearn: 0.5178457\ttotal: 20.1s\tremaining: 13m 35s\n24:\tlearn: 0.5141119\ttotal: 20.6s\tremaining: 13m 21s\n25:\tlearn: 0.5102860\ttotal: 21.1s\tremaining: 13m 9s\n26:\tlearn: 0.5066755\ttotal: 21.6s\tremaining: 12m 57s\n27:\tlearn: 0.5032929\ttotal: 22.1s\tremaining: 12m 46s\n28:\tlearn: 0.5001804\ttotal: 22.7s\tremaining: 12m 38s\n29:\tlearn: 0.4971362\ttotal: 23.3s\tremaining: 12m 34s\n30:\tlearn: 0.4941642\ttotal: 23.8s\tremaining: 12m 24s\n31:\tlearn: 0.4912938\ttotal: 24.3s\tremaining: 12m 16s\n32:\tlearn: 0.4886198\ttotal: 24.8s\tremaining: 12m 7s\n33:\tlearn: 0.4860066\ttotal: 25.3s\tremaining: 11m 59s\n34:\tlearn: 0.4835593\ttotal: 26s\tremaining: 11m 56s\n35:\tlearn: 0.4811534\ttotal: 26.5s\tremaining: 11m 49s\n36:\tlearn: 0.4790252\ttotal: 27.1s\tremaining: 11m 44s\n37:\tlearn: 0.4768989\ttotal: 27.7s\tremaining: 11m 41s\n38:\tlearn: 0.4747546\ttotal: 28.2s\tremaining: 11m 35s\n39:\tlearn: 0.4728337\ttotal: 28.7s\tremaining: 11m 29s\n40:\tlearn: 0.4709614\ttotal: 29.4s\tremaining: 11m 27s\n41:\tlearn: 0.4689831\ttotal: 29.7s\tremaining: 11m 18s\n42:\tlearn: 0.4672898\ttotal: 30.2s\tremaining: 11m 13s\n43:\tlearn: 0.4657140\ttotal: 30.9s\tremaining: 11m 11s\n44:\tlearn: 0.4639777\ttotal: 31.2s\tremaining: 11m 2s\n45:\tlearn: 0.4625245\ttotal: 31.7s\tremaining: 10m 57s\n46:\tlearn: 0.4610122\ttotal: 32.2s\tremaining: 10m 53s\n47:\tlearn: 0.4595995\ttotal: 32.9s\tremaining: 10m 52s\n48:\tlearn: 0.4581273\ttotal: 33.2s\tremaining: 10m 44s\n49:\tlearn: 0.4569522\ttotal: 33.7s\tremaining: 10m 40s\n50:\tlearn: 0.4556661\ttotal: 34.4s\tremaining: 10m 39s\n51:\tlearn: 0.4544786\ttotal: 34.9s\tremaining: 10m 35s\n52:\tlearn: 0.4533352\ttotal: 35.5s\tremaining: 10m 34s\n53:\tlearn: 0.4521790\ttotal: 36s\tremaining: 10m 31s\n54:\tlearn: 0.4511646\ttotal: 36.6s\tremaining: 10m 28s\n55:\tlearn: 0.4500765\ttotal: 37.1s\tremaining: 10m 25s\n56:\tlearn: 0.4490782\ttotal: 37.7s\tremaining: 10m 24s\n57:\tlearn: 0.4482103\ttotal: 38.3s\tremaining: 10m 22s\n58:\tlearn: 0.4473078\ttotal: 39s\tremaining: 10m 21s\n59:\tlearn: 0.4464442\ttotal: 39.5s\tremaining: 10m 19s\n60:\tlearn: 0.4455994\ttotal: 40.2s\tremaining: 10m 18s\n61:\tlearn: 0.4446853\ttotal: 40.5s\tremaining: 10m 13s\n62:\tlearn: 0.4438480\ttotal: 41.2s\tremaining: 10m 12s\n63:\tlearn: 0.4431330\ttotal: 41.8s\tremaining: 10m 10s\n64:\tlearn: 0.4424567\ttotal: 42.3s\tremaining: 10m 9s\n65:\tlearn: 0.4417066\ttotal: 43s\tremaining: 10m 8s\n66:\tlearn: 0.4410196\ttotal: 43.7s\tremaining: 10m 7s\n67:\tlearn: 0.4403072\ttotal: 44.1s\tremaining: 10m 3s\n68:\tlearn: 0.4397190\ttotal: 44.6s\tremaining: 10m 2s\n69:\tlearn: 0.4390191\ttotal: 45.1s\tremaining: 9m 59s\n70:\tlearn: 0.4384019\ttotal: 45.7s\tremaining: 9m 58s\n71:\tlearn: 0.4378568\ttotal: 46.3s\tremaining: 9m 56s\n72:\tlearn: 0.4372476\ttotal: 46.9s\tremaining: 9m 56s\n73:\tlearn: 0.4367224\ttotal: 47.4s\tremaining: 9m 53s\n74:\tlearn: 0.4361129\ttotal: 48s\tremaining: 9m 52s\n75:\tlearn: 0.4355682\ttotal: 48.7s\tremaining: 9m 51s\n76:\tlearn: 0.4350445\ttotal: 49.3s\tremaining: 9m 51s\n77:\tlearn: 0.4345234\ttotal: 49.9s\tremaining: 9m 50s\n78:\tlearn: 0.4340891\ttotal: 50.5s\tremaining: 9m 48s\n79:\tlearn: 0.4336220\ttotal: 51.1s\tremaining: 9m 48s\n80:\tlearn: 0.4331634\ttotal: 51.8s\tremaining: 9m 47s\n81:\tlearn: 0.4327850\ttotal: 52.4s\tremaining: 9m 46s\n82:\tlearn: 0.4323386\ttotal: 52.7s\tremaining: 9m 42s\n83:\tlearn: 0.4319298\ttotal: 53.4s\tremaining: 9m 41s\n84:\tlearn: 0.4315155\ttotal: 54s\tremaining: 9m 41s\n85:\tlearn: 0.4311264\ttotal: 54.7s\tremaining: 9m 41s\n86:\tlearn: 0.4307464\ttotal: 55.2s\tremaining: 9m 39s\n87:\tlearn: 0.4303894\ttotal: 55.8s\tremaining: 9m 38s\n88:\tlearn: 0.4300189\ttotal: 56.4s\tremaining: 9m 37s\n89:\tlearn: 0.4296697\ttotal: 56.9s\tremaining: 9m 35s\n90:\tlearn: 0.4293161\ttotal: 57.6s\tremaining: 9m 34s\n91:\tlearn: 0.4290080\ttotal: 58.1s\tremaining: 9m 33s\n92:\tlearn: 0.4286995\ttotal: 58.7s\tremaining: 9m 32s\n93:\tlearn: 0.4283859\ttotal: 59.3s\tremaining: 9m 31s\n94:\tlearn: 0.4281115\ttotal: 59.8s\tremaining: 9m 30s\n95:\tlearn: 0.4278165\ttotal: 1m\tremaining: 9m 28s\n96:\tlearn: 0.4275124\ttotal: 1m\tremaining: 9m 26s\n97:\tlearn: 0.4272117\ttotal: 1m 1s\tremaining: 9m 25s\n98:\tlearn: 0.4269220\ttotal: 1m 2s\tremaining: 9m 25s\n99:\tlearn: 0.4266731\ttotal: 1m 2s\tremaining: 9m 24s\n100:\tlearn: 0.4264170\ttotal: 1m 3s\tremaining: 9m 23s\n101:\tlearn: 0.4261744\ttotal: 1m 3s\tremaining: 9m 22s\n102:\tlearn: 0.4259180\ttotal: 1m 4s\tremaining: 9m 21s\n103:\tlearn: 0.4256947\ttotal: 1m 5s\tremaining: 9m 20s\n104:\tlearn: 0.4254683\ttotal: 1m 5s\tremaining: 9m 19s\n105:\tlearn: 0.4252398\ttotal: 1m 6s\tremaining: 9m 17s\n106:\tlearn: 0.4250163\ttotal: 1m 6s\tremaining: 9m 16s\n107:\tlearn: 0.4248309\ttotal: 1m 7s\tremaining: 9m 15s\n108:\tlearn: 0.4246134\ttotal: 1m 7s\tremaining: 9m 14s\n109:\tlearn: 0.4244134\ttotal: 1m 8s\tremaining: 9m 13s\n110:\tlearn: 0.4241988\ttotal: 1m 9s\tremaining: 9m 12s\n111:\tlearn: 0.4240096\ttotal: 1m 9s\tremaining: 9m 11s\n112:\tlearn: 0.4238201\ttotal: 1m 9s\tremaining: 9m 9s\n113:\tlearn: 0.4236273\ttotal: 1m 10s\tremaining: 9m 9s\n114:\tlearn: 0.4234419\ttotal: 1m 11s\tremaining: 9m 8s\n115:\tlearn: 0.4232396\ttotal: 1m 11s\tremaining: 9m 7s\n116:\tlearn: 0.4230614\ttotal: 1m 12s\tremaining: 9m 6s\n117:\tlearn: 0.4228770\ttotal: 1m 13s\tremaining: 9m 5s\n118:\tlearn: 0.4227239\ttotal: 1m 13s\tremaining: 9m 5s\n119:\tlearn: 0.4225551\ttotal: 1m 14s\tremaining: 9m 4s\n120:\tlearn: 0.4223982\ttotal: 1m 14s\tremaining: 9m 3s\n121:\tlearn: 0.4222490\ttotal: 1m 15s\tremaining: 9m 2s\n122:\tlearn: 0.4221155\ttotal: 1m 15s\tremaining: 9m\n123:\tlearn: 0.4219722\ttotal: 1m 16s\tremaining: 8m 58s\n124:\tlearn: 0.4218198\ttotal: 1m 16s\tremaining: 8m 58s\n125:\tlearn: 0.4216753\ttotal: 1m 17s\tremaining: 8m 57s\n126:\tlearn: 0.4215452\ttotal: 1m 17s\tremaining: 8m 55s\n127:\tlearn: 0.4214168\ttotal: 1m 18s\tremaining: 8m 53s\n128:\tlearn: 0.4212986\ttotal: 1m 18s\tremaining: 8m 51s\n129:\tlearn: 0.4211657\ttotal: 1m 19s\tremaining: 8m 51s\n130:\tlearn: 0.4210530\ttotal: 1m 19s\tremaining: 8m 49s\n131:\tlearn: 0.4209174\ttotal: 1m 20s\tremaining: 8m 48s\n132:\tlearn: 0.4207905\ttotal: 1m 21s\tremaining: 8m 48s\n133:\tlearn: 0.4206732\ttotal: 1m 21s\tremaining: 8m 46s\n134:\tlearn: 0.4205506\ttotal: 1m 22s\tremaining: 8m 45s\n135:\tlearn: 0.4204236\ttotal: 1m 22s\tremaining: 8m 45s\n136:\tlearn: 0.4203101\ttotal: 1m 23s\tremaining: 8m 43s\n137:\tlearn: 0.4201824\ttotal: 1m 23s\tremaining: 8m 41s\n138:\tlearn: 0.4200884\ttotal: 1m 23s\tremaining: 8m 39s\n139:\tlearn: 0.4199946\ttotal: 1m 24s\tremaining: 8m 38s\n140:\tlearn: 0.4198904\ttotal: 1m 24s\tremaining: 8m 36s\n141:\tlearn: 0.4198031\ttotal: 1m 25s\tremaining: 8m 36s\n142:\tlearn: 0.4196968\ttotal: 1m 26s\tremaining: 8m 35s\n143:\tlearn: 0.4195927\ttotal: 1m 26s\tremaining: 8m 34s\n144:\tlearn: 0.4194936\ttotal: 1m 27s\tremaining: 8m 33s\n145:\tlearn: 0.4194100\ttotal: 1m 27s\tremaining: 8m 33s\n146:\tlearn: 0.4193118\ttotal: 1m 28s\tremaining: 8m 32s\n147:\tlearn: 0.4192100\ttotal: 1m 28s\tremaining: 8m 30s\n148:\tlearn: 0.4191033\ttotal: 1m 29s\tremaining: 8m 30s\n149:\tlearn: 0.4189982\ttotal: 1m 29s\tremaining: 8m 29s\n150:\tlearn: 0.4188913\ttotal: 1m 30s\tremaining: 8m 28s\n151:\tlearn: 0.4188017\ttotal: 1m 30s\tremaining: 8m 27s\n152:\tlearn: 0.4187175\ttotal: 1m 31s\tremaining: 8m 25s\n153:\tlearn: 0.4186473\ttotal: 1m 31s\tremaining: 8m 24s\n154:\tlearn: 0.4185810\ttotal: 1m 32s\tremaining: 8m 23s\n155:\tlearn: 0.4184991\ttotal: 1m 32s\tremaining: 8m 22s\n156:\tlearn: 0.4184272\ttotal: 1m 33s\tremaining: 8m 21s\n157:\tlearn: 0.4183597\ttotal: 1m 33s\tremaining: 8m 20s\n158:\tlearn: 0.4182744\ttotal: 1m 34s\tremaining: 8m 19s\n159:\tlearn: 0.4181908\ttotal: 1m 34s\tremaining: 8m 18s\n160:\tlearn: 0.4181137\ttotal: 1m 35s\tremaining: 8m 18s\n161:\tlearn: 0.4180444\ttotal: 1m 36s\tremaining: 8m 16s\n162:\tlearn: 0.4179708\ttotal: 1m 36s\tremaining: 8m 15s\n163:\tlearn: 0.4179012\ttotal: 1m 37s\tremaining: 8m 15s\n164:\tlearn: 0.4178339\ttotal: 1m 37s\tremaining: 8m 14s\n165:\tlearn: 0.4177700\ttotal: 1m 38s\tremaining: 8m 13s\n166:\tlearn: 0.4177084\ttotal: 1m 38s\tremaining: 8m 12s\n167:\tlearn: 0.4176366\ttotal: 1m 39s\tremaining: 8m 11s\n168:\tlearn: 0.4175730\ttotal: 1m 39s\tremaining: 8m 10s\n169:\tlearn: 0.4175005\ttotal: 1m 40s\tremaining: 8m 8s\n170:\tlearn: 0.4174238\ttotal: 1m 40s\tremaining: 8m 7s\n171:\tlearn: 0.4173529\ttotal: 1m 41s\tremaining: 8m 7s\n172:\tlearn: 0.4172791\ttotal: 1m 41s\tremaining: 8m 7s\n173:\tlearn: 0.4172309\ttotal: 1m 42s\tremaining: 8m 5s\n174:\tlearn: 0.4171661\ttotal: 1m 42s\tremaining: 8m 5s\n175:\tlearn: 0.4171029\ttotal: 1m 43s\tremaining: 8m 4s\n176:\tlearn: 0.4170228\ttotal: 1m 43s\tremaining: 8m 2s\n177:\tlearn: 0.4169570\ttotal: 1m 44s\tremaining: 8m 2s\n178:\tlearn: 0.4168821\ttotal: 1m 45s\tremaining: 8m 2s\n179:\tlearn: 0.4168218\ttotal: 1m 45s\tremaining: 8m 1s\n180:\tlearn: 0.4167528\ttotal: 1m 46s\tremaining: 8m\n181:\tlearn: 0.4166857\ttotal: 1m 46s\tremaining: 8m\n182:\tlearn: 0.4166446\ttotal: 1m 47s\tremaining: 7m 59s\n183:\tlearn: 0.4165997\ttotal: 1m 47s\tremaining: 7m 58s\n184:\tlearn: 0.4165484\ttotal: 1m 48s\tremaining: 7m 57s\n185:\tlearn: 0.4165017\ttotal: 1m 48s\tremaining: 7m 56s\n186:\tlearn: 0.4164569\ttotal: 1m 49s\tremaining: 7m 55s\n187:\tlearn: 0.4163990\ttotal: 1m 50s\tremaining: 7m 55s\n188:\tlearn: 0.4163449\ttotal: 1m 50s\tremaining: 7m 54s\n189:\tlearn: 0.4162924\ttotal: 1m 51s\tremaining: 7m 53s\n190:\tlearn: 0.4162286\ttotal: 1m 51s\tremaining: 7m 52s\n191:\tlearn: 0.4161759\ttotal: 1m 52s\tremaining: 7m 52s\n192:\tlearn: 0.4161326\ttotal: 1m 52s\tremaining: 7m 51s\n193:\tlearn: 0.4160938\ttotal: 1m 53s\tremaining: 7m 50s\n194:\tlearn: 0.4160541\ttotal: 1m 53s\tremaining: 7m 50s\n195:\tlearn: 0.4160166\ttotal: 1m 54s\tremaining: 7m 49s\n196:\tlearn: 0.4159619\ttotal: 1m 54s\tremaining: 7m 48s\n197:\tlearn: 0.4158988\ttotal: 1m 55s\tremaining: 7m 46s\n198:\tlearn: 0.4158630\ttotal: 1m 55s\tremaining: 7m 46s\n199:\tlearn: 0.4158010\ttotal: 1m 56s\tremaining: 7m 45s\n200:\tlearn: 0.4157590\ttotal: 1m 56s\tremaining: 7m 44s\n201:\tlearn: 0.4157224\ttotal: 1m 57s\tremaining: 7m 43s\n202:\tlearn: 0.4156581\ttotal: 1m 57s\tremaining: 7m 43s\n203:\tlearn: 0.4156043\ttotal: 1m 58s\tremaining: 7m 42s\n204:\tlearn: 0.4155512\ttotal: 1m 59s\tremaining: 7m 41s\n205:\tlearn: 0.4155193\ttotal: 1m 59s\tremaining: 7m 40s\n206:\tlearn: 0.4154615\ttotal: 2m\tremaining: 7m 40s\n207:\tlearn: 0.4154073\ttotal: 2m\tremaining: 7m 39s\n208:\tlearn: 0.4153675\ttotal: 2m 1s\tremaining: 7m 38s\n209:\tlearn: 0.4153325\ttotal: 2m 1s\tremaining: 7m 37s\n210:\tlearn: 0.4153003\ttotal: 2m 2s\tremaining: 7m 36s\n211:\tlearn: 0.4152550\ttotal: 2m 2s\tremaining: 7m 36s\n212:\tlearn: 0.4152109\ttotal: 2m 3s\tremaining: 7m 35s\n213:\tlearn: 0.4151676\ttotal: 2m 4s\tremaining: 7m 35s\n214:\tlearn: 0.4151298\ttotal: 2m 4s\tremaining: 7m 35s\n215:\tlearn: 0.4150804\ttotal: 2m 5s\tremaining: 7m 34s\n216:\tlearn: 0.4150449\ttotal: 2m 5s\tremaining: 7m 33s\n217:\tlearn: 0.4150009\ttotal: 2m 6s\tremaining: 7m 33s\n218:\tlearn: 0.4149721\ttotal: 2m 6s\tremaining: 7m 32s\n219:\tlearn: 0.4149445\ttotal: 2m 7s\tremaining: 7m 31s\n220:\tlearn: 0.4149016\ttotal: 2m 7s\tremaining: 7m 30s\n221:\tlearn: 0.4148553\ttotal: 2m 8s\tremaining: 7m 29s\n222:\tlearn: 0.4148237\ttotal: 2m 8s\tremaining: 7m 28s\n223:\tlearn: 0.4147811\ttotal: 2m 9s\tremaining: 7m 28s\n224:\tlearn: 0.4147400\ttotal: 2m 10s\tremaining: 7m 28s\n225:\tlearn: 0.4146944\ttotal: 2m 10s\tremaining: 7m 27s\n226:\tlearn: 0.4146480\ttotal: 2m 11s\tremaining: 7m 26s\n227:\tlearn: 0.4146131\ttotal: 2m 11s\tremaining: 7m 25s\n228:\tlearn: 0.4145805\ttotal: 2m 12s\tremaining: 7m 24s\n229:\tlearn: 0.4145551\ttotal: 2m 12s\tremaining: 7m 23s\n230:\tlearn: 0.4145005\ttotal: 2m 13s\tremaining: 7m 23s\n231:\tlearn: 0.4144506\ttotal: 2m 13s\tremaining: 7m 22s\n232:\tlearn: 0.4144062\ttotal: 2m 14s\tremaining: 7m 21s\n233:\tlearn: 0.4143565\ttotal: 2m 14s\tremaining: 7m 21s\n234:\tlearn: 0.4143206\ttotal: 2m 15s\tremaining: 7m 21s\n235:\tlearn: 0.4142807\ttotal: 2m 16s\tremaining: 7m 20s\n236:\tlearn: 0.4142447\ttotal: 2m 16s\tremaining: 7m 20s\n237:\tlearn: 0.4142205\ttotal: 2m 17s\tremaining: 7m 19s\n238:\tlearn: 0.4141817\ttotal: 2m 17s\tremaining: 7m 18s\n239:\tlearn: 0.4141459\ttotal: 2m 18s\tremaining: 7m 17s\n240:\tlearn: 0.4141016\ttotal: 2m 18s\tremaining: 7m 17s\n241:\tlearn: 0.4140787\ttotal: 2m 19s\tremaining: 7m 16s\n242:\tlearn: 0.4140507\ttotal: 2m 19s\tremaining: 7m 15s\n243:\tlearn: 0.4140140\ttotal: 2m 20s\tremaining: 7m 14s\n244:\tlearn: 0.4139885\ttotal: 2m 20s\tremaining: 7m 13s\n245:\tlearn: 0.4139609\ttotal: 2m 21s\tremaining: 7m 13s\n246:\tlearn: 0.4139371\ttotal: 2m 21s\tremaining: 7m 12s\n247:\tlearn: 0.4138934\ttotal: 2m 22s\tremaining: 7m 11s\n248:\tlearn: 0.4138639\ttotal: 2m 23s\tremaining: 7m 11s\n249:\tlearn: 0.4138205\ttotal: 2m 23s\tremaining: 7m 10s\n250:\tlearn: 0.4137921\ttotal: 2m 24s\tremaining: 7m 9s\n251:\tlearn: 0.4137688\ttotal: 2m 24s\tremaining: 7m 8s\n252:\tlearn: 0.4137470\ttotal: 2m 25s\tremaining: 7m 8s\n253:\tlearn: 0.4137218\ttotal: 2m 25s\tremaining: 7m 7s\n254:\tlearn: 0.4136933\ttotal: 2m 26s\tremaining: 7m 7s\n255:\tlearn: 0.4136546\ttotal: 2m 26s\tremaining: 7m 6s\n256:\tlearn: 0.4136271\ttotal: 2m 27s\tremaining: 7m 6s\n257:\tlearn: 0.4136021\ttotal: 2m 27s\tremaining: 7m 5s\n258:\tlearn: 0.4135553\ttotal: 2m 28s\tremaining: 7m 4s\n259:\tlearn: 0.4135354\ttotal: 2m 29s\tremaining: 7m 4s\n260:\tlearn: 0.4134965\ttotal: 2m 29s\tremaining: 7m 3s\n261:\tlearn: 0.4134715\ttotal: 2m 30s\tremaining: 7m 2s\n262:\tlearn: 0.4134287\ttotal: 2m 30s\tremaining: 7m 2s\n263:\tlearn: 0.4134129\ttotal: 2m 31s\tremaining: 7m 1s\n264:\tlearn: 0.4133836\ttotal: 2m 31s\tremaining: 7m\n265:\tlearn: 0.4133526\ttotal: 2m 32s\tremaining: 6m 59s\n266:\tlearn: 0.4133221\ttotal: 2m 32s\tremaining: 6m 59s\n267:\tlearn: 0.4132950\ttotal: 2m 33s\tremaining: 6m 58s\n268:\tlearn: 0.4132661\ttotal: 2m 33s\tremaining: 6m 58s\n269:\tlearn: 0.4132274\ttotal: 2m 34s\tremaining: 6m 57s\n270:\tlearn: 0.4132062\ttotal: 2m 35s\tremaining: 6m 57s\n271:\tlearn: 0.4131702\ttotal: 2m 35s\tremaining: 6m 56s\n272:\tlearn: 0.4131359\ttotal: 2m 36s\tremaining: 6m 55s\n273:\tlearn: 0.4131127\ttotal: 2m 36s\tremaining: 6m 55s\n274:\tlearn: 0.4130878\ttotal: 2m 37s\tremaining: 6m 54s\n275:\tlearn: 0.4130718\ttotal: 2m 37s\tremaining: 6m 53s\n276:\tlearn: 0.4130498\ttotal: 2m 38s\tremaining: 6m 52s\n277:\tlearn: 0.4130362\ttotal: 2m 38s\tremaining: 6m 52s\n278:\tlearn: 0.4130107\ttotal: 2m 39s\tremaining: 6m 51s\n279:\tlearn: 0.4129783\ttotal: 2m 39s\tremaining: 6m 51s\n280:\tlearn: 0.4129563\ttotal: 2m 40s\tremaining: 6m 50s\n281:\tlearn: 0.4129288\ttotal: 2m 40s\tremaining: 6m 49s\n282:\tlearn: 0.4129112\ttotal: 2m 41s\tremaining: 6m 49s\n283:\tlearn: 0.4128842\ttotal: 2m 42s\tremaining: 6m 48s\n284:\tlearn: 0.4128500\ttotal: 2m 42s\tremaining: 6m 47s\n285:\tlearn: 0.4128194\ttotal: 2m 43s\tremaining: 6m 47s\n286:\tlearn: 0.4127980\ttotal: 2m 43s\tremaining: 6m 46s\n287:\tlearn: 0.4127675\ttotal: 2m 44s\tremaining: 6m 45s\n288:\tlearn: 0.4127486\ttotal: 2m 44s\tremaining: 6m 45s\n289:\tlearn: 0.4127263\ttotal: 2m 45s\tremaining: 6m 44s\n290:\tlearn: 0.4126984\ttotal: 2m 45s\tremaining: 6m 43s\n291:\tlearn: 0.4126819\ttotal: 2m 46s\tremaining: 6m 43s\n292:\tlearn: 0.4126654\ttotal: 2m 46s\tremaining: 6m 42s\n293:\tlearn: 0.4126490\ttotal: 2m 47s\tremaining: 6m 41s\n294:\tlearn: 0.4126210\ttotal: 2m 47s\tremaining: 6m 41s\n295:\tlearn: 0.4125964\ttotal: 2m 48s\tremaining: 6m 40s\n296:\tlearn: 0.4125849\ttotal: 2m 48s\tremaining: 6m 39s\n297:\tlearn: 0.4125578\ttotal: 2m 49s\tremaining: 6m 39s\n298:\tlearn: 0.4125384\ttotal: 2m 49s\tremaining: 6m 38s\n299:\tlearn: 0.4125092\ttotal: 2m 50s\tremaining: 6m 37s\n300:\tlearn: 0.4124857\ttotal: 2m 50s\tremaining: 6m 36s\n301:\tlearn: 0.4124693\ttotal: 2m 51s\tremaining: 6m 36s\n302:\tlearn: 0.4124555\ttotal: 2m 52s\tremaining: 6m 35s\n303:\tlearn: 0.4124259\ttotal: 2m 52s\tremaining: 6m 35s\n304:\tlearn: 0.4124001\ttotal: 2m 53s\tremaining: 6m 35s\n305:\tlearn: 0.4123844\ttotal: 2m 53s\tremaining: 6m 34s\n306:\tlearn: 0.4123568\ttotal: 2m 54s\tremaining: 6m 33s\n307:\tlearn: 0.4123439\ttotal: 2m 54s\tremaining: 6m 33s\n308:\tlearn: 0.4123179\ttotal: 2m 55s\tremaining: 6m 32s\n309:\tlearn: 0.4122972\ttotal: 2m 56s\tremaining: 6m 32s\n310:\tlearn: 0.4122825\ttotal: 2m 56s\tremaining: 6m 31s\n311:\tlearn: 0.4122567\ttotal: 2m 57s\tremaining: 6m 30s\n312:\tlearn: 0.4122279\ttotal: 2m 57s\tremaining: 6m 29s\n313:\tlearn: 0.4122083\ttotal: 2m 58s\tremaining: 6m 29s\n314:\tlearn: 0.4121863\ttotal: 2m 58s\tremaining: 6m 28s\n315:\tlearn: 0.4121725\ttotal: 2m 59s\tremaining: 6m 27s\n316:\tlearn: 0.4121407\ttotal: 2m 59s\tremaining: 6m 26s\n317:\tlearn: 0.4121263\ttotal: 3m\tremaining: 6m 26s\n318:\tlearn: 0.4121004\ttotal: 3m\tremaining: 6m 26s\n319:\tlearn: 0.4120812\ttotal: 3m 1s\tremaining: 6m 25s\n320:\tlearn: 0.4120579\ttotal: 3m 1s\tremaining: 6m 24s\n321:\tlearn: 0.4120326\ttotal: 3m 2s\tremaining: 6m 23s\n322:\tlearn: 0.4120088\ttotal: 3m 2s\tremaining: 6m 23s\n323:\tlearn: 0.4119933\ttotal: 3m 3s\tremaining: 6m 22s\n324:\tlearn: 0.4119763\ttotal: 3m 3s\tremaining: 6m 21s\n325:\tlearn: 0.4119613\ttotal: 3m 4s\tremaining: 6m 21s\n326:\tlearn: 0.4119461\ttotal: 3m 5s\tremaining: 6m 20s\n327:\tlearn: 0.4119204\ttotal: 3m 5s\tremaining: 6m 20s\n328:\tlearn: 0.4119078\ttotal: 3m 6s\tremaining: 6m 19s\n329:\tlearn: 0.4118871\ttotal: 3m 6s\tremaining: 6m 18s\n330:\tlearn: 0.4118700\ttotal: 3m 7s\tremaining: 6m 18s\n331:\tlearn: 0.4118454\ttotal: 3m 7s\tremaining: 6m 17s\n332:\tlearn: 0.4118203\ttotal: 3m 8s\tremaining: 6m 17s\n333:\tlearn: 0.4118025\ttotal: 3m 8s\tremaining: 6m 16s\n334:\tlearn: 0.4117824\ttotal: 3m 9s\tremaining: 6m 16s\n335:\tlearn: 0.4117714\ttotal: 3m 10s\tremaining: 6m 15s\n336:\tlearn: 0.4117596\ttotal: 3m 10s\tremaining: 6m 14s\n337:\tlearn: 0.4117369\ttotal: 3m 11s\tremaining: 6m 14s\n338:\tlearn: 0.4117124\ttotal: 3m 11s\tremaining: 6m 13s\n339:\tlearn: 0.4116877\ttotal: 3m 12s\tremaining: 6m 13s\n340:\tlearn: 0.4116648\ttotal: 3m 12s\tremaining: 6m 12s\n341:\tlearn: 0.4116531\ttotal: 3m 13s\tremaining: 6m 11s\n342:\tlearn: 0.4116398\ttotal: 3m 13s\tremaining: 6m 10s\n343:\tlearn: 0.4116175\ttotal: 3m 14s\tremaining: 6m 10s\n344:\tlearn: 0.4116029\ttotal: 3m 14s\tremaining: 6m 9s\n345:\tlearn: 0.4115865\ttotal: 3m 15s\tremaining: 6m 8s\n346:\tlearn: 0.4115651\ttotal: 3m 15s\tremaining: 6m 8s\n347:\tlearn: 0.4115476\ttotal: 3m 16s\tremaining: 6m 7s\n348:\tlearn: 0.4115267\ttotal: 3m 16s\tremaining: 6m 7s\n349:\tlearn: 0.4115123\ttotal: 3m 17s\tremaining: 6m 6s\n350:\tlearn: 0.4114992\ttotal: 3m 17s\tremaining: 6m 6s\n351:\tlearn: 0.4114691\ttotal: 3m 18s\tremaining: 6m 5s\n352:\tlearn: 0.4114484\ttotal: 3m 19s\tremaining: 6m 5s\n353:\tlearn: 0.4114263\ttotal: 3m 19s\tremaining: 6m 4s\n354:\tlearn: 0.4114086\ttotal: 3m 20s\tremaining: 6m 3s\n355:\tlearn: 0.4113964\ttotal: 3m 20s\tremaining: 6m 3s\n356:\tlearn: 0.4113762\ttotal: 3m 21s\tremaining: 6m 2s\n357:\tlearn: 0.4113657\ttotal: 3m 21s\tremaining: 6m 1s\n358:\tlearn: 0.4113407\ttotal: 3m 22s\tremaining: 6m 1s\n359:\tlearn: 0.4113188\ttotal: 3m 22s\tremaining: 6m\n360:\tlearn: 0.4113042\ttotal: 3m 23s\tremaining: 5m 59s\n361:\tlearn: 0.4112958\ttotal: 3m 23s\tremaining: 5m 58s\n362:\tlearn: 0.4112837\ttotal: 3m 24s\tremaining: 5m 58s\n363:\tlearn: 0.4112706\ttotal: 3m 24s\tremaining: 5m 57s\n364:\tlearn: 0.4112525\ttotal: 3m 25s\tremaining: 5m 57s\n365:\tlearn: 0.4112356\ttotal: 3m 25s\tremaining: 5m 56s\n366:\tlearn: 0.4112141\ttotal: 3m 26s\tremaining: 5m 56s\n367:\tlearn: 0.4112024\ttotal: 3m 26s\tremaining: 5m 55s\n368:\tlearn: 0.4111895\ttotal: 3m 27s\tremaining: 5m 54s\n369:\tlearn: 0.4111780\ttotal: 3m 28s\tremaining: 5m 54s\n370:\tlearn: 0.4111627\ttotal: 3m 28s\tremaining: 5m 53s\n371:\tlearn: 0.4111520\ttotal: 3m 29s\tremaining: 5m 53s\n372:\tlearn: 0.4111344\ttotal: 3m 29s\tremaining: 5m 52s\n373:\tlearn: 0.4111148\ttotal: 3m 30s\tremaining: 5m 51s\n374:\tlearn: 0.4110930\ttotal: 3m 30s\tremaining: 5m 51s\n375:\tlearn: 0.4110800\ttotal: 3m 31s\tremaining: 5m 50s\n376:\tlearn: 0.4110632\ttotal: 3m 31s\tremaining: 5m 49s\n377:\tlearn: 0.4110448\ttotal: 3m 32s\tremaining: 5m 49s\n378:\tlearn: 0.4110335\ttotal: 3m 32s\tremaining: 5m 48s\n379:\tlearn: 0.4110161\ttotal: 3m 33s\tremaining: 5m 48s\n380:\tlearn: 0.4110047\ttotal: 3m 33s\tremaining: 5m 47s\n381:\tlearn: 0.4109940\ttotal: 3m 34s\tremaining: 5m 46s\n382:\tlearn: 0.4109777\ttotal: 3m 34s\tremaining: 5m 46s\n383:\tlearn: 0.4109594\ttotal: 3m 35s\tremaining: 5m 45s\n384:\tlearn: 0.4109467\ttotal: 3m 35s\tremaining: 5m 44s\n385:\tlearn: 0.4109281\ttotal: 3m 36s\tremaining: 5m 44s\n386:\tlearn: 0.4109186\ttotal: 3m 36s\tremaining: 5m 43s\n387:\tlearn: 0.4109061\ttotal: 3m 37s\tremaining: 5m 43s\n388:\tlearn: 0.4108849\ttotal: 3m 38s\tremaining: 5m 42s\n389:\tlearn: 0.4108746\ttotal: 3m 38s\tremaining: 5m 41s\n390:\tlearn: 0.4108687\ttotal: 3m 39s\tremaining: 5m 41s\n391:\tlearn: 0.4108542\ttotal: 3m 39s\tremaining: 5m 40s\n392:\tlearn: 0.4108395\ttotal: 3m 40s\tremaining: 5m 40s\n393:\tlearn: 0.4108248\ttotal: 3m 40s\tremaining: 5m 39s\n394:\tlearn: 0.4108193\ttotal: 3m 41s\tremaining: 5m 38s\n395:\tlearn: 0.4108058\ttotal: 3m 41s\tremaining: 5m 38s\n396:\tlearn: 0.4107872\ttotal: 3m 42s\tremaining: 5m 37s\n397:\tlearn: 0.4107657\ttotal: 3m 42s\tremaining: 5m 36s\n398:\tlearn: 0.4107505\ttotal: 3m 43s\tremaining: 5m 36s\n399:\tlearn: 0.4107317\ttotal: 3m 43s\tremaining: 5m 35s\n400:\tlearn: 0.4107239\ttotal: 3m 44s\tremaining: 5m 34s\n401:\tlearn: 0.4107169\ttotal: 3m 44s\tremaining: 5m 34s\n402:\tlearn: 0.4107043\ttotal: 3m 45s\tremaining: 5m 33s\n403:\tlearn: 0.4106882\ttotal: 3m 45s\tremaining: 5m 32s\n404:\tlearn: 0.4106682\ttotal: 3m 46s\tremaining: 5m 32s\n405:\tlearn: 0.4106544\ttotal: 3m 46s\tremaining: 5m 31s\n406:\tlearn: 0.4106409\ttotal: 3m 47s\tremaining: 5m 31s\n407:\tlearn: 0.4106199\ttotal: 3m 47s\tremaining: 5m 30s\n408:\tlearn: 0.4106117\ttotal: 3m 48s\tremaining: 5m 29s\n409:\tlearn: 0.4105940\ttotal: 3m 48s\tremaining: 5m 29s\n410:\tlearn: 0.4105844\ttotal: 3m 49s\tremaining: 5m 28s\n411:\tlearn: 0.4105724\ttotal: 3m 49s\tremaining: 5m 27s\n412:\tlearn: 0.4105609\ttotal: 3m 50s\tremaining: 5m 27s\n413:\tlearn: 0.4105462\ttotal: 3m 51s\tremaining: 5m 26s\n414:\tlearn: 0.4105384\ttotal: 3m 51s\tremaining: 5m 26s\n415:\tlearn: 0.4105218\ttotal: 3m 52s\tremaining: 5m 25s\n416:\tlearn: 0.4105126\ttotal: 3m 52s\tremaining: 5m 25s\n417:\tlearn: 0.4105025\ttotal: 3m 52s\tremaining: 5m 24s\n418:\tlearn: 0.4104954\ttotal: 3m 53s\tremaining: 5m 23s\n419:\tlearn: 0.4104832\ttotal: 3m 54s\tremaining: 5m 23s\n420:\tlearn: 0.4104698\ttotal: 3m 54s\tremaining: 5m 22s\n421:\tlearn: 0.4104562\ttotal: 3m 55s\tremaining: 5m 22s\n422:\tlearn: 0.4104479\ttotal: 3m 55s\tremaining: 5m 21s\n423:\tlearn: 0.4104282\ttotal: 3m 56s\tremaining: 5m 20s\n424:\tlearn: 0.4104155\ttotal: 3m 56s\tremaining: 5m 20s\n425:\tlearn: 0.4104078\ttotal: 3m 57s\tremaining: 5m 19s\n426:\tlearn: 0.4103952\ttotal: 3m 57s\tremaining: 5m 19s\n427:\tlearn: 0.4103803\ttotal: 3m 58s\tremaining: 5m 18s\n428:\tlearn: 0.4103669\ttotal: 3m 58s\tremaining: 5m 17s\n429:\tlearn: 0.4103602\ttotal: 3m 59s\tremaining: 5m 17s\n430:\tlearn: 0.4103419\ttotal: 4m\tremaining: 5m 16s\n431:\tlearn: 0.4103288\ttotal: 4m\tremaining: 5m 16s\n432:\tlearn: 0.4103154\ttotal: 4m\tremaining: 5m 15s\n433:\tlearn: 0.4103028\ttotal: 4m 1s\tremaining: 5m 14s\n434:\tlearn: 0.4102897\ttotal: 4m 1s\tremaining: 5m 14s\n435:\tlearn: 0.4102745\ttotal: 4m 2s\tremaining: 5m 13s\n436:\tlearn: 0.4102634\ttotal: 4m 2s\tremaining: 5m 12s\n437:\tlearn: 0.4102467\ttotal: 4m 3s\tremaining: 5m 12s\n438:\tlearn: 0.4102286\ttotal: 4m 3s\tremaining: 5m 11s\n439:\tlearn: 0.4102124\ttotal: 4m 4s\tremaining: 5m 11s\n440:\tlearn: 0.4101955\ttotal: 4m 5s\tremaining: 5m 10s\n441:\tlearn: 0.4101775\ttotal: 4m 5s\tremaining: 5m 9s\n442:\tlearn: 0.4101629\ttotal: 4m 6s\tremaining: 5m 9s\n443:\tlearn: 0.4101449\ttotal: 4m 6s\tremaining: 5m 8s\n444:\tlearn: 0.4101349\ttotal: 4m 7s\tremaining: 5m 8s\n445:\tlearn: 0.4101213\ttotal: 4m 7s\tremaining: 5m 7s\n446:\tlearn: 0.4100991\ttotal: 4m 8s\tremaining: 5m 7s\n447:\tlearn: 0.4100862\ttotal: 4m 8s\tremaining: 5m 6s\n448:\tlearn: 0.4100805\ttotal: 4m 9s\tremaining: 5m 5s\n449:\tlearn: 0.4100699\ttotal: 4m 9s\tremaining: 5m 5s\n450:\tlearn: 0.4100593\ttotal: 4m 10s\tremaining: 5m 4s\n451:\tlearn: 0.4100473\ttotal: 4m 10s\tremaining: 5m 4s\n452:\tlearn: 0.4100366\ttotal: 4m 11s\tremaining: 5m 3s\n453:\tlearn: 0.4100282\ttotal: 4m 11s\tremaining: 5m 3s\n454:\tlearn: 0.4100201\ttotal: 4m 12s\tremaining: 5m 2s\n455:\tlearn: 0.4100086\ttotal: 4m 13s\tremaining: 5m 1s\n456:\tlearn: 0.4099945\ttotal: 4m 13s\tremaining: 5m 1s\n457:\tlearn: 0.4099841\ttotal: 4m 14s\tremaining: 5m\n458:\tlearn: 0.4099772\ttotal: 4m 14s\tremaining: 5m\n459:\tlearn: 0.4099647\ttotal: 4m 15s\tremaining: 4m 59s\n460:\tlearn: 0.4099574\ttotal: 4m 15s\tremaining: 4m 58s\n461:\tlearn: 0.4099484\ttotal: 4m 16s\tremaining: 4m 58s\n462:\tlearn: 0.4099363\ttotal: 4m 16s\tremaining: 4m 57s\n463:\tlearn: 0.4099198\ttotal: 4m 17s\tremaining: 4m 57s\n464:\tlearn: 0.4099048\ttotal: 4m 17s\tremaining: 4m 56s\n465:\tlearn: 0.4098952\ttotal: 4m 18s\tremaining: 4m 55s\n466:\tlearn: 0.4098829\ttotal: 4m 18s\tremaining: 4m 55s\n467:\tlearn: 0.4098716\ttotal: 4m 19s\tremaining: 4m 54s\n468:\tlearn: 0.4098613\ttotal: 4m 19s\tremaining: 4m 54s\n469:\tlearn: 0.4098484\ttotal: 4m 20s\tremaining: 4m 53s\n470:\tlearn: 0.4098354\ttotal: 4m 20s\tremaining: 4m 52s\n471:\tlearn: 0.4098311\ttotal: 4m 21s\tremaining: 4m 52s\n472:\tlearn: 0.4098195\ttotal: 4m 21s\tremaining: 4m 51s\n473:\tlearn: 0.4098105\ttotal: 4m 22s\tremaining: 4m 50s\n474:\tlearn: 0.4097986\ttotal: 4m 22s\tremaining: 4m 50s\n475:\tlearn: 0.4097865\ttotal: 4m 23s\tremaining: 4m 49s\n476:\tlearn: 0.4097739\ttotal: 4m 23s\tremaining: 4m 49s\n477:\tlearn: 0.4097630\ttotal: 4m 24s\tremaining: 4m 48s\n478:\tlearn: 0.4097518\ttotal: 4m 24s\tremaining: 4m 47s\n479:\tlearn: 0.4097477\ttotal: 4m 25s\tremaining: 4m 47s\n480:\tlearn: 0.4097374\ttotal: 4m 25s\tremaining: 4m 46s\n481:\tlearn: 0.4097309\ttotal: 4m 26s\tremaining: 4m 45s\n482:\tlearn: 0.4097209\ttotal: 4m 26s\tremaining: 4m 45s\n483:\tlearn: 0.4097111\ttotal: 4m 27s\tremaining: 4m 44s\n484:\tlearn: 0.4096959\ttotal: 4m 27s\tremaining: 4m 44s\n485:\tlearn: 0.4096821\ttotal: 4m 28s\tremaining: 4m 43s\n486:\tlearn: 0.4096683\ttotal: 4m 28s\tremaining: 4m 43s\n487:\tlearn: 0.4096547\ttotal: 4m 29s\tremaining: 4m 42s\n488:\tlearn: 0.4096522\ttotal: 4m 29s\tremaining: 4m 41s\n489:\tlearn: 0.4096431\ttotal: 4m 30s\tremaining: 4m 41s\n490:\tlearn: 0.4096358\ttotal: 4m 30s\tremaining: 4m 40s\n491:\tlearn: 0.4096235\ttotal: 4m 31s\tremaining: 4m 40s\n492:\tlearn: 0.4096095\ttotal: 4m 31s\tremaining: 4m 39s\n493:\tlearn: 0.4095948\ttotal: 4m 32s\tremaining: 4m 39s\n494:\tlearn: 0.4095825\ttotal: 4m 32s\tremaining: 4m 38s\n495:\tlearn: 0.4095712\ttotal: 4m 33s\tremaining: 4m 37s\n496:\tlearn: 0.4095572\ttotal: 4m 33s\tremaining: 4m 37s\n497:\tlearn: 0.4095501\ttotal: 4m 34s\tremaining: 4m 36s\n498:\tlearn: 0.4095393\ttotal: 4m 34s\tremaining: 4m 35s\n499:\tlearn: 0.4095226\ttotal: 4m 35s\tremaining: 4m 35s\n500:\tlearn: 0.4095185\ttotal: 4m 35s\tremaining: 4m 34s\n501:\tlearn: 0.4095040\ttotal: 4m 36s\tremaining: 4m 34s\n502:\tlearn: 0.4094922\ttotal: 4m 36s\tremaining: 4m 33s\n503:\tlearn: 0.4094852\ttotal: 4m 37s\tremaining: 4m 32s\n504:\tlearn: 0.4094817\ttotal: 4m 37s\tremaining: 4m 32s\n505:\tlearn: 0.4094734\ttotal: 4m 38s\tremaining: 4m 31s\n506:\tlearn: 0.4094601\ttotal: 4m 38s\tremaining: 4m 31s\n507:\tlearn: 0.4094493\ttotal: 4m 39s\tremaining: 4m 30s\n508:\tlearn: 0.4094382\ttotal: 4m 39s\tremaining: 4m 29s\n509:\tlearn: 0.4094322\ttotal: 4m 40s\tremaining: 4m 29s\n510:\tlearn: 0.4094242\ttotal: 4m 40s\tremaining: 4m 28s\n511:\tlearn: 0.4094153\ttotal: 4m 41s\tremaining: 4m 28s\n512:\tlearn: 0.4094059\ttotal: 4m 41s\tremaining: 4m 27s\n513:\tlearn: 0.4094008\ttotal: 4m 42s\tremaining: 4m 26s\n514:\tlearn: 0.4093848\ttotal: 4m 42s\tremaining: 4m 26s\n515:\tlearn: 0.4093814\ttotal: 4m 43s\tremaining: 4m 25s\n516:\tlearn: 0.4093707\ttotal: 4m 43s\tremaining: 4m 25s\n517:\tlearn: 0.4093665\ttotal: 4m 44s\tremaining: 4m 24s\n518:\tlearn: 0.4093546\ttotal: 4m 44s\tremaining: 4m 23s\n519:\tlearn: 0.4093469\ttotal: 4m 45s\tremaining: 4m 23s\n520:\tlearn: 0.4093390\ttotal: 4m 45s\tremaining: 4m 22s\n521:\tlearn: 0.4093290\ttotal: 4m 46s\tremaining: 4m 21s\n522:\tlearn: 0.4093193\ttotal: 4m 46s\tremaining: 4m 21s\n523:\tlearn: 0.4093124\ttotal: 4m 47s\tremaining: 4m 20s\n524:\tlearn: 0.4093007\ttotal: 4m 47s\tremaining: 4m 20s\n525:\tlearn: 0.4092885\ttotal: 4m 48s\tremaining: 4m 19s\n526:\tlearn: 0.4092779\ttotal: 4m 48s\tremaining: 4m 19s\n527:\tlearn: 0.4092760\ttotal: 4m 49s\tremaining: 4m 18s\n528:\tlearn: 0.4092624\ttotal: 4m 49s\tremaining: 4m 18s\n529:\tlearn: 0.4092525\ttotal: 4m 50s\tremaining: 4m 17s\n530:\tlearn: 0.4092424\ttotal: 4m 50s\tremaining: 4m 16s\n531:\tlearn: 0.4092380\ttotal: 4m 51s\tremaining: 4m 16s\n532:\tlearn: 0.4092260\ttotal: 4m 51s\tremaining: 4m 15s\n533:\tlearn: 0.4092131\ttotal: 4m 52s\tremaining: 4m 15s\n534:\tlearn: 0.4092070\ttotal: 4m 52s\tremaining: 4m 14s\n535:\tlearn: 0.4091969\ttotal: 4m 53s\tremaining: 4m 13s\n536:\tlearn: 0.4091899\ttotal: 4m 53s\tremaining: 4m 13s\n537:\tlearn: 0.4091814\ttotal: 4m 54s\tremaining: 4m 13s\n538:\tlearn: 0.4091713\ttotal: 4m 55s\tremaining: 4m 12s\n539:\tlearn: 0.4091656\ttotal: 4m 55s\tremaining: 4m 11s\n540:\tlearn: 0.4091551\ttotal: 4m 56s\tremaining: 4m 11s\n541:\tlearn: 0.4091456\ttotal: 4m 56s\tremaining: 4m 10s\n542:\tlearn: 0.4091414\ttotal: 4m 57s\tremaining: 4m 10s\n543:\tlearn: 0.4091351\ttotal: 4m 57s\tremaining: 4m 9s\n544:\tlearn: 0.4091236\ttotal: 4m 58s\tremaining: 4m 8s\n545:\tlearn: 0.4091180\ttotal: 4m 58s\tremaining: 4m 8s\n546:\tlearn: 0.4091081\ttotal: 4m 59s\tremaining: 4m 7s\n547:\tlearn: 0.4090995\ttotal: 4m 59s\tremaining: 4m 7s\n548:\tlearn: 0.4090938\ttotal: 5m\tremaining: 4m 6s\n549:\tlearn: 0.4090842\ttotal: 5m\tremaining: 4m 6s\n550:\tlearn: 0.4090803\ttotal: 5m 1s\tremaining: 4m 5s\n551:\tlearn: 0.4090700\ttotal: 5m 2s\tremaining: 4m 5s\n552:\tlearn: 0.4090595\ttotal: 5m 2s\tremaining: 4m 4s\n553:\tlearn: 0.4090503\ttotal: 5m 2s\tremaining: 4m 3s\n554:\tlearn: 0.4090397\ttotal: 5m 3s\tremaining: 4m 3s\n555:\tlearn: 0.4090328\ttotal: 5m 3s\tremaining: 4m 2s\n556:\tlearn: 0.4090253\ttotal: 5m 4s\tremaining: 4m 2s\n557:\tlearn: 0.4090158\ttotal: 5m 4s\tremaining: 4m 1s\n558:\tlearn: 0.4090009\ttotal: 5m 5s\tremaining: 4m\n559:\tlearn: 0.4089910\ttotal: 5m 5s\tremaining: 4m\n560:\tlearn: 0.4089870\ttotal: 5m 6s\tremaining: 3m 59s\n561:\tlearn: 0.4089828\ttotal: 5m 6s\tremaining: 3m 59s\n562:\tlearn: 0.4089688\ttotal: 5m 7s\tremaining: 3m 58s\n563:\tlearn: 0.4089597\ttotal: 5m 8s\tremaining: 3m 58s\n564:\tlearn: 0.4089501\ttotal: 5m 8s\tremaining: 3m 57s\n565:\tlearn: 0.4089481\ttotal: 5m 9s\tremaining: 3m 56s\n566:\tlearn: 0.4089415\ttotal: 5m 9s\tremaining: 3m 56s\n567:\tlearn: 0.4089331\ttotal: 5m 10s\tremaining: 3m 55s\n568:\tlearn: 0.4089273\ttotal: 5m 10s\tremaining: 3m 55s\n569:\tlearn: 0.4089138\ttotal: 5m 11s\tremaining: 3m 54s\n570:\tlearn: 0.4089061\ttotal: 5m 11s\tremaining: 3m 54s\n571:\tlearn: 0.4088936\ttotal: 5m 12s\tremaining: 3m 53s\n572:\tlearn: 0.4088851\ttotal: 5m 12s\tremaining: 3m 53s\n573:\tlearn: 0.4088753\ttotal: 5m 13s\tremaining: 3m 52s\n574:\tlearn: 0.4088685\ttotal: 5m 14s\tremaining: 3m 52s\n575:\tlearn: 0.4088594\ttotal: 5m 14s\tremaining: 3m 51s\n576:\tlearn: 0.4088562\ttotal: 5m 14s\tremaining: 3m 50s\n577:\tlearn: 0.4088504\ttotal: 5m 15s\tremaining: 3m 50s\n578:\tlearn: 0.4088421\ttotal: 5m 15s\tremaining: 3m 49s\n579:\tlearn: 0.4088301\ttotal: 5m 16s\tremaining: 3m 49s\n580:\tlearn: 0.4088220\ttotal: 5m 17s\tremaining: 3m 48s\n581:\tlearn: 0.4088149\ttotal: 5m 17s\tremaining: 3m 48s\n582:\tlearn: 0.4088127\ttotal: 5m 18s\tremaining: 3m 47s\n583:\tlearn: 0.4088008\ttotal: 5m 18s\tremaining: 3m 46s\n584:\tlearn: 0.4087939\ttotal: 5m 19s\tremaining: 3m 46s\n585:\tlearn: 0.4087868\ttotal: 5m 19s\tremaining: 3m 45s\n586:\tlearn: 0.4087762\ttotal: 5m 20s\tremaining: 3m 45s\n587:\tlearn: 0.4087673\ttotal: 5m 20s\tremaining: 3m 44s\n588:\tlearn: 0.4087582\ttotal: 5m 21s\tremaining: 3m 44s\n589:\tlearn: 0.4087496\ttotal: 5m 21s\tremaining: 3m 43s\n590:\tlearn: 0.4087406\ttotal: 5m 22s\tremaining: 3m 42s\n591:\tlearn: 0.4087309\ttotal: 5m 22s\tremaining: 3m 42s\n592:\tlearn: 0.4087240\ttotal: 5m 23s\tremaining: 3m 41s\n593:\tlearn: 0.4087212\ttotal: 5m 23s\tremaining: 3m 41s\n594:\tlearn: 0.4087137\ttotal: 5m 24s\tremaining: 3m 40s\n595:\tlearn: 0.4087060\ttotal: 5m 24s\tremaining: 3m 40s\n596:\tlearn: 0.4086977\ttotal: 5m 25s\tremaining: 3m 39s\n597:\tlearn: 0.4086861\ttotal: 5m 25s\tremaining: 3m 38s\n598:\tlearn: 0.4086836\ttotal: 5m 26s\tremaining: 3m 38s\n599:\tlearn: 0.4086752\ttotal: 5m 26s\tremaining: 3m 37s\n600:\tlearn: 0.4086708\ttotal: 5m 27s\tremaining: 3m 37s\n601:\tlearn: 0.4086587\ttotal: 5m 27s\tremaining: 3m 36s\n602:\tlearn: 0.4086454\ttotal: 5m 28s\tremaining: 3m 36s\n603:\tlearn: 0.4086411\ttotal: 5m 28s\tremaining: 3m 35s\n604:\tlearn: 0.4086341\ttotal: 5m 29s\tremaining: 3m 34s\n605:\tlearn: 0.4086285\ttotal: 5m 29s\tremaining: 3m 34s\n606:\tlearn: 0.4086219\ttotal: 5m 30s\tremaining: 3m 33s\n607:\tlearn: 0.4086144\ttotal: 5m 30s\tremaining: 3m 33s\n608:\tlearn: 0.4086063\ttotal: 5m 31s\tremaining: 3m 32s\n609:\tlearn: 0.4085974\ttotal: 5m 31s\tremaining: 3m 32s\n610:\tlearn: 0.4085888\ttotal: 5m 32s\tremaining: 3m 31s\n611:\tlearn: 0.4085837\ttotal: 5m 32s\tremaining: 3m 30s\n612:\tlearn: 0.4085743\ttotal: 5m 33s\tremaining: 3m 30s\n613:\tlearn: 0.4085647\ttotal: 5m 33s\tremaining: 3m 29s\n614:\tlearn: 0.4085534\ttotal: 5m 34s\tremaining: 3m 29s\n615:\tlearn: 0.4085421\ttotal: 5m 34s\tremaining: 3m 28s\n616:\tlearn: 0.4085366\ttotal: 5m 35s\tremaining: 3m 27s\n617:\tlearn: 0.4085273\ttotal: 5m 35s\tremaining: 3m 27s\n618:\tlearn: 0.4085213\ttotal: 5m 36s\tremaining: 3m 26s\n619:\tlearn: 0.4085135\ttotal: 5m 36s\tremaining: 3m 26s\n620:\tlearn: 0.4085072\ttotal: 5m 37s\tremaining: 3m 25s\n621:\tlearn: 0.4085006\ttotal: 5m 37s\tremaining: 3m 25s\n622:\tlearn: 0.4084968\ttotal: 5m 38s\tremaining: 3m 24s\n623:\tlearn: 0.4084945\ttotal: 5m 38s\tremaining: 3m 24s\n624:\tlearn: 0.4084868\ttotal: 5m 39s\tremaining: 3m 23s\n625:\tlearn: 0.4084786\ttotal: 5m 39s\tremaining: 3m 23s\n626:\tlearn: 0.4084730\ttotal: 5m 40s\tremaining: 3m 22s\n627:\tlearn: 0.4084678\ttotal: 5m 40s\tremaining: 3m 21s\n628:\tlearn: 0.4084568\ttotal: 5m 41s\tremaining: 3m 21s\n629:\tlearn: 0.4084523\ttotal: 5m 41s\tremaining: 3m 20s\n630:\tlearn: 0.4084434\ttotal: 5m 42s\tremaining: 3m 20s\n631:\tlearn: 0.4084404\ttotal: 5m 42s\tremaining: 3m 19s\n632:\tlearn: 0.4084335\ttotal: 5m 43s\tremaining: 3m 19s\n633:\tlearn: 0.4084253\ttotal: 5m 43s\tremaining: 3m 18s\n634:\tlearn: 0.4084211\ttotal: 5m 44s\tremaining: 3m 17s\n635:\tlearn: 0.4084140\ttotal: 5m 44s\tremaining: 3m 17s\n636:\tlearn: 0.4084075\ttotal: 5m 45s\tremaining: 3m 16s\n637:\tlearn: 0.4084028\ttotal: 5m 46s\tremaining: 3m 16s\n638:\tlearn: 0.4083892\ttotal: 5m 46s\tremaining: 3m 15s\n639:\tlearn: 0.4083831\ttotal: 5m 47s\tremaining: 3m 15s\n640:\tlearn: 0.4083752\ttotal: 5m 47s\tremaining: 3m 14s\n641:\tlearn: 0.4083672\ttotal: 5m 48s\tremaining: 3m 14s\n642:\tlearn: 0.4083576\ttotal: 5m 48s\tremaining: 3m 13s\n643:\tlearn: 0.4083510\ttotal: 5m 49s\tremaining: 3m 13s\n644:\tlearn: 0.4083409\ttotal: 5m 49s\tremaining: 3m 12s\n645:\tlearn: 0.4083296\ttotal: 5m 50s\tremaining: 3m 11s\n646:\tlearn: 0.4083241\ttotal: 5m 50s\tremaining: 3m 11s\n647:\tlearn: 0.4083207\ttotal: 5m 51s\tremaining: 3m 10s\n648:\tlearn: 0.4083151\ttotal: 5m 51s\tremaining: 3m 10s\n649:\tlearn: 0.4083061\ttotal: 5m 52s\tremaining: 3m 9s\n650:\tlearn: 0.4083002\ttotal: 5m 52s\tremaining: 3m 9s\n651:\tlearn: 0.4082932\ttotal: 5m 53s\tremaining: 3m 8s\n652:\tlearn: 0.4082900\ttotal: 5m 53s\tremaining: 3m 7s\n653:\tlearn: 0.4082824\ttotal: 5m 53s\tremaining: 3m 7s\n654:\tlearn: 0.4082775\ttotal: 5m 54s\tremaining: 3m 6s\n655:\tlearn: 0.4082674\ttotal: 5m 55s\tremaining: 3m 6s\n656:\tlearn: 0.4082571\ttotal: 5m 55s\tremaining: 3m 5s\n657:\tlearn: 0.4082469\ttotal: 5m 56s\tremaining: 3m 5s\n658:\tlearn: 0.4082404\ttotal: 5m 56s\tremaining: 3m 4s\n659:\tlearn: 0.4082334\ttotal: 5m 57s\tremaining: 3m 4s\n660:\tlearn: 0.4082276\ttotal: 5m 57s\tremaining: 3m 3s\n661:\tlearn: 0.4082211\ttotal: 5m 58s\tremaining: 3m 2s\n662:\tlearn: 0.4082127\ttotal: 5m 58s\tremaining: 3m 2s\n663:\tlearn: 0.4082033\ttotal: 5m 59s\tremaining: 3m 1s\n664:\tlearn: 0.4081975\ttotal: 6m\tremaining: 3m 1s\n665:\tlearn: 0.4081898\ttotal: 6m\tremaining: 3m\n666:\tlearn: 0.4081793\ttotal: 6m\tremaining: 3m\n667:\tlearn: 0.4081664\ttotal: 6m 1s\tremaining: 2m 59s\n668:\tlearn: 0.4081595\ttotal: 6m 2s\tremaining: 2m 59s\n669:\tlearn: 0.4081484\ttotal: 6m 2s\tremaining: 2m 58s\n670:\tlearn: 0.4081450\ttotal: 6m 3s\tremaining: 2m 58s\n671:\tlearn: 0.4081385\ttotal: 6m 3s\tremaining: 2m 57s\n672:\tlearn: 0.4081320\ttotal: 6m 4s\tremaining: 2m 56s\n673:\tlearn: 0.4081223\ttotal: 6m 4s\tremaining: 2m 56s\n674:\tlearn: 0.4081149\ttotal: 6m 5s\tremaining: 2m 55s\n675:\tlearn: 0.4081111\ttotal: 6m 5s\tremaining: 2m 55s\n676:\tlearn: 0.4081046\ttotal: 6m 6s\tremaining: 2m 54s\n677:\tlearn: 0.4080961\ttotal: 6m 6s\tremaining: 2m 54s\n678:\tlearn: 0.4080884\ttotal: 6m 7s\tremaining: 2m 53s\n679:\tlearn: 0.4080834\ttotal: 6m 7s\tremaining: 2m 53s\n680:\tlearn: 0.4080746\ttotal: 6m 8s\tremaining: 2m 52s\n681:\tlearn: 0.4080708\ttotal: 6m 8s\tremaining: 2m 51s\n682:\tlearn: 0.4080663\ttotal: 6m 9s\tremaining: 2m 51s\n683:\tlearn: 0.4080607\ttotal: 6m 9s\tremaining: 2m 50s\n684:\tlearn: 0.4080540\ttotal: 6m 10s\tremaining: 2m 50s\n685:\tlearn: 0.4080510\ttotal: 6m 10s\tremaining: 2m 49s\n686:\tlearn: 0.4080439\ttotal: 6m 11s\tremaining: 2m 49s\n687:\tlearn: 0.4080386\ttotal: 6m 11s\tremaining: 2m 48s\n688:\tlearn: 0.4080319\ttotal: 6m 12s\tremaining: 2m 48s\n689:\tlearn: 0.4080240\ttotal: 6m 12s\tremaining: 2m 47s\n690:\tlearn: 0.4080199\ttotal: 6m 13s\tremaining: 2m 47s\n691:\tlearn: 0.4080125\ttotal: 6m 14s\tremaining: 2m 46s\n692:\tlearn: 0.4080091\ttotal: 6m 14s\tremaining: 2m 45s\n693:\tlearn: 0.4080038\ttotal: 6m 15s\tremaining: 2m 45s\n694:\tlearn: 0.4080011\ttotal: 6m 15s\tremaining: 2m 44s\n695:\tlearn: 0.4079937\ttotal: 6m 16s\tremaining: 2m 44s\n696:\tlearn: 0.4079899\ttotal: 6m 16s\tremaining: 2m 43s\n697:\tlearn: 0.4079819\ttotal: 6m 17s\tremaining: 2m 43s\n698:\tlearn: 0.4079779\ttotal: 6m 17s\tremaining: 2m 42s\n699:\tlearn: 0.4079762\ttotal: 6m 18s\tremaining: 2m 42s\n700:\tlearn: 0.4079708\ttotal: 6m 18s\tremaining: 2m 41s\n701:\tlearn: 0.4079647\ttotal: 6m 19s\tremaining: 2m 40s\n702:\tlearn: 0.4079585\ttotal: 6m 19s\tremaining: 2m 40s\n703:\tlearn: 0.4079515\ttotal: 6m 20s\tremaining: 2m 39s\n704:\tlearn: 0.4079433\ttotal: 6m 20s\tremaining: 2m 39s\n705:\tlearn: 0.4079349\ttotal: 6m 20s\tremaining: 2m 38s\n706:\tlearn: 0.4079255\ttotal: 6m 21s\tremaining: 2m 38s\n707:\tlearn: 0.4079196\ttotal: 6m 21s\tremaining: 2m 37s\n708:\tlearn: 0.4079106\ttotal: 6m 22s\tremaining: 2m 37s\n709:\tlearn: 0.4079042\ttotal: 6m 23s\tremaining: 2m 36s\n710:\tlearn: 0.4078979\ttotal: 6m 23s\tremaining: 2m 36s\n711:\tlearn: 0.4078901\ttotal: 6m 24s\tremaining: 2m 35s\n712:\tlearn: 0.4078783\ttotal: 6m 25s\tremaining: 2m 34s\n713:\tlearn: 0.4078711\ttotal: 6m 25s\tremaining: 2m 34s\n714:\tlearn: 0.4078651\ttotal: 6m 25s\tremaining: 2m 33s\n715:\tlearn: 0.4078583\ttotal: 6m 26s\tremaining: 2m 33s\n716:\tlearn: 0.4078555\ttotal: 6m 26s\tremaining: 2m 32s\n717:\tlearn: 0.4078495\ttotal: 6m 27s\tremaining: 2m 32s\n718:\tlearn: 0.4078460\ttotal: 6m 27s\tremaining: 2m 31s\n719:\tlearn: 0.4078386\ttotal: 6m 28s\tremaining: 2m 31s\n720:\tlearn: 0.4078304\ttotal: 6m 29s\tremaining: 2m 30s\n721:\tlearn: 0.4078239\ttotal: 6m 29s\tremaining: 2m 29s\n722:\tlearn: 0.4078162\ttotal: 6m 30s\tremaining: 2m 29s\n723:\tlearn: 0.4078105\ttotal: 6m 30s\tremaining: 2m 28s\n724:\tlearn: 0.4078037\ttotal: 6m 31s\tremaining: 2m 28s\n725:\tlearn: 0.4077956\ttotal: 6m 31s\tremaining: 2m 27s\n726:\tlearn: 0.4077910\ttotal: 6m 32s\tremaining: 2m 27s\n727:\tlearn: 0.4077821\ttotal: 6m 32s\tremaining: 2m 26s\n728:\tlearn: 0.4077766\ttotal: 6m 33s\tremaining: 2m 26s\n729:\tlearn: 0.4077698\ttotal: 6m 33s\tremaining: 2m 25s\n730:\tlearn: 0.4077610\ttotal: 6m 34s\tremaining: 2m 25s\n731:\tlearn: 0.4077596\ttotal: 6m 35s\tremaining: 2m 24s\n732:\tlearn: 0.4077542\ttotal: 6m 35s\tremaining: 2m 24s\n733:\tlearn: 0.4077494\ttotal: 6m 36s\tremaining: 2m 23s\n734:\tlearn: 0.4077417\ttotal: 6m 36s\tremaining: 2m 23s\n735:\tlearn: 0.4077359\ttotal: 6m 37s\tremaining: 2m 22s\n736:\tlearn: 0.4077307\ttotal: 6m 37s\tremaining: 2m 21s\n737:\tlearn: 0.4077285\ttotal: 6m 38s\tremaining: 2m 21s\n738:\tlearn: 0.4077265\ttotal: 6m 38s\tremaining: 2m 20s\n739:\tlearn: 0.4077189\ttotal: 6m 39s\tremaining: 2m 20s\n740:\tlearn: 0.4077122\ttotal: 6m 39s\tremaining: 2m 19s\n741:\tlearn: 0.4077028\ttotal: 6m 40s\tremaining: 2m 19s\n742:\tlearn: 0.4076949\ttotal: 6m 40s\tremaining: 2m 18s\n743:\tlearn: 0.4076907\ttotal: 6m 41s\tremaining: 2m 18s\n744:\tlearn: 0.4076822\ttotal: 6m 42s\tremaining: 2m 17s\n745:\tlearn: 0.4076773\ttotal: 6m 42s\tremaining: 2m 17s\n746:\tlearn: 0.4076748\ttotal: 6m 43s\tremaining: 2m 16s\n747:\tlearn: 0.4076669\ttotal: 6m 43s\tremaining: 2m 15s\n748:\tlearn: 0.4076614\ttotal: 6m 44s\tremaining: 2m 15s\n749:\tlearn: 0.4076547\ttotal: 6m 44s\tremaining: 2m 14s\n750:\tlearn: 0.4076522\ttotal: 6m 45s\tremaining: 2m 14s\n751:\tlearn: 0.4076468\ttotal: 6m 45s\tremaining: 2m 13s\n752:\tlearn: 0.4076385\ttotal: 6m 46s\tremaining: 2m 13s\n753:\tlearn: 0.4076331\ttotal: 6m 46s\tremaining: 2m 12s\n754:\tlearn: 0.4076269\ttotal: 6m 46s\tremaining: 2m 12s\n755:\tlearn: 0.4076203\ttotal: 6m 47s\tremaining: 2m 11s\n756:\tlearn: 0.4076151\ttotal: 6m 47s\tremaining: 2m 10s\n757:\tlearn: 0.4076112\ttotal: 6m 48s\tremaining: 2m 10s\n758:\tlearn: 0.4076054\ttotal: 6m 48s\tremaining: 2m 9s\n759:\tlearn: 0.4076001\ttotal: 6m 49s\tremaining: 2m 9s\n760:\tlearn: 0.4075960\ttotal: 6m 50s\tremaining: 2m 8s\n761:\tlearn: 0.4075917\ttotal: 6m 50s\tremaining: 2m 8s\n762:\tlearn: 0.4075860\ttotal: 6m 51s\tremaining: 2m 7s\n763:\tlearn: 0.4075808\ttotal: 6m 51s\tremaining: 2m 7s\n764:\tlearn: 0.4075746\ttotal: 6m 51s\tremaining: 2m 6s\n765:\tlearn: 0.4075717\ttotal: 6m 52s\tremaining: 2m 5s\n766:\tlearn: 0.4075642\ttotal: 6m 52s\tremaining: 2m 5s\n767:\tlearn: 0.4075574\ttotal: 6m 53s\tremaining: 2m 4s\n768:\tlearn: 0.4075531\ttotal: 6m 53s\tremaining: 2m 4s\n769:\tlearn: 0.4075485\ttotal: 6m 54s\tremaining: 2m 3s\n770:\tlearn: 0.4075452\ttotal: 6m 55s\tremaining: 2m 3s\n771:\tlearn: 0.4075382\ttotal: 6m 55s\tremaining: 2m 2s\n772:\tlearn: 0.4075297\ttotal: 6m 55s\tremaining: 2m 2s\n773:\tlearn: 0.4075253\ttotal: 6m 56s\tremaining: 2m 1s\n774:\tlearn: 0.4075195\ttotal: 6m 56s\tremaining: 2m\n775:\tlearn: 0.4075154\ttotal: 6m 57s\tremaining: 2m\n776:\tlearn: 0.4075101\ttotal: 6m 57s\tremaining: 1m 59s\n777:\tlearn: 0.4075050\ttotal: 6m 58s\tremaining: 1m 59s\n778:\tlearn: 0.4074977\ttotal: 6m 58s\tremaining: 1m 58s\n779:\tlearn: 0.4074954\ttotal: 6m 59s\tremaining: 1m 58s\n780:\tlearn: 0.4074859\ttotal: 6m 59s\tremaining: 1m 57s\n781:\tlearn: 0.4074793\ttotal: 7m\tremaining: 1m 57s\n782:\tlearn: 0.4074718\ttotal: 7m\tremaining: 1m 56s\n783:\tlearn: 0.4074675\ttotal: 7m 1s\tremaining: 1m 56s\n784:\tlearn: 0.4074663\ttotal: 7m 1s\tremaining: 1m 55s\n785:\tlearn: 0.4074623\ttotal: 7m 2s\tremaining: 1m 54s\n786:\tlearn: 0.4074561\ttotal: 7m 2s\tremaining: 1m 54s\n787:\tlearn: 0.4074508\ttotal: 7m 3s\tremaining: 1m 53s\n788:\tlearn: 0.4074490\ttotal: 7m 3s\tremaining: 1m 53s\n789:\tlearn: 0.4074426\ttotal: 7m 4s\tremaining: 1m 52s\n790:\tlearn: 0.4074388\ttotal: 7m 4s\tremaining: 1m 52s\n791:\tlearn: 0.4074310\ttotal: 7m 5s\tremaining: 1m 51s\n792:\tlearn: 0.4074233\ttotal: 7m 5s\tremaining: 1m 51s\n793:\tlearn: 0.4074201\ttotal: 7m 6s\tremaining: 1m 50s\n794:\tlearn: 0.4074170\ttotal: 7m 6s\tremaining: 1m 50s\n795:\tlearn: 0.4074135\ttotal: 7m 7s\tremaining: 1m 49s\n796:\tlearn: 0.4074067\ttotal: 7m 7s\tremaining: 1m 48s\n797:\tlearn: 0.4074015\ttotal: 7m 8s\tremaining: 1m 48s\n798:\tlearn: 0.4073978\ttotal: 7m 9s\tremaining: 1m 47s\n799:\tlearn: 0.4073921\ttotal: 7m 9s\tremaining: 1m 47s\n800:\tlearn: 0.4073837\ttotal: 7m 10s\tremaining: 1m 46s\n801:\tlearn: 0.4073762\ttotal: 7m 10s\tremaining: 1m 46s\n802:\tlearn: 0.4073683\ttotal: 7m 11s\tremaining: 1m 45s\n803:\tlearn: 0.4073661\ttotal: 7m 11s\tremaining: 1m 45s\n804:\tlearn: 0.4073619\ttotal: 7m 12s\tremaining: 1m 44s\n805:\tlearn: 0.4073559\ttotal: 7m 12s\tremaining: 1m 44s\n806:\tlearn: 0.4073541\ttotal: 7m 13s\tremaining: 1m 43s\n807:\tlearn: 0.4073489\ttotal: 7m 13s\tremaining: 1m 43s\n808:\tlearn: 0.4073405\ttotal: 7m 14s\tremaining: 1m 42s\n809:\tlearn: 0.4073334\ttotal: 7m 15s\tremaining: 1m 42s\n810:\tlearn: 0.4073320\ttotal: 7m 15s\tremaining: 1m 41s\n811:\tlearn: 0.4073240\ttotal: 7m 15s\tremaining: 1m 40s\n812:\tlearn: 0.4073184\ttotal: 7m 16s\tremaining: 1m 40s\n813:\tlearn: 0.4073120\ttotal: 7m 17s\tremaining: 1m 39s\n814:\tlearn: 0.4073026\ttotal: 7m 17s\tremaining: 1m 39s\n815:\tlearn: 0.4072956\ttotal: 7m 18s\tremaining: 1m 38s\n816:\tlearn: 0.4072913\ttotal: 7m 18s\tremaining: 1m 38s\n817:\tlearn: 0.4072894\ttotal: 7m 19s\tremaining: 1m 37s\n818:\tlearn: 0.4072853\ttotal: 7m 19s\tremaining: 1m 37s\n819:\tlearn: 0.4072839\ttotal: 7m 20s\tremaining: 1m 36s\n820:\tlearn: 0.4072767\ttotal: 7m 20s\tremaining: 1m 36s\n821:\tlearn: 0.4072726\ttotal: 7m 20s\tremaining: 1m 35s\n822:\tlearn: 0.4072706\ttotal: 7m 21s\tremaining: 1m 34s\n823:\tlearn: 0.4072649\ttotal: 7m 21s\tremaining: 1m 34s\n824:\tlearn: 0.4072596\ttotal: 7m 22s\tremaining: 1m 33s\n825:\tlearn: 0.4072555\ttotal: 7m 23s\tremaining: 1m 33s\n826:\tlearn: 0.4072508\ttotal: 7m 23s\tremaining: 1m 32s\n827:\tlearn: 0.4072460\ttotal: 7m 23s\tremaining: 1m 32s\n828:\tlearn: 0.4072417\ttotal: 7m 24s\tremaining: 1m 31s\n829:\tlearn: 0.4072380\ttotal: 7m 25s\tremaining: 1m 31s\n830:\tlearn: 0.4072353\ttotal: 7m 25s\tremaining: 1m 30s\n831:\tlearn: 0.4072303\ttotal: 7m 26s\tremaining: 1m 30s\n832:\tlearn: 0.4072283\ttotal: 7m 26s\tremaining: 1m 29s\n833:\tlearn: 0.4072223\ttotal: 7m 27s\tremaining: 1m 29s\n834:\tlearn: 0.4072162\ttotal: 7m 27s\tremaining: 1m 28s\n835:\tlearn: 0.4072117\ttotal: 7m 28s\tremaining: 1m 27s\n836:\tlearn: 0.4072062\ttotal: 7m 28s\tremaining: 1m 27s\n837:\tlearn: 0.4072019\ttotal: 7m 29s\tremaining: 1m 26s\n838:\tlearn: 0.4071953\ttotal: 7m 29s\tremaining: 1m 26s\n839:\tlearn: 0.4071889\ttotal: 7m 30s\tremaining: 1m 25s\n840:\tlearn: 0.4071843\ttotal: 7m 31s\tremaining: 1m 25s\n841:\tlearn: 0.4071774\ttotal: 7m 31s\tremaining: 1m 24s\n842:\tlearn: 0.4071727\ttotal: 7m 32s\tremaining: 1m 24s\n843:\tlearn: 0.4071711\ttotal: 7m 32s\tremaining: 1m 23s\n844:\tlearn: 0.4071666\ttotal: 7m 33s\tremaining: 1m 23s\n845:\tlearn: 0.4071630\ttotal: 7m 33s\tremaining: 1m 22s\n846:\tlearn: 0.4071543\ttotal: 7m 34s\tremaining: 1m 22s\n847:\tlearn: 0.4071479\ttotal: 7m 34s\tremaining: 1m 21s\n848:\tlearn: 0.4071435\ttotal: 7m 35s\tremaining: 1m 20s\n849:\tlearn: 0.4071366\ttotal: 7m 35s\tremaining: 1m 20s\n850:\tlearn: 0.4071302\ttotal: 7m 36s\tremaining: 1m 19s\n851:\tlearn: 0.4071256\ttotal: 7m 36s\tremaining: 1m 19s\n852:\tlearn: 0.4071210\ttotal: 7m 37s\tremaining: 1m 18s\n853:\tlearn: 0.4071127\ttotal: 7m 37s\tremaining: 1m 18s\n854:\tlearn: 0.4071058\ttotal: 7m 38s\tremaining: 1m 17s\n855:\tlearn: 0.4070999\ttotal: 7m 38s\tremaining: 1m 17s\n856:\tlearn: 0.4070976\ttotal: 7m 39s\tremaining: 1m 16s\n857:\tlearn: 0.4070941\ttotal: 7m 40s\tremaining: 1m 16s\n858:\tlearn: 0.4070872\ttotal: 7m 40s\tremaining: 1m 15s\n859:\tlearn: 0.4070840\ttotal: 7m 41s\tremaining: 1m 15s\n860:\tlearn: 0.4070765\ttotal: 7m 41s\tremaining: 1m 14s\n861:\tlearn: 0.4070720\ttotal: 7m 42s\tremaining: 1m 13s\n862:\tlearn: 0.4070647\ttotal: 7m 42s\tremaining: 1m 13s\n863:\tlearn: 0.4070610\ttotal: 7m 43s\tremaining: 1m 12s\n864:\tlearn: 0.4070588\ttotal: 7m 43s\tremaining: 1m 12s\n865:\tlearn: 0.4070546\ttotal: 7m 44s\tremaining: 1m 11s\n866:\tlearn: 0.4070418\ttotal: 7m 45s\tremaining: 1m 11s\n867:\tlearn: 0.4070355\ttotal: 7m 45s\tremaining: 1m 10s\n868:\tlearn: 0.4070298\ttotal: 7m 46s\tremaining: 1m 10s\n869:\tlearn: 0.4070232\ttotal: 7m 46s\tremaining: 1m 9s\n870:\tlearn: 0.4070190\ttotal: 7m 47s\tremaining: 1m 9s\n871:\tlearn: 0.4070135\ttotal: 7m 48s\tremaining: 1m 8s\n872:\tlearn: 0.4070078\ttotal: 7m 48s\tremaining: 1m 8s\n873:\tlearn: 0.4070016\ttotal: 7m 48s\tremaining: 1m 7s\n874:\tlearn: 0.4069976\ttotal: 7m 49s\tremaining: 1m 7s\n875:\tlearn: 0.4069919\ttotal: 7m 49s\tremaining: 1m 6s\n876:\tlearn: 0.4069857\ttotal: 7m 50s\tremaining: 1m 5s\n877:\tlearn: 0.4069803\ttotal: 7m 50s\tremaining: 1m 5s\n878:\tlearn: 0.4069752\ttotal: 7m 51s\tremaining: 1m 4s\n879:\tlearn: 0.4069694\ttotal: 7m 52s\tremaining: 1m 4s\n880:\tlearn: 0.4069666\ttotal: 7m 52s\tremaining: 1m 3s\n881:\tlearn: 0.4069587\ttotal: 7m 53s\tremaining: 1m 3s\n882:\tlearn: 0.4069555\ttotal: 7m 53s\tremaining: 1m 2s\n883:\tlearn: 0.4069523\ttotal: 7m 54s\tremaining: 1m 2s\n884:\tlearn: 0.4069492\ttotal: 7m 54s\tremaining: 1m 1s\n885:\tlearn: 0.4069445\ttotal: 7m 54s\tremaining: 1m 1s\n886:\tlearn: 0.4069420\ttotal: 7m 55s\tremaining: 1m\n887:\tlearn: 0.4069398\ttotal: 7m 55s\tremaining: 1m\n888:\tlearn: 0.4069351\ttotal: 7m 56s\tremaining: 59.5s\n889:\tlearn: 0.4069319\ttotal: 7m 56s\tremaining: 58.9s\n890:\tlearn: 0.4069243\ttotal: 7m 57s\tremaining: 58.4s\n891:\tlearn: 0.4069203\ttotal: 7m 57s\tremaining: 57.9s\n892:\tlearn: 0.4069150\ttotal: 7m 58s\tremaining: 57.3s\n893:\tlearn: 0.4069114\ttotal: 7m 58s\tremaining: 56.8s\n894:\tlearn: 0.4069077\ttotal: 7m 59s\tremaining: 56.2s\n895:\tlearn: 0.4069041\ttotal: 7m 59s\tremaining: 55.7s\n896:\tlearn: 0.4068985\ttotal: 8m\tremaining: 55.2s\n897:\tlearn: 0.4068931\ttotal: 8m 1s\tremaining: 54.6s\n898:\tlearn: 0.4068864\ttotal: 8m 1s\tremaining: 54.1s\n899:\tlearn: 0.4068815\ttotal: 8m 2s\tremaining: 53.6s\n900:\tlearn: 0.4068747\ttotal: 8m 2s\tremaining: 53s\n901:\tlearn: 0.4068685\ttotal: 8m 3s\tremaining: 52.5s\n902:\tlearn: 0.4068640\ttotal: 8m 3s\tremaining: 52s\n903:\tlearn: 0.4068612\ttotal: 8m 4s\tremaining: 51.5s\n904:\tlearn: 0.4068574\ttotal: 8m 5s\tremaining: 50.9s\n905:\tlearn: 0.4068507\ttotal: 8m 5s\tremaining: 50.4s\n906:\tlearn: 0.4068452\ttotal: 8m 6s\tremaining: 49.9s\n907:\tlearn: 0.4068384\ttotal: 8m 6s\tremaining: 49.3s\n908:\tlearn: 0.4068346\ttotal: 8m 7s\tremaining: 48.8s\n909:\tlearn: 0.4068319\ttotal: 8m 8s\tremaining: 48.3s\n910:\tlearn: 0.4068273\ttotal: 8m 8s\tremaining: 47.7s\n911:\tlearn: 0.4068239\ttotal: 8m 9s\tremaining: 47.2s\n912:\tlearn: 0.4068211\ttotal: 8m 9s\tremaining: 46.6s\n913:\tlearn: 0.4068197\ttotal: 8m 10s\tremaining: 46.1s\n914:\tlearn: 0.4068174\ttotal: 8m 10s\tremaining: 45.6s\n915:\tlearn: 0.4068127\ttotal: 8m 10s\tremaining: 45s\n916:\tlearn: 0.4068085\ttotal: 8m 11s\tremaining: 44.5s\n917:\tlearn: 0.4068057\ttotal: 8m 12s\tremaining: 43.9s\n918:\tlearn: 0.4068023\ttotal: 8m 12s\tremaining: 43.4s\n919:\tlearn: 0.4067970\ttotal: 8m 12s\tremaining: 42.9s\n920:\tlearn: 0.4067927\ttotal: 8m 13s\tremaining: 42.3s\n921:\tlearn: 0.4067891\ttotal: 8m 13s\tremaining: 41.8s\n922:\tlearn: 0.4067870\ttotal: 8m 14s\tremaining: 41.2s\n923:\tlearn: 0.4067809\ttotal: 8m 14s\tremaining: 40.7s\n924:\tlearn: 0.4067742\ttotal: 8m 15s\tremaining: 40.2s\n925:\tlearn: 0.4067695\ttotal: 8m 15s\tremaining: 39.6s\n926:\tlearn: 0.4067650\ttotal: 8m 16s\tremaining: 39.1s\n927:\tlearn: 0.4067615\ttotal: 8m 16s\tremaining: 38.5s\n928:\tlearn: 0.4067555\ttotal: 8m 17s\tremaining: 38s\n929:\tlearn: 0.4067505\ttotal: 8m 17s\tremaining: 37.5s\n930:\tlearn: 0.4067470\ttotal: 8m 18s\tremaining: 37s\n931:\tlearn: 0.4067405\ttotal: 8m 19s\tremaining: 36.4s\n932:\tlearn: 0.4067360\ttotal: 8m 19s\tremaining: 35.9s\n933:\tlearn: 0.4067306\ttotal: 8m 20s\tremaining: 35.3s\n934:\tlearn: 0.4067289\ttotal: 8m 20s\tremaining: 34.8s\n935:\tlearn: 0.4067234\ttotal: 8m 20s\tremaining: 34.3s\n936:\tlearn: 0.4067167\ttotal: 8m 21s\tremaining: 33.7s\n937:\tlearn: 0.4067135\ttotal: 8m 21s\tremaining: 33.2s\n938:\tlearn: 0.4067081\ttotal: 8m 22s\tremaining: 32.6s\n939:\tlearn: 0.4067011\ttotal: 8m 23s\tremaining: 32.1s\n940:\tlearn: 0.4067004\ttotal: 8m 23s\tremaining: 31.6s\n941:\tlearn: 0.4066971\ttotal: 8m 23s\tremaining: 31s\n942:\tlearn: 0.4066922\ttotal: 8m 24s\tremaining: 30.5s\n943:\tlearn: 0.4066877\ttotal: 8m 25s\tremaining: 30s\n944:\tlearn: 0.4066832\ttotal: 8m 25s\tremaining: 29.4s\n945:\tlearn: 0.4066793\ttotal: 8m 25s\tremaining: 28.9s\n946:\tlearn: 0.4066741\ttotal: 8m 26s\tremaining: 28.3s\n947:\tlearn: 0.4066695\ttotal: 8m 26s\tremaining: 27.8s\n948:\tlearn: 0.4066659\ttotal: 8m 27s\tremaining: 27.3s\n949:\tlearn: 0.4066601\ttotal: 8m 27s\tremaining: 26.7s\n950:\tlearn: 0.4066561\ttotal: 8m 28s\tremaining: 26.2s\n951:\tlearn: 0.4066525\ttotal: 8m 28s\tremaining: 25.7s\n952:\tlearn: 0.4066481\ttotal: 8m 29s\tremaining: 25.1s\n953:\tlearn: 0.4066449\ttotal: 8m 29s\tremaining: 24.6s\n954:\tlearn: 0.4066422\ttotal: 8m 30s\tremaining: 24s\n955:\tlearn: 0.4066379\ttotal: 8m 30s\tremaining: 23.5s\n956:\tlearn: 0.4066340\ttotal: 8m 31s\tremaining: 23s\n957:\tlearn: 0.4066292\ttotal: 8m 31s\tremaining: 22.4s\n958:\tlearn: 0.4066274\ttotal: 8m 32s\tremaining: 21.9s\n959:\tlearn: 0.4066246\ttotal: 8m 32s\tremaining: 21.4s\n960:\tlearn: 0.4066190\ttotal: 8m 33s\tremaining: 20.8s\n961:\tlearn: 0.4066151\ttotal: 8m 34s\tremaining: 20.3s\n962:\tlearn: 0.4066114\ttotal: 8m 34s\tremaining: 19.8s\n963:\tlearn: 0.4066069\ttotal: 8m 35s\tremaining: 19.2s\n964:\tlearn: 0.4066033\ttotal: 8m 35s\tremaining: 18.7s\n965:\tlearn: 0.4065990\ttotal: 8m 36s\tremaining: 18.2s\n966:\tlearn: 0.4065945\ttotal: 8m 36s\tremaining: 17.6s\n967:\tlearn: 0.4065892\ttotal: 8m 37s\tremaining: 17.1s\n968:\tlearn: 0.4065821\ttotal: 8m 37s\tremaining: 16.6s\n969:\tlearn: 0.4065761\ttotal: 8m 38s\tremaining: 16s\n970:\tlearn: 0.4065707\ttotal: 8m 39s\tremaining: 15.5s\n971:\tlearn: 0.4065645\ttotal: 8m 39s\tremaining: 15s\n972:\tlearn: 0.4065619\ttotal: 8m 40s\tremaining: 14.4s\n973:\tlearn: 0.4065586\ttotal: 8m 40s\tremaining: 13.9s\n974:\tlearn: 0.4065563\ttotal: 8m 41s\tremaining: 13.4s\n975:\tlearn: 0.4065494\ttotal: 8m 41s\tremaining: 12.8s\n976:\tlearn: 0.4065484\ttotal: 8m 42s\tremaining: 12.3s\n977:\tlearn: 0.4065442\ttotal: 8m 42s\tremaining: 11.8s\n978:\tlearn: 0.4065397\ttotal: 8m 43s\tremaining: 11.2s\n979:\tlearn: 0.4065354\ttotal: 8m 43s\tremaining: 10.7s\n980:\tlearn: 0.4065304\ttotal: 8m 44s\tremaining: 10.2s\n981:\tlearn: 0.4065277\ttotal: 8m 44s\tremaining: 9.62s\n982:\tlearn: 0.4065257\ttotal: 8m 45s\tremaining: 9.08s\n983:\tlearn: 0.4065217\ttotal: 8m 45s\tremaining: 8.55s\n984:\tlearn: 0.4065165\ttotal: 8m 46s\tremaining: 8.01s\n985:\tlearn: 0.4065126\ttotal: 8m 46s\tremaining: 7.48s\n986:\tlearn: 0.4065086\ttotal: 8m 47s\tremaining: 6.95s\n987:\tlearn: 0.4065041\ttotal: 8m 47s\tremaining: 6.41s\n988:\tlearn: 0.4064992\ttotal: 8m 48s\tremaining: 5.88s\n989:\tlearn: 0.4064977\ttotal: 8m 48s\tremaining: 5.34s\n990:\tlearn: 0.4064944\ttotal: 8m 49s\tremaining: 4.81s\n991:\tlearn: 0.4064895\ttotal: 8m 49s\tremaining: 4.27s\n992:\tlearn: 0.4064858\ttotal: 8m 50s\tremaining: 3.74s\n993:\tlearn: 0.4064817\ttotal: 8m 50s\tremaining: 3.2s\n994:\tlearn: 0.4064794\ttotal: 8m 51s\tremaining: 2.67s\n995:\tlearn: 0.4064733\ttotal: 8m 51s\tremaining: 2.14s\n996:\tlearn: 0.4064709\ttotal: 8m 52s\tremaining: 1.6s\n997:\tlearn: 0.4064644\ttotal: 8m 53s\tremaining: 1.07s\n998:\tlearn: 0.4064612\ttotal: 8m 53s\tremaining: 534ms\n999:\tlearn: 0.4064555\ttotal: 8m 54s\tremaining: 0us\n",
          "output_type": "stream"
        },
        {
          "execution_count": 34,
          "output_type": "execute_result",
          "data": {
            "text/plain": "<catboost.core.CatBoostClassifier at 0x7cca1f0fe020>"
          },
          "metadata": {}
        }
      ]
    },
    {
      "cell_type": "code",
      "source": [
        "y_pred = model.predict(X_test)"
      ],
      "metadata": {
        "execution": {
          "iopub.status.busy": "2024-09-11T20:20:53.138145Z",
          "iopub.execute_input": "2024-09-11T20:20:53.138820Z",
          "iopub.status.idle": "2024-09-11T20:20:55.979341Z",
          "shell.execute_reply.started": "2024-09-11T20:20:53.138780Z",
          "shell.execute_reply": "2024-09-11T20:20:55.978529Z"
        },
        "trusted": true,
        "id": "UVeusZHT048L"
      },
      "execution_count": null,
      "outputs": []
    },
    {
      "cell_type": "code",
      "source": [
        "y_pred"
      ],
      "metadata": {
        "execution": {
          "iopub.status.busy": "2024-09-11T20:20:55.980813Z",
          "iopub.execute_input": "2024-09-11T20:20:55.981145Z",
          "iopub.status.idle": "2024-09-11T20:20:55.987448Z",
          "shell.execute_reply.started": "2024-09-11T20:20:55.981112Z",
          "shell.execute_reply": "2024-09-11T20:20:55.986326Z"
        },
        "trusted": true,
        "id": "Gpr4AVKd048L",
        "outputId": "e125877d-b6bd-4900-e738-a7fc43a1f6b1"
      },
      "execution_count": null,
      "outputs": [
        {
          "execution_count": 36,
          "output_type": "execute_result",
          "data": {
            "text/plain": "array([1, 0, 0, ..., 0, 1, 1])"
          },
          "metadata": {}
        }
      ]
    },
    {
      "cell_type": "code",
      "source": [
        "# = X_train.drop(['country', 'native_lang'], axis=1)"
      ],
      "metadata": {
        "execution": {
          "iopub.status.busy": "2024-09-11T11:58:05.047214Z",
          "iopub.status.idle": "2024-09-11T11:58:05.047690Z",
          "shell.execute_reply.started": "2024-09-11T11:58:05.047447Z",
          "shell.execute_reply": "2024-09-11T11:58:05.047472Z"
        },
        "trusted": true,
        "id": "87GpjZKE048M"
      },
      "execution_count": null,
      "outputs": []
    },
    {
      "cell_type": "code",
      "source": [
        "subm = pd.concat((y_id_test, pd.Series(y_pred)), axis=1)\n",
        "subm.rename(columns={0: 'checked'}, inplace=True)\n",
        "subm.to_csv('submitcatboost02.csv', index=False)"
      ],
      "metadata": {
        "execution": {
          "iopub.status.busy": "2024-09-11T20:21:04.061823Z",
          "iopub.execute_input": "2024-09-11T20:21:04.062599Z",
          "iopub.status.idle": "2024-09-11T20:21:04.294306Z",
          "shell.execute_reply.started": "2024-09-11T20:21:04.062560Z",
          "shell.execute_reply": "2024-09-11T20:21:04.293485Z"
        },
        "trusted": true,
        "id": "V675xJkt048M"
      },
      "execution_count": null,
      "outputs": []
    },
    {
      "cell_type": "code",
      "source": [
        "# !pip install catboost\n",
        "# !pip install optuna"
      ],
      "metadata": {
        "execution": {
          "iopub.status.busy": "2024-09-11T11:58:05.050561Z",
          "iopub.status.idle": "2024-09-11T11:58:05.051001Z",
          "shell.execute_reply.started": "2024-09-11T11:58:05.050766Z",
          "shell.execute_reply": "2024-09-11T11:58:05.050789Z"
        },
        "trusted": true,
        "id": "UkB5sRnc048M"
      },
      "execution_count": null,
      "outputs": []
    },
    {
      "cell_type": "code",
      "source": [
        "from sklearn.model_selection import train_test_split\n",
        "from sklearn.metrics import accuracy_score\n",
        "from sklearn.metrics import classification_report\n",
        "from sklearn.datasets import load_wine\n",
        "import optuna\n",
        "from optuna.samplers import TPESampler\n",
        "import catboost\n",
        "import pickle\n",
        "import plotly.express as px\n",
        "import plotly.graph_objects as go\n",
        "import plotly.figure_factory as ff\n",
        "from plotly.subplots import make_subplots\n",
        "import matplotlib.pyplot as plt\n",
        "\n",
        "\n",
        "import seaborn as sns\n",
        "from sklearn import metrics\n",
        "from scipy import stats\n",
        "\n",
        "from copy import deepcopy\n",
        "\n",
        "from sklearn.ensemble import RandomForestRegressor\n",
        "from xgboost import XGBRegressor\n",
        "\n",
        "from sklearn.model_selection import GridSearchCV\n",
        "from sklearn.model_selection import KFold\n",
        "from sklearn.model_selection import cross_val_score\n",
        "\n",
        "\n",
        "import optuna\n",
        "from optuna import Trial, visualization\n",
        "\n",
        "from sklearn.model_selection import train_test_split\n",
        "from sklearn.metrics import f1_score,confusion_matrix\n",
        "from sklearn.metrics import accuracy_score, mean_squared_error\n",
        "\n",
        "import numpy as np\n",
        "import pandas as pd\n",
        "import matplotlib.pyplot as plt\n",
        "import seaborn as sns\n",
        "\n",
        "# Supress Warnings\n",
        "import warnings\n",
        "warnings.filterwarnings('ignore')\n",
        "\n",
        "import gc\n",
        "from sklearn.preprocessing import StandardScaler\n",
        "\n",
        "from sklearn.model_selection import StratifiedKFold\n",
        "from sklearn.metrics import roc_auc_score\n",
        "\n",
        "from lightgbm import LGBMClassifier"
      ],
      "metadata": {
        "execution": {
          "iopub.status.busy": "2024-09-11T11:58:05.052172Z",
          "iopub.status.idle": "2024-09-11T11:58:05.052646Z",
          "shell.execute_reply.started": "2024-09-11T11:58:05.052398Z",
          "shell.execute_reply": "2024-09-11T11:58:05.052422Z"
        },
        "trusted": true,
        "id": "ZXeoaf8S048M"
      },
      "execution_count": null,
      "outputs": []
    },
    {
      "cell_type": "code",
      "source": [
        "X = pd.DataFrame(X_train)\n",
        "y = pd.DataFrame(y_train)"
      ],
      "metadata": {
        "execution": {
          "iopub.status.busy": "2024-09-11T11:58:05.053688Z",
          "iopub.status.idle": "2024-09-11T11:58:05.054140Z",
          "shell.execute_reply.started": "2024-09-11T11:58:05.053897Z",
          "shell.execute_reply": "2024-09-11T11:58:05.053921Z"
        },
        "trusted": true,
        "id": "om-VK-yP048N"
      },
      "execution_count": null,
      "outputs": []
    },
    {
      "cell_type": "code",
      "source": [
        "global X, y\n",
        "\n",
        "def objective(trial):\n",
        "    # prameter grid\n",
        "    # search about suggest_int, suggest_uniform and all.. it is easy to understand\n",
        "    param_grid = {\n",
        "      \"n_estimators\" : trial.suggest_int(\"n_estimators\", 1100, 1500),\n",
        "      \"max_depth\" : trial.suggest_int('max_depth', 6, 8),\n",
        "      \"learning_rate\" : 0.020473,\n",
        "      'random_seed': 42,\n",
        "        'metric_period': 100\n",
        "    }\n",
        "\n",
        "    # Simple kfold implementation\n",
        "    kf = StratifiedKFold(n_splits=2,random_state=48,shuffle=True)\n",
        "    ac = np.empty(2)\n",
        "\n",
        "    for n, (train_index, test_index) in enumerate(kf.split(X, y)):\n",
        "        X_train, X_valid = X.iloc[train_index], X.iloc[test_index]\n",
        "        y_train, y_valid = y.iloc[train_index], y.iloc[test_index]\n",
        "        model = catboost.CatBoostClassifier(cat_features=['word', 'status', 'education', 'occupation', 'country', 'native_lang', 'version'], task_type=\"GPU\",  **param_grid)\n",
        "        #model = xgb.(tree_method='gpu_hist', predictor='gpu_predictor', objective= 'binary:logistic', nthread=4, scale_pos_weight=1, seed=27, **param_grid)\n",
        "        model.fit(X_train, y_train, eval_set=(X_valid,y_valid), verbose=100)\n",
        "\n",
        "        ac[n] = accuracy_score(y_valid, model.predict(X_valid))\n",
        "        gc.collect()\n",
        "\n",
        "    return np.mean(ac)"
      ],
      "metadata": {
        "execution": {
          "iopub.status.busy": "2024-09-11T11:58:05.056378Z",
          "iopub.status.idle": "2024-09-11T11:58:05.056838Z",
          "shell.execute_reply.started": "2024-09-11T11:58:05.056600Z",
          "shell.execute_reply": "2024-09-11T11:58:05.056624Z"
        },
        "trusted": true,
        "id": "IMFocsWi048N"
      },
      "execution_count": null,
      "outputs": []
    },
    {
      "cell_type": "code",
      "source": [
        "import optuna\n",
        "study = optuna.create_study(direction=\"maximize\", study_name=\"CatBoost Classifier\")\n",
        "study.optimize(objective, n_trials=400)"
      ],
      "metadata": {
        "execution": {
          "iopub.status.busy": "2024-09-11T11:58:05.058277Z",
          "iopub.status.idle": "2024-09-11T11:58:05.058762Z",
          "shell.execute_reply.started": "2024-09-11T11:58:05.058517Z",
          "shell.execute_reply": "2024-09-11T11:58:05.058541Z"
        },
        "trusted": true,
        "id": "ZWrBWc9U048N"
      },
      "execution_count": null,
      "outputs": []
    },
    {
      "cell_type": "code",
      "source": [
        "import plotly.express as px\n",
        "import plotly.graph_objects as go\n",
        "import plotly.figure_factory as ff\n",
        "from plotly.subplots import make_subplots\n",
        "import matplotlib.pyplot as plt\n",
        "\n",
        "\n",
        "import seaborn as sns\n",
        "from sklearn import metrics\n",
        "from scipy import stats\n",
        "\n",
        "from copy import deepcopy\n",
        "\n",
        "from sklearn.ensemble import RandomForestRegressor\n",
        "from xgboost import XGBRegressor\n",
        "\n",
        "from sklearn.model_selection import GridSearchCV\n",
        "from sklearn.model_selection import KFold\n",
        "from sklearn.model_selection import cross_val_score\n",
        "\n",
        "\n",
        "import optuna\n",
        "from optuna import Trial, visualization\n",
        "\n",
        "from sklearn.model_selection import train_test_split\n",
        "from sklearn.metrics import f1_score,confusion_matrix\n",
        "from sklearn.metrics import accuracy_score, mean_squared_error\n",
        "\n",
        "import numpy as np\n",
        "import pandas as pd\n",
        "import matplotlib.pyplot as plt\n",
        "import seaborn as sns\n",
        "\n",
        "# Supress Warnings\n",
        "import warnings\n",
        "warnings.filterwarnings('ignore')\n",
        "\n",
        "import gc\n",
        "from sklearn.preprocessing import StandardScaler\n",
        "\n",
        "from sklearn.model_selection import StratifiedKFold\n",
        "from sklearn.metrics import roc_auc_score\n",
        "\n",
        "from lightgbm import LGBMClassifier"
      ],
      "metadata": {
        "execution": {
          "iopub.status.busy": "2024-09-11T11:58:05.060161Z",
          "iopub.status.idle": "2024-09-11T11:58:05.060650Z",
          "shell.execute_reply.started": "2024-09-11T11:58:05.060396Z",
          "shell.execute_reply": "2024-09-11T11:58:05.060422Z"
        },
        "trusted": true,
        "id": "NPu3AoDK048N"
      },
      "execution_count": null,
      "outputs": []
    },
    {
      "cell_type": "code",
      "source": [
        "import xgboost as xgb"
      ],
      "metadata": {
        "execution": {
          "iopub.status.busy": "2024-09-11T11:58:05.062354Z",
          "iopub.status.idle": "2024-09-11T11:58:05.062836Z",
          "shell.execute_reply.started": "2024-09-11T11:58:05.062596Z",
          "shell.execute_reply": "2024-09-11T11:58:05.062620Z"
        },
        "trusted": true,
        "id": "QlVI9lO0048O"
      },
      "execution_count": null,
      "outputs": []
    },
    {
      "cell_type": "code",
      "source": [
        "X = pd.DataFrame(X_train)\n",
        "y = pd.DataFrame(y_train)"
      ],
      "metadata": {
        "execution": {
          "iopub.status.busy": "2024-09-11T11:58:05.064318Z",
          "iopub.status.idle": "2024-09-11T11:58:05.064803Z",
          "shell.execute_reply.started": "2024-09-11T11:58:05.064561Z",
          "shell.execute_reply": "2024-09-11T11:58:05.064585Z"
        },
        "trusted": true,
        "id": "Tw2trq-c048O"
      },
      "execution_count": null,
      "outputs": []
    },
    {
      "cell_type": "code",
      "source": [
        "global X, y\n",
        "\n",
        "def objective(trial):\n",
        "    # prameter grid\n",
        "    # search about suggest_int, suggest_uniform and all.. it is easy to understand\n",
        "    param_grid = {\n",
        "      \"n_estimators\" : trial.suggest_int(\"n_estimators\", 300, 1200),\n",
        "      \"max_depth\" : trial.suggest_int('max_depth', 1, 15),\n",
        "      \"min_child_weight\" : trial.suggest_int('min_child_samples', 1, 300),\n",
        "      \"learning_rate\" : trial.suggest_uniform('learning_rate', 0.01, 0.10),\n",
        "      \"colsample_bytree\" : trial.suggest_uniform('colsample_bytree', 0.3, 1),\n",
        "      \"subsample\" : trial.suggest_uniform('subsample', 0.3, 1),\n",
        "      'random_state': 42,\n",
        "      'gamma': trial.suggest_uniform('gamma', 0, 2)\n",
        "    }\n",
        "\n",
        "    # Simple kfold implementation\n",
        "    kf = StratifiedKFold(n_splits=5,random_state=48,shuffle=True)\n",
        "    auc = np.empty(5)\n",
        "\n",
        "    for n, (train_index, test_index) in enumerate(kf.split(X, y)):\n",
        "        X_train, X_valid = X.iloc[train_index], X.iloc[test_index]\n",
        "        y_train, y_valid = y.iloc[train_index], y.iloc[test_index]\n",
        "\n",
        "        model = xgb.XGBClassifier(tree_method='gpu_hist', predictor='gpu_predictor', objective= 'binary:logistic', nthread=4, scale_pos_weight=1, seed=27, **param_grid)\n",
        "        model.fit(X_train, y_train, eval_set=[(X_valid,y_valid)], early_stopping_rounds=100, eval_metric=\"auc\", verbose=False)\n",
        "\n",
        "        auc[n] = roc_auc_score(y_valid, model.predict_proba(X_valid)[:, 1])\n",
        "        gc.collect()\n",
        "\n",
        "    return np.mean(auc)"
      ],
      "metadata": {
        "execution": {
          "iopub.status.busy": "2024-09-11T11:58:05.066056Z",
          "iopub.status.idle": "2024-09-11T11:58:05.066551Z",
          "shell.execute_reply.started": "2024-09-11T11:58:05.066266Z",
          "shell.execute_reply": "2024-09-11T11:58:05.066290Z"
        },
        "trusted": true,
        "id": "KW0AlwgZ048O"
      },
      "execution_count": null,
      "outputs": []
    },
    {
      "cell_type": "code",
      "source": [
        "import optuna\n",
        "study = optuna.create_study(direction=\"maximize\", study_name=\"XGBoost Classifier\")\n",
        "study.optimize(objective, n_trials=400)"
      ],
      "metadata": {
        "execution": {
          "iopub.status.busy": "2024-09-11T11:58:05.068616Z",
          "iopub.status.idle": "2024-09-11T11:58:05.069064Z",
          "shell.execute_reply.started": "2024-09-11T11:58:05.068826Z",
          "shell.execute_reply": "2024-09-11T11:58:05.068851Z"
        },
        "trusted": true,
        "id": "c7f41-Rs048O"
      },
      "execution_count": null,
      "outputs": []
    },
    {
      "cell_type": "code",
      "source": [
        "model_xgb = xgb.XGBClassifier(tree_method='gpu_hist', predictor='gpu_predictor', n_estimators=1039,\n",
        "                              max_depth=15,\n",
        "                              min_child_samples=239,\n",
        "                              learning_rate=0.0692717619162765,\n",
        "                              colsample_bytree=0.7565210541550682,\n",
        "                              subsample=0.6297804053141071,\n",
        "                              gamma=0.339418714610523,\n",
        "                              objective= 'binary:logistic',\n",
        "                              nthread=4,\n",
        "                              scale_pos_weight=1,\n",
        "                              seed=27)\n",
        "\n",
        "\n",
        "\n",
        "model_xgb.fit(X_train, y_train)\n",
        "predictions = model_xgb.predict(X_test)\n",
        "y_predprob_xgb = model_xgb.predict_proba(X_test)"
      ],
      "metadata": {
        "execution": {
          "iopub.status.busy": "2024-09-11T11:58:05.071239Z",
          "iopub.status.idle": "2024-09-11T11:58:05.071734Z",
          "shell.execute_reply.started": "2024-09-11T11:58:05.071490Z",
          "shell.execute_reply": "2024-09-11T11:58:05.071514Z"
        },
        "trusted": true,
        "id": "EPPuNDGJ048O"
      },
      "execution_count": null,
      "outputs": []
    },
    {
      "cell_type": "code",
      "source": [
        "y_pred_xgb = model_xgb.predict(X_test)"
      ],
      "metadata": {
        "execution": {
          "iopub.status.busy": "2024-09-11T11:58:05.072896Z",
          "iopub.status.idle": "2024-09-11T11:58:05.073344Z",
          "shell.execute_reply.started": "2024-09-11T11:58:05.073105Z",
          "shell.execute_reply": "2024-09-11T11:58:05.073129Z"
        },
        "trusted": true,
        "id": "gd3y6l2d048P"
      },
      "execution_count": null,
      "outputs": []
    },
    {
      "cell_type": "code",
      "source": [
        "model"
      ],
      "metadata": {
        "execution": {
          "iopub.status.busy": "2024-09-11T11:58:05.074711Z",
          "iopub.status.idle": "2024-09-11T11:58:05.075166Z",
          "shell.execute_reply.started": "2024-09-11T11:58:05.074921Z",
          "shell.execute_reply": "2024-09-11T11:58:05.074945Z"
        },
        "trusted": true,
        "id": "OPg7Edyn048P"
      },
      "execution_count": null,
      "outputs": []
    },
    {
      "cell_type": "code",
      "source": [
        "y_predproba_catboost = model.predict_proba(X_test)"
      ],
      "metadata": {
        "execution": {
          "iopub.status.busy": "2024-09-11T11:58:05.076568Z",
          "iopub.status.idle": "2024-09-11T11:58:05.077026Z",
          "shell.execute_reply.started": "2024-09-11T11:58:05.076780Z",
          "shell.execute_reply": "2024-09-11T11:58:05.076804Z"
        },
        "trusted": true,
        "id": "2B5sRFtk048Q"
      },
      "execution_count": null,
      "outputs": []
    },
    {
      "cell_type": "code",
      "source": [
        "y_pred_proba = np.add((y_predproba_catboost[:, 1] * 1/4), (y_predprob_xgb[:, 1] * 3/4))"
      ],
      "metadata": {
        "execution": {
          "iopub.status.busy": "2024-09-11T11:58:05.078474Z",
          "iopub.status.idle": "2024-09-11T11:58:05.078946Z",
          "shell.execute_reply.started": "2024-09-11T11:58:05.078694Z",
          "shell.execute_reply": "2024-09-11T11:58:05.078719Z"
        },
        "trusted": true,
        "id": "c5sXObx2048Q"
      },
      "execution_count": null,
      "outputs": []
    },
    {
      "cell_type": "code",
      "source": [
        "y_pred_proba"
      ],
      "metadata": {
        "execution": {
          "iopub.status.busy": "2024-09-11T11:58:05.080347Z",
          "iopub.status.idle": "2024-09-11T11:58:05.080875Z",
          "shell.execute_reply.started": "2024-09-11T11:58:05.080596Z",
          "shell.execute_reply": "2024-09-11T11:58:05.080622Z"
        },
        "trusted": true,
        "id": "WLDSnmnj048R"
      },
      "execution_count": null,
      "outputs": []
    },
    {
      "cell_type": "code",
      "source": [
        "np.round(y_pred_proba)"
      ],
      "metadata": {
        "execution": {
          "iopub.status.busy": "2024-09-11T11:58:05.082681Z",
          "iopub.status.idle": "2024-09-11T11:58:05.083135Z",
          "shell.execute_reply.started": "2024-09-11T11:58:05.082892Z",
          "shell.execute_reply": "2024-09-11T11:58:05.082916Z"
        },
        "trusted": true,
        "id": "_EIrZ2U3048R"
      },
      "execution_count": null,
      "outputs": []
    },
    {
      "cell_type": "code",
      "source": [
        "subm = pd.concat((y_id_test, pd.Series(np.round(y_pred_proba))), axis=1)\n",
        "subm.rename(columns={0: 'checked'}, inplace=True)\n",
        "subm.to_csv('submitxgb_cat.csv', index=False)"
      ],
      "metadata": {
        "execution": {
          "iopub.status.busy": "2024-09-11T11:58:05.084225Z",
          "iopub.status.idle": "2024-09-11T11:58:05.084709Z",
          "shell.execute_reply.started": "2024-09-11T11:58:05.084461Z",
          "shell.execute_reply": "2024-09-11T11:58:05.084485Z"
        },
        "trusted": true,
        "id": "bXP9aklW048R"
      },
      "execution_count": null,
      "outputs": []
    },
    {
      "cell_type": "code",
      "source": [
        "subm = pd.concat((y_id_test, pd.Series(y_pred_xgb)), axis=1)\n",
        "subm.rename(columns={0: 'checked'}, inplace=True)\n",
        "subm.to_csv('submitxgb0.csv', index=False)"
      ],
      "metadata": {
        "execution": {
          "iopub.status.busy": "2024-09-11T11:58:05.085798Z",
          "iopub.status.idle": "2024-09-11T11:58:05.086242Z",
          "shell.execute_reply.started": "2024-09-11T11:58:05.086005Z",
          "shell.execute_reply": "2024-09-11T11:58:05.086028Z"
        },
        "trusted": true,
        "id": "Nmsm7KDS048R"
      },
      "execution_count": null,
      "outputs": []
    }
  ]
}